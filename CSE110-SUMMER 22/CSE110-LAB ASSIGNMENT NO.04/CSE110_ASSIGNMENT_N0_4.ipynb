{
  "nbformat": 4,
  "nbformat_minor": 0,
  "metadata": {
    "colab": {
      "provenance": []
    },
    "kernelspec": {
      "name": "python3",
      "display_name": "Python 3"
    },
    "language_info": {
      "name": "python"
    }
  },
  "cells": [
    {
      "cell_type": "markdown",
      "source": [
        "\n",
        "# **Assignment pdf link :**\n",
        "\n",
        "https://docs.google.com/document/d/123-t7jBHo8yP2ZArqbZh7axj9Q_htfax/edit\n",
        "\n",
        "----------"
      ],
      "metadata": {
        "id": "O3taW0kGZBxu"
      }
    },
    {
      "cell_type": "markdown",
      "source": [
        "This Assignment is to help you develop your concept of\n",
        "Strings in Python.\n",
        "\n",
        "\n",
        "[Please follow variable naming conventions including using meaningful variable names for all the tasks]\n",
        "\n",
        "When you run your code, please make sure your outputs exactly match the sample outputs for each of the sample inputs given. Check if your code works for other valid inputs not given in the samples.\n",
        "Write the code in Python to do the following tasks:\n",
        "\n",
        "\n",
        "#Task 1\n",
        "\n",
        "\n",
        "Write a Python program that takes a String as an input from the user and prints that String in reverse order. You cannot use the built-in reverse() function for this task.\n",
        "\n",
        "--------------------------\n",
        "\n",
        "Sample Input 1:\n",
        "\n",
        "CSE110\n",
        "\n",
        "Sample Output 1:\n",
        "\n",
        "011ESC\n",
        "\n",
        "----------------------\n",
        "\n",
        "Sample Input 2:\n",
        "\n",
        "Python\n",
        "\n",
        "Sample Output 2:\n",
        "\n",
        "nohtyP\n",
        "\n",
        "\n",
        "--------------------------\n",
        "\n",
        "Sample Input 3:\n",
        "\n",
        "1576527\n",
        "\n",
        "Sample Output 3:\n",
        "\n",
        "7256751\n",
        "\n",
        "----------------\n",
        "\n",
        "\n"
      ],
      "metadata": {
        "id": "v6GJT91aVLSz"
      }
    },
    {
      "cell_type": "code",
      "source": [
        "user=str(input(\" Enter string : \"))\n",
        "\n",
        "new_str=user[::-1]\n",
        "\n",
        "print(new_str)\n"
      ],
      "metadata": {
        "colab": {
          "base_uri": "https://localhost:8080/"
        },
        "id": "sa41Lf27V-ky",
        "outputId": "9694d6df-7f98-4073-9854-03ce07798cb6"
      },
      "execution_count": null,
      "outputs": [
        {
          "output_type": "stream",
          "name": "stdout",
          "text": [
            " Enter string : 123\n",
            "321\n"
          ]
        }
      ]
    },
    {
      "cell_type": "markdown",
      "source": [
        "# Task 2\n",
        "\n",
        "\n",
        "Write a python program that takes 2 inputs from the user, where the first input is a string with length greater than 1. The second input is the index of the first given string from where you have to start reversing. After reversing the first input string from that index, print the new string back to the user. See samples below for clarification.\n",
        "\n",
        "\n",
        "=====================================================================\n",
        "\n",
        "\n",
        "Sample Input 1:\n",
        "\n",
        "72418\n",
        "\n",
        "4\n",
        "\n",
        "Sample Output 1:\n",
        "\n",
        "81427\n",
        "\n",
        "Explanation: Our second input, index '4' is the last index\n",
        "of our first input String '72418', hence the entire string\n",
        "is reversed giving us '81427'.\n",
        "\n",
        "\n",
        "\n",
        "\n",
        "\n",
        "Sample Input 2:\n",
        "\n",
        "12345\n",
        "\n",
        "2\n",
        "\n",
        "Sample Output 2:\n",
        "\n",
        "32145\n",
        "\n",
        "Explanation: The second input is '2' so we have to reverse\n",
        "from index 2 of our first input. The 2nd index of our first\n",
        "input String is '3', index 1 is '2' and index 0 is '1'.\n",
        "Hence, if we reverse indexes 0 to 2, we get '321'. Index 3\n",
        "and 4 which are '4' and '5' respectively remain unchanged\n",
        "hence our final output is '32145'.\n",
        "\n",
        "\n",
        "\n",
        "\n",
        "\n",
        "Sample Input 3:\n",
        "\n",
        "aBcd1234defg\n",
        "\n",
        "5\n",
        "\n",
        "Sample Output 3:\n",
        "\n",
        "21dcBa34defg\n",
        "\n",
        "Explanation: From our first input String 'aBcd1234defg',\n",
        "\n",
        "index 0 = 'a'\n",
        "\n",
        "index 1 = 'B'\n",
        "\n",
        "index 2 = 'c'\n",
        "\n",
        "index 3 = 'd'\n",
        "\n",
        "index 4 = '1'\n",
        "\n",
        "index 5 = '2'\n",
        "\n",
        "index 6 = '3'\n",
        "\n",
        "Since our second input is 5, index 0 to index 5 is reversed\n",
        "and we have '21dcBa' and the rest is unchanged from indexes\n",
        "6 to 11 ('34defg'). Therefore, we have '21dcBa34defg'\n",
        "finally.\n",
        "\n",
        "=============================================================\n",
        "========\n",
        "\n",
        "\n",
        "\n",
        "\n"
      ],
      "metadata": {
        "id": "d6-SfWv0ZNi-"
      }
    },
    {
      "cell_type": "code",
      "source": [
        "user=str(input(\" Enter string : \"))\n",
        "\n",
        "user_idx=int(input(\" Enter index number : \"))\n",
        "\n",
        "user_store=\"\"\n",
        "user_remain=\"\"\n",
        "\n",
        "\n",
        "# Fist we will reverse string upto user index\n",
        "# and store them in 'user_store' storage\n",
        "\n",
        "\n",
        "for i in range(user_idx,-1,-1):\n",
        "  user_store+=user[i]\n",
        "\n",
        "\n",
        "#then we will find out remaining data from user input\n",
        "#and store them in another storage\n",
        "\n",
        "for j in range(user_idx+1,len(user)):\n",
        "  user_remain+=user[j]\n",
        "\n",
        "#And this is the last loop to add remaining\n",
        "# data and print them\n",
        "\n",
        "for k in user_remain:\n",
        "  user_store+=k\n",
        "\n",
        "print(user_store)"
      ],
      "metadata": {
        "colab": {
          "base_uri": "https://localhost:8080/"
        },
        "id": "M0wIA5KZZXxa",
        "outputId": "4245c060-58e8-4cb5-c68b-740ca0187915"
      },
      "execution_count": null,
      "outputs": [
        {
          "output_type": "stream",
          "name": "stdout",
          "text": [
            " Enter string : aBcd1234defg\n",
            " Enter index number : 5\n",
            "21dcBa34defg\n"
          ]
        }
      ]
    },
    {
      "cell_type": "markdown",
      "source": [
        "# Task 3\n",
        "\n",
        "Write a program that takes a string as input and prints\n",
        "“Binary Number” if the string contains only 0s or 1s.\n",
        "Otherwise, print “Not a Binary Number”.\n",
        "\n",
        "-----------------------------------------\n",
        "\n",
        "\n",
        "Sample Input 1:\n",
        "\n",
        "01101101101\n",
        "\n",
        "Sample Output 1:\n",
        "\n",
        "Binary Number\n",
        "\n",
        "\n",
        "--------------------------------\n",
        "\n",
        "\n",
        "Sample Input 2:\n",
        "\n",
        "12344ab0\n",
        "\n",
        "Sample Output 2:\n",
        "\n",
        "Not a Binary Number\n",
        "\n",
        "------------------------------------------\n",
        "\n",
        "\n",
        "Sample Input 3:\n",
        "\n",
        "10127490111\n",
        "\n",
        "Sample Output 3:\n",
        "\n",
        "Not a Binary Number\n",
        "\n",
        "\n",
        "--------------------------------------\n",
        "\n",
        "Sample Input 4:\n",
        "\n",
        "Binary Number\n",
        "\n",
        "Sample Output 4:\n",
        "\n",
        "Not a Binary Number\n",
        "\n",
        "\n",
        "\n",
        "\n"
      ],
      "metadata": {
        "id": "TSho11nRgPx6"
      }
    },
    {
      "cell_type": "code",
      "source": [
        "user=str(input(\" Enter string : \"))\n",
        "bny=-1\n",
        "not_bny=-1\n",
        "\n",
        "for i in user:\n",
        "  if i==\"1\" or i==\"0\":\n",
        "    bny+=1\n",
        "  else:\n",
        "    not_bny+=1\n",
        "\n",
        "if len(user)-1==bny:\n",
        "  print(\" Bianary Number \")\n",
        "else:\n",
        "  print(\" Not Bianary Number \")\n",
        "\n",
        "\n",
        "\n"
      ],
      "metadata": {
        "colab": {
          "base_uri": "https://localhost:8080/"
        },
        "id": "5DXNt9mIgqDr",
        "outputId": "d5562200-f6cb-4147-85d9-86b936a0ff65"
      },
      "execution_count": null,
      "outputs": [
        {
          "output_type": "stream",
          "name": "stdout",
          "text": [
            " Enter string : 12344ab0\n",
            "not bianary\n"
          ]
        }
      ]
    },
    {
      "cell_type": "markdown",
      "source": [
        "# Task 4\n",
        "\n",
        "Write a Python program that will ask the user to enter a\n",
        "word as an input.\n",
        "\n",
        "If the length of the input string is less than 4, then your\n",
        "program should print the same string as an output.\n",
        "\n",
        "If the input string’s length is greater than 3, then your\n",
        "program should add \"er\" at the end of the input string.\n",
        "\n",
        "If the input string already ends with \"er\", then add \"est\"\n",
        "instead, regardless of the length of the input string\n",
        "\n",
        "If the input string already ends with \"est\", then your\n",
        "program should print the same input string as an output.\n",
        "\n",
        "=============================================================\n",
        "=======\n",
        "\n",
        "\n",
        "\n",
        "\n",
        "Sample Input 1:\n",
        "\n",
        "strong\n",
        "\n",
        "Sample Output 1:\n",
        "\n",
        "stronger\n",
        "\n",
        "Explanation: Length of input = 6, not less than 4, greater\n",
        "than 3, does not end with \"er\" or \"est\", therefore \"er\" is\n",
        "added making \"strong\", \"stronger\".\n",
        "\n",
        "=============================================================\n",
        "========\n",
        "\n",
        "\n",
        "\n",
        "\n",
        "Sample Input 2:\n",
        "\n",
        "stronger\n",
        "\n",
        "Sample Output 2:\n",
        "\n",
        "strongest\n",
        "\n",
        "Explanation: Input string ends with \"er\", therefore \"er\" is\n",
        "replaced with \"est\" instead so we have \"strongest\" from\n",
        "\"stronger\".\n",
        "\n",
        "\n",
        "\n",
        "=============================================================\n",
        "========\n",
        "\n",
        "\n",
        "\n",
        "\n",
        "Sample Input 3:\n",
        "\n",
        "\n",
        "strongest\n",
        "\n",
        "Sample Output 3:\n",
        "\n",
        "strongest\n",
        "\n",
        "Explanation: Our input here already ends with \"est\" so the\n",
        "same input i.e. \"strongest\" is printed.\n"
      ],
      "metadata": {
        "id": "n0Olz37pou74"
      }
    },
    {
      "cell_type": "code",
      "source": [
        "user=str(input(\" Enter String : \"))\n",
        "\n",
        "u_len=len(user)\n",
        "\n",
        "if user[-3::]==\"est\":\n",
        "  print(user)\n",
        "elif user[-2::]==\"er\":\n",
        "  new=user.replace(\"er\",\"est\")\n",
        "  print(new)\n",
        "elif u_len<4:\n",
        "  print(user)\n",
        "elif u_len>3:\n",
        "  new=user+\"er\"\n",
        "  print(new)\n",
        "\n"
      ],
      "metadata": {
        "colab": {
          "base_uri": "https://localhost:8080/"
        },
        "id": "XzKwoSrSo5R9",
        "outputId": "0e52fb24-1d95-4b7d-ae7f-d90dd2290b78"
      },
      "execution_count": null,
      "outputs": [
        {
          "output_type": "stream",
          "name": "stdout",
          "text": [
            " Enter String : ber\n",
            "best\n"
          ]
        }
      ]
    },
    {
      "cell_type": "markdown",
      "source": [
        "# Task 5\n",
        "\n",
        "Write a Python program that will ask the user to input a string (containing exactly one word). Then your program should print subsequent substrings of the given string as\n",
        "shown in the examples below.\n",
        "\n",
        "\n",
        "=====================================================================\n",
        "\n",
        "\n",
        "Sample Input 1:\n",
        "\n",
        "BANGLA\n",
        "\n",
        "Sample Output 1:\n",
        "\n",
        "B\n",
        "\n",
        "BA\n",
        "\n",
        "BAN\n",
        "\n",
        "BANG\n",
        "\n",
        "BANGL\n",
        "\n",
        "BANGLA\n",
        "\n",
        "Explanation: The length of the string is 6 so there are 6\n",
        "lines where in each line a substring of the input string, of\n",
        "length equal to the line number is printed i.e. substring\n",
        "with only the letter \"B\" printed in the first line,\n",
        "substring \"BA\" of length 2 printed in the 2nd line, \"BAN\"\n",
        "length of which is 3 being printed in the 3rd line and so on.\n",
        "\n",
        "\n",
        "\n",
        "\n",
        "Sample Input 2:\n",
        "\n",
        "DREAM\n",
        "\n",
        "Sample Output 2:\n",
        "\n",
        "D\n",
        "\n",
        "DR\n",
        "\n",
        "DRE\n",
        "\n",
        "DREA\n",
        "\n",
        "DREAM\n",
        "\n",
        "Explanation: Simply, no of lines = length of the input\n",
        "string and no of letters in each line = line number.\n",
        "\n"
      ],
      "metadata": {
        "id": "VuBqOXn8ZycL"
      }
    },
    {
      "cell_type": "code",
      "source": [
        "user=str(input(\" Enter string : \"))\n",
        "new=\"\"\n",
        "\n",
        "for i in user:\n",
        "  new+=i\n",
        "  print(new)\n",
        "\n",
        "#here we are using a loop and add item to\n",
        "#our \"new\" named storage to we already know\n",
        "#loop adding elements one by one\n",
        "#thats how we can solve our code\n",
        "\n",
        "\n"
      ],
      "metadata": {
        "colab": {
          "base_uri": "https://localhost:8080/"
        },
        "id": "9wdemddxZ_3n",
        "outputId": "6ccb7f51-8ffe-4976-9f41-9590ff4071af"
      },
      "execution_count": null,
      "outputs": [
        {
          "output_type": "stream",
          "name": "stdout",
          "text": [
            " Enter string : sijan\n",
            "s\n",
            "si\n",
            "sij\n",
            "sija\n",
            "sijan\n"
          ]
        }
      ]
    },
    {
      "cell_type": "markdown",
      "source": [
        "\n",
        "# Task 6\n",
        "\n",
        "Write a Python program that will ask the user to input a\n",
        "string (containing exactly one word). Then print the ASCII\n",
        "code for each character in the String using the ord()\n",
        "function.\n",
        "\n",
        "To check if your program is working correctly or not, you\n",
        "can find a list of all correct values from the following\n",
        "website. You may look at “Dec” and “Char” columns only and\n",
        "ignore the other columns for this problem.\n",
        "\n",
        "link: http://www.asciitable.com/\n",
        "\n",
        "=============================================================\n",
        "========\n",
        "\n",
        "Sample Input 1:\n",
        "\n",
        "Programming\n",
        "\n",
        "Sample Output 1:\n",
        "\n",
        "P : 80\n",
        "\n",
        "r : 114\n",
        "\n",
        "o : 111\n",
        "\n",
        "g : 103\n",
        "\n",
        "r : 114\n",
        "\n",
        "a : 97\n",
        "\n",
        "m : 109\n",
        "\n",
        "m : 109\n",
        "\n",
        "i : 105\n",
        "\n",
        "n : 110\n",
        "\n",
        "g : 103\n",
        "\n",
        "Explanation: Each line prints a letter sequentially from the\n",
        "given string and its corresponding ASCII value separated by\n",
        "\" : \".\n",
        "\n",
        "=============================================================\n",
        "========\n",
        "\n",
        "\n",
        "\n",
        "Sample Input 2:\n",
        "\n",
        "hunger\n",
        "\n",
        "Sample Output 2:\n",
        "\n",
        "h : 104\n",
        "\n",
        "u : 117\n",
        "\n",
        "n : 110\n",
        "\n",
        "g : 103\n",
        "\n",
        "e : 101\n",
        "\n",
        "r : 114\n",
        "\n",
        "Explanation: Same as previous.\n"
      ],
      "metadata": {
        "id": "fS9NQKBRWraQ"
      }
    },
    {
      "cell_type": "code",
      "source": [
        "user=str(input(\"Enter any string : \"))\n",
        "\n",
        "for i in user:\n",
        "  print(i, \":\",ord(i))\n",
        "\n",
        "\n",
        "#here we used loop to print every single element\n",
        "#and ord(i) means the ascii value of elements\n",
        "\n"
      ],
      "metadata": {
        "colab": {
          "base_uri": "https://localhost:8080/"
        },
        "id": "epbH_YXIWoxW",
        "outputId": "20a5e7db-6e7e-4135-84ca-19818f3e520c"
      },
      "execution_count": 4,
      "outputs": [
        {
          "output_type": "stream",
          "name": "stdout",
          "text": [
            "Enter any string : sijan\n",
            "s : 115\n",
            "i : 105\n",
            "j : 106\n",
            "a : 97\n",
            "n : 110\n"
          ]
        }
      ]
    },
    {
      "cell_type": "markdown",
      "source": [
        "# Task 7\n",
        "\n",
        "\n",
        "Write a Python program that takes a string as an input from\n",
        "the user containing all small letters and then prints the\n",
        "next alphabet in sequence for each alphabet in the input.\n",
        "\n",
        "Hint: You may need to use the functions ord() and chr(). The\n",
        "\n",
        "ASCII value of ‘a’ is 97 and ‘z’ is 122.\n",
        "\n",
        "=============================================================\n",
        "========\n",
        "\n",
        "Sample Input 1:\n",
        "\n",
        "abcd\n",
        "\n",
        "Sample Output 1:\n",
        "\n",
        "bcde\n",
        "\n",
        "=============================================================\n",
        "========\n",
        "\n",
        "Sample Input 2:\n",
        "\n",
        "the cow\n",
        "\n",
        "Sample Output 2:\n",
        "\n",
        "uif!dpx\n",
        "\n",
        "=============================================================\n",
        "========\n",
        "\n",
        "Sample Input 3: [Must fulfil this criteria]\n",
        "\n",
        "xyzabc\n",
        "\n",
        "Sample Output 3:\n",
        "\n",
        "yzabcd\n",
        "\n",
        "=============================================================\n",
        "\n",
        "========\n",
        "\n",
        "\n",
        "\n"
      ],
      "metadata": {
        "id": "ATME6YAkaxav"
      }
    },
    {
      "cell_type": "code",
      "source": [
        "user=str(input(\" Enter string : \"))\n",
        "new=\"\"\n",
        "\n",
        "\n",
        "for i in user:\n",
        "  if ord(i)==122:\n",
        "    next=ord(i)-25\n",
        "    new+=chr(next)\n",
        "\n",
        "  else:\n",
        "    next=ord(i)+1\n",
        "    new+=chr(next)\n",
        "\n",
        "print(new)\n",
        "\n",
        "\n",
        "#here we add +1 with ascii value to find\n",
        "# the next character and for \"z\" +1 condition is not\n",
        "# appropriate so we took another step for converting z to a"
      ],
      "metadata": {
        "colab": {
          "base_uri": "https://localhost:8080/"
        },
        "id": "1mMemvMMbDjy",
        "outputId": "df89f470-57ec-4594-f538-c4d722af8041"
      },
      "execution_count": 13,
      "outputs": [
        {
          "output_type": "stream",
          "name": "stdout",
          "text": [
            " Enter string : aaz\n",
            "bba\n"
          ]
        }
      ]
    },
    {
      "cell_type": "markdown",
      "source": [
        "# Task 8\n",
        "\n",
        "\n",
        "Write a Python program that takes a String as input from the\n",
        "user, removes the characters at even index and prints the\n",
        "resulting String in uppercase without using the built-in\n",
        "function upper().\n",
        "\n",
        "=============================================================\n",
        "\n",
        "Sample Input 1:\n",
        "\n",
        "String\n",
        "\n",
        "Sample Output 1:\n",
        "\n",
        "TIG\n",
        "\n",
        "Explanation: The characters 'S', 'r' and 'n' are at index\n",
        "positions 0, 2, and 4 respectively. Hence they are removed\n",
        "and the remaining characters 'tig' are capitalized giving us\n",
        "output 'TIG'.\n",
        "\n",
        "=============================================================\n",
        "\n",
        "Sample Input 2:\n",
        "\n",
        "abcd\n",
        "\n",
        "Sample Output 2:\n",
        "\n",
        "BD\n",
        "\n",
        "Explanation: Only the characters at the odd indices, 1 and\n",
        "3, 'b' and 'd' are capitalized, concatenated and printed.\n",
        "\n",
        "=============================================================\n",
        "\n",
        "\n",
        "\n"
      ],
      "metadata": {
        "id": "PLmsMT55dz5s"
      }
    },
    {
      "cell_type": "code",
      "source": [
        "user = str(input(\" Enter string \"))\n",
        "upper=\"\"\n",
        "\n",
        "for i in range(1,len(user),2):\n",
        "\n",
        "  convert=ord(user[i])-32\n",
        "  upper+=chr(convert)\n",
        "\n",
        "print(upper)\n",
        "\n",
        "\n",
        "#convert lower case to upper by substituting 32\n",
        "# from small letter and convert using chr function"
      ],
      "metadata": {
        "colab": {
          "base_uri": "https://localhost:8080/"
        },
        "id": "PEN2lDpqd9E7",
        "outputId": "7710cadc-9c54-419e-829b-112e5df09477"
      },
      "execution_count": 18,
      "outputs": [
        {
          "output_type": "stream",
          "name": "stdout",
          "text": [
            " Enter string string\n",
            "t\n",
            "i\n",
            "g\n",
            "TIG\n"
          ]
        }
      ]
    },
    {
      "cell_type": "markdown",
      "source": [
        "# Task 9\n",
        "\n",
        "\n",
        "Given a string, create a new string with all the consecutive\n",
        "duplicates removed.\n",
        "\n",
        "Hint: You may make a new string to store the result. You can\n",
        "check whether the current character and the next character\n",
        "are the same, then add that character to the new string.\n",
        "\n",
        "Note: Only consecutive letters are removed, not all\n",
        "duplicate occurrences of a letter. You may try doing this\n",
        "alternative i.e., removing all duplicate letters from a\n",
        "given string, for your own practice.\n",
        "\n",
        "\n",
        "\n",
        "\n",
        "\n",
        "Sample Input 1:\n",
        "\n",
        "AAABBBBCDDBBECE\n",
        "\n",
        "Sample Output 1:\n",
        "\n",
        "ABCDBECE\n",
        "\n",
        "Explanation: From the 3 consecutive \"A\"s, 2 are removed and\n",
        "we have 'A' only. Then from the 4 consecutives 'B's, 3 are\n",
        "removed and only one is added to the new string giving us\n",
        "\"AB\". Since we have only one 'C' next, it is added making\n",
        "the resulting string \"ABC\" now and so on.\n",
        "\n",
        "\n",
        "\n",
        "\n",
        "\n",
        "\n",
        "Sample Input 2:\n",
        "Jupyter Notebook is better. Case sensitivity check AAaaaAaaAAAa.\n",
        "Sample Output 2:\n",
        "Jupyter Notebok is beter. Case sensitivity check AaAaAa.\n",
        "Explanation: Just the 2 consecutive 'o's and 't's are changed to one at first and the uppercase 'A' and lowercase 'a' are treated separately i.e., case sensitive when checking for consecutive duplicates.\n"
      ],
      "metadata": {
        "id": "ggWv8346fkZa"
      }
    },
    {
      "cell_type": "code",
      "source": [
        "user=str(input(\" Enter string : \"))\n",
        "\n",
        "new=\"\"\n",
        "\n",
        "for i in user:\n",
        "  if i not in new:\n",
        "    new+=i\n",
        "print(new)\n",
        "\n",
        "\n",
        "#create a storage and add elements\n",
        "#if elements are already in there\n",
        "# then skip that element and try with another\n",
        "\n"
      ],
      "metadata": {
        "colab": {
          "base_uri": "https://localhost:8080/"
        },
        "id": "YTn5UNpXfoma",
        "outputId": "59428af1-23fc-44e4-8c30-cb2474ed2309"
      },
      "execution_count": 22,
      "outputs": [
        {
          "output_type": "stream",
          "name": "stdout",
          "text": [
            " Enter string : AAAAAAbbbbbcd\n",
            "Abcd\n"
          ]
        }
      ]
    },
    {
      "cell_type": "markdown",
      "source": [
        "\n",
        "# Task 10\n",
        "\n",
        "Write a Python program that will take one input from the\n",
        "user made up of two strings separated by a comma and a space\n",
        "(see samples below). Then create a mixed string with\n",
        "alternative characters from each string. Any leftover chars\n",
        "will be appended at the end of the resulting string. [ Do\n",
        "not use lists for this task]\n",
        "\n",
        "Hint: For adding the leftover characters you may use string\n",
        "slicing.\n",
        "\n",
        "\n",
        "\n",
        "=============================================================\n",
        "\n",
        "\n",
        "Sample Input 1:\n",
        "\n",
        "ABCD, efgh\n",
        "\n",
        "Sample Output 1:\n",
        "\n",
        "AeBfCgDh\n",
        "\n",
        "Explanation: At first, the two strings divided by \", \"\n",
        "should be separated. Then the first character of the first\n",
        "string 'A' is concatenated with the first character of the\n",
        "second string 'e' which in turn is concatenated to the\n",
        "second character of the first string 'B', the second\n",
        "character of the second-string f and so on since the strings\n",
        "are of equal length.\n",
        "\n",
        "=============================================================\n",
        "\n",
        "\n",
        "Sample Input 2:\n",
        "\n",
        "ABCDENDFGH, ijkl\n",
        "\n",
        "Sample Output 2:\n",
        "\n",
        "AiBjCkDlENDFGH\n",
        "\n",
        "Explanation: Here, since the length of the first string is\n",
        "\n",
        "greater than the length of the second string, after\n",
        "separation, the characters are concatenated alternatively as\n",
        "in sample input/output 1, till the length of the second\n",
        "string i.e., ijkl. Since, there are no more characters in\n",
        "the second string after that, the remaining characters of\n",
        "the first string i.e., ENDFGH in this case are concatenated\n",
        "at the end of the final string.\n",
        "\n",
        "=============================================================\n",
        "\n",
        "\n",
        "Sample Input 3:\n",
        "\n",
        "ijkl, ABCDENDFGH\n",
        "\n",
        "Sample Output 3:\n",
        "\n",
        "iAjBkClDENDFGH\n",
        "\n",
        "Explanation: This time, the length of the second string is\n",
        "greater than the length of the first string therefore the\n",
        "first letters of the 2 strings 'i' and 'A', then the second\n",
        "letters 'j' and 'B' and so on are being concatenated until\n",
        "there are no more letters in the first shorter string\n",
        "following which the remaining letters i.e., ENDFGH again in\n",
        "this case too (this may be different for other different\n",
        "string inputs) are added at the end giving us the resulting\n",
        "output string.\n"
      ],
      "metadata": {
        "id": "b65-K7kwgae2"
      }
    },
    {
      "cell_type": "code",
      "source": [
        "user=str(input(\" enter string separate by ',' : \"))\n",
        "s_plit=user.split(\",\")\n",
        "new=\"\"\n",
        "\n",
        "f_len=len(s_plit[0])\n",
        "s_len=len(s_plit[1])\n",
        "f=0\n",
        "s=0\n",
        "\n",
        "\n",
        "while f<f_len or s<s_len:\n",
        "  if f<f_len:\n",
        "    new+=s_plit[0][f]\n",
        "    f+=1\n",
        "  if s<s_len:\n",
        "    new+=s_plit[1][s]\n",
        "    s+=1\n",
        "\n",
        "\n",
        "print(new)\n",
        "\n",
        "\n",
        "\n",
        "\n",
        "\n",
        ""
      ],
      "metadata": {
        "colab": {
          "base_uri": "https://localhost:8080/"
        },
        "id": "w3Wl1xRwgnNm",
        "outputId": "e56267a3-6171-4179-ee4d-0138bc128c67"
      },
      "execution_count": 5,
      "outputs": [
        {
          "output_type": "stream",
          "name": "stdout",
          "text": [
            " enter string separate by ',' : abcd,xyz\n",
            "axbyczd\n"
          ]
        }
      ]
    },
    {
      "cell_type": "markdown",
      "source": [
        "----\n",
        "Optional Tasks (16-19) [Ungraded]\n",
        "\n",
        "These tasks are just for practice. No marks will be deducted for not completing them and no extra marks will be given for solving them. Just try and practice these advanced problems.\n",
        "\n",
        "----\n",
        "\n",
        "\n",
        "# Task 16\n",
        "\n",
        "Write a python program that takes 2 inputs from the user.\n",
        "The first input is a string and the second input is a\n",
        "letter. The program should remove all occurences of the\n",
        "letter from the given string and print the output. If the\n",
        "letter is not found in the string and the length of string\n",
        "is greater than 3, then remove the first letter and last\n",
        "letter of the given string and print it. Otherwise print the\n",
        "string as it is. You can assume that all the input will be\n",
        "in lowercase letter.\n",
        "\n",
        "\n",
        "\n",
        "\n",
        "\n",
        "\n",
        "Sample Input 1:\n",
        "\n",
        "tanjiro kamado\n",
        "\n",
        "a\n",
        "\n",
        "Sample output 1:\n",
        "\n",
        "tnjiro kmdo\n",
        "\n",
        "Explanation: All 3 instances of the character 'a' is removed\n",
        "from the input String 'tanjiro kamado' to give us output\n",
        "'tnjiro kmdo'.\n",
        "\n",
        "\n",
        "\n",
        "\n",
        "\n",
        "Sample Input 2:\n",
        "\n",
        "eren yeager\n",
        "\n",
        "k\n",
        "\n",
        "Sample Output 2:\n",
        "\n",
        "ren yeage\n",
        "\n",
        "Explanation: The character 'k' is absent in the first input\n",
        "String 'eren yeager' and it's length is 11 which is greater\n",
        "than 3 therefore the first character 'e' and the last\n",
        "character 'r' is removed. Hence, the final String is 'ren\n",
        "yeage'.\n",
        "\n",
        "\n",
        "\n",
        "\n",
        "Sample Input 3:\n",
        "hi\n",
        "a\n",
        "Sample Output 3:\n",
        "hi\n",
        "Explanation: The letter 'a' is not found in our first input 'hi', the length of which is 2. Since the character is not present and the length is less than 3, we print the String 'hi' as it is.\n"
      ],
      "metadata": {
        "id": "UW5U8LLgxSBx"
      }
    },
    {
      "cell_type": "code",
      "source": [
        "x=str(input(\" Enter first string : \"))\n",
        "\n",
        "y=str(input(\" Enter another string : \"))\n",
        "\n",
        "new=\"\"\n",
        "for i in x:\n",
        "  if i!=y:\n",
        "    new+=i\n",
        "  else:\n",
        "    print(x)\n",
        "print(new)\n"
      ],
      "metadata": {
        "colab": {
          "base_uri": "https://localhost:8080/"
        },
        "id": "GCvSoNAkxZhw",
        "outputId": "94901502-4511-49f9-805d-847d562ad8da"
      },
      "execution_count": 8,
      "outputs": [
        {
          "output_type": "stream",
          "name": "stdout",
          "text": [
            " Enter first string : hi\n",
            " Enter another string : a\n",
            "hi\n"
          ]
        }
      ]
    },
    {
      "cell_type": "markdown",
      "source": [
        "\n",
        "\n",
        "\n",
        "\n",
        "# Task 17\n",
        "\n",
        "\n",
        "Write a python program that splits a given string on a given\n",
        "split character. The first input is a String and the second\n",
        "input is the character that will be used to split the first\n",
        "String.\n",
        "\n",
        "[You cannot use the built-in split() function for this task]\n",
        "\n",
        "=============================================================\n",
        "Sample Input 1:\n",
        "\n",
        "This-is-CSE110\n",
        "\n",
        "-\n",
        "\n",
        "Sample Output 1:\n",
        "\n",
        "\n",
        "This\n",
        "\n",
        "is\n",
        "\n",
        "CSE110\n",
        "\n",
        "Explanation: The second input which is the character '-', is\n",
        "used to split or divide the first input String\n",
        "'This-is-CSE110' into 'This', 'is' and 'CSE110' which are\n",
        "printed individually in separate lines.\n",
        "\n",
        "=============================================================\n",
        "\n",
        "========\n",
        "\n",
        "Sample Input 2:\n",
        "\n",
        "\n",
        "tom@gmail,harry@yahoo,bob@gmail,mary@gmail\n",
        "\n",
        "\n",
        ",\n",
        "\n",
        "\n",
        "Sample Output 2:\n",
        "tom@gmail\n",
        "\n",
        "harry@yahoo\n",
        "\n",
        "bob@gmail\n",
        "\n",
        "mary@gmail\n",
        "\n",
        "\n",
        "\n",
        "\n"
      ],
      "metadata": {
        "id": "RGLUvL5DyY8G"
      }
    },
    {
      "cell_type": "code",
      "source": [
        "user_str=str(input(\" Enter string : \"))\n",
        "user_sp=str(input(\" Enter to split : \"))\n",
        "x=\"\"\n",
        "y=\"\"\n",
        "\n",
        "for i in user_str:\n",
        "  if i==user_sp:\n",
        "    y+=i\n",
        "  else:\n",
        "    x+=i\n",
        "\n",
        "print(x)\n",
        "\n",
        "\n",
        "#this code is under progress\n",
        "\n"
      ],
      "metadata": {
        "colab": {
          "base_uri": "https://localhost:8080/"
        },
        "id": "qhUd-ivqyX-0",
        "outputId": "32276b7f-f83d-492d-89e4-7635d27c4c4f"
      },
      "execution_count": 13,
      "outputs": [
        {
          "output_type": "stream",
          "name": "stdout",
          "text": [
            " Enter string : sijan,jisan\n",
            " Enter to split : ,\n",
            "s\n",
            "si\n",
            "sij\n",
            "sija\n",
            "sijan\n",
            "sijan\n",
            "sijanj\n",
            "sijanji\n",
            "sijanjis\n",
            "sijanjisa\n",
            "sijanjisan\n"
          ]
        }
      ]
    },
    {
      "cell_type": "markdown",
      "source": [
        "# Task 18\n",
        "\n",
        "Write a python program that takes two inputs. The first\n",
        "input is a string and the second input is a number. If the\n",
        "number is even then concatenate the given string two times\n",
        "the given number and if the number is odd then concatenate\n",
        "the given string three times the given number.\n",
        "\n",
        "=============================================================\n",
        "========\n",
        "\n",
        "\n",
        "Sample Input 1:\n",
        "\n",
        "CSE110\n",
        "\n",
        "4\n",
        "\n",
        "Sample output 1:\n",
        "\n",
        "CSE110CSE110CSE110CSE110CSE110CSE110CSE110CSE110\n",
        "\n",
        "Explanation: The second input which is the number 4 is even,\n",
        "therefore the first-string input 'CSE110' is concatenated\n",
        "(joined together) 4*2 = 8 times.\n",
        "\n",
        "=============================================================\n",
        "========\n",
        "\n",
        "Sample Input 2:\n",
        "\n",
        "CSE110\n",
        "\n",
        "3\n",
        "\n",
        "Sample Output 2:\n",
        "\n",
        "\n",
        "CSE110CSE110CSE110CSE110CSE110CSE110CSE110CSE110CSE110\n"
      ],
      "metadata": {
        "id": "8iVg1eNJ1_Ks"
      }
    },
    {
      "cell_type": "code",
      "source": [
        "user=str(input(\" Enter string : \"))\n",
        "\n",
        "num=int(input(\" Enter number : \"))\n",
        "\n",
        "\n",
        "for i in user:\n",
        "  if num%2==0:\n",
        "    x=user*(num*2)\n",
        "    print(x)\n",
        "    break\n",
        "  else:\n",
        "    x=user*(num*3)\n",
        "    print(x)\n",
        "    break"
      ],
      "metadata": {
        "colab": {
          "base_uri": "https://localhost:8080/"
        },
        "id": "7V29ncd32IQh",
        "outputId": "0dd85a69-71b0-48fc-e0b6-e7195e1dcc7c"
      },
      "execution_count": 19,
      "outputs": [
        {
          "output_type": "stream",
          "name": "stdout",
          "text": [
            " Enter string : cse110\n",
            " Enter number : 4\n",
            "cse110cse110cse110cse110cse110cse110cse110cse110\n"
          ]
        }
      ]
    },
    {
      "cell_type": "markdown",
      "source": [
        "# Task 19\n",
        "\n",
        "Write a python program that takes a string as an input from\n",
        "the user and then modifies the string in such a way that the\n",
        "string always starts with an uppercase letter and the case\n",
        "of each subsequent letter is the opposite of the previous\n",
        "letter (uppercase character followed by a lowercase\n",
        "character followed by an uppercase character and so on).\n",
        "Finally, the modified string is printed to show the user.\n",
        "\n",
        "Hint: Flags/counters can be used to manage\n",
        "uppercase-lowercase.\n",
        "\n",
        "=============================================================\n",
        "========\n",
        "\n",
        "\n",
        "Sample Input 1:\n",
        "\n",
        "Python programming is very easy\n",
        "\n",
        "Sample Output 1:\n",
        "\n",
        "PyThOn PrOgRaMmInG iS vErY eAsY\n",
        "\n",
        "=============================================================\n",
        "========\n",
        "\n",
        "\n",
        "Sample Input 2:\n",
        "\n",
        "I       love         Python         Programming\n",
        "\n",
        "Sample Output 2:\n",
        "\n",
        "I       lOvE        pYtHoN        pRoGrAmMiNg\n",
        "\n",
        "=============================================================\n",
        "========\n",
        "\n",
        "\n",
        "Sample Input 3:\n",
        "\n",
        "CSE110 Course\n",
        "\n",
        "Sample Output 3\n",
        "\n",
        "CsE110 cOuRsE\n",
        "\n",
        "=============================================================\n",
        "========\n",
        "\n",
        "\n",
        "Sample Input 4:\n",
        "\n",
        "c\n",
        "\n",
        "Sample Output 4:\n",
        "\n",
        "C\n",
        "\n",
        "=====================\n",
        "\n",
        "\n"
      ],
      "metadata": {
        "id": "hZmkRvab3Sis"
      }
    },
    {
      "cell_type": "code",
      "source": [
        "x=len(\"PyThOn PrOgRaMmInG iS vErY eAsY\")\n",
        "print(x)"
      ],
      "metadata": {
        "colab": {
          "base_uri": "https://localhost:8080/"
        },
        "id": "RA1t6BPr3kXh",
        "outputId": "33880517-8cb8-4d0a-ca47-2b18b3e8c31d"
      },
      "execution_count": 23,
      "outputs": [
        {
          "output_type": "stream",
          "name": "stdout",
          "text": [
            "31\n"
          ]
        }
      ]
    },
    {
      "cell_type": "code",
      "source": [
        "user=str(input(\" Enter string : \"))\n",
        "new=\"\"\n",
        "\n",
        "for i in range(1,len(user)):\n",
        "  if i%2==0:\n",
        "    new+=user[i]\n",
        "  else:\n",
        "    new+=user[i].upper()\n",
        "\n",
        "new_2=user[0].upper()\n",
        "string=new_2+new\n",
        "print(string)\n",
        "\n",
        "\n",
        "\n",
        "\n",
        "\n"
      ],
      "metadata": {
        "colab": {
          "base_uri": "https://localhost:8080/"
        },
        "id": "N1GgRGGU3w_Y",
        "outputId": "cafd9d7a-5dbb-4737-81de-f3b588c67c2e"
      },
      "execution_count": 42,
      "outputs": [
        {
          "output_type": "stream",
          "name": "stdout",
          "text": [
            " Enter string : c\n",
            "C\n"
          ]
        }
      ]
    }
  ]
}