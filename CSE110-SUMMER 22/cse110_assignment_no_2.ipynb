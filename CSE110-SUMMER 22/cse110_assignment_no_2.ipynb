{
  "nbformat": 4,
  "nbformat_minor": 0,
  "metadata": {
    "colab": {
      "provenance": []
    },
    "kernelspec": {
      "name": "python3",
      "display_name": "Python 3"
    },
    "language_info": {
      "name": "python"
    }
  },
  "cells": [
    {
      "cell_type": "markdown",
      "source": [
        "# PDF link of assignment no 2:\n",
        "https://drive.google.com/file/d/1k7jGeKrfRp7_QtjCRp83qrFbMw9VvZEO/view"
      ],
      "metadata": {
        "id": "5u2OA5tUqicg"
      }
    },
    {
      "cell_type": "markdown",
      "source": [
        "# **Task 1**\n",
        "\n",
        "Write the Python code of a program that reads two numbers from the user, and prints their sum,\n",
        "product, and difference.\n",
        "Hint: subtract the second number from the first one\n",
        "==========================================================\n",
        "\n",
        "\n",
        "Example 1:\n",
        "Sample Input:\n",
        "4\n",
        "\n",
        "5\n",
        "Sample Output:\n",
        "\n",
        "Sum = 9\n",
        "\n",
        "Product = 20\n",
        "\n",
        "Difference = -1\n",
        "\n",
        "==========================================================\n",
        "\n",
        "\n",
        "Example 2:\n",
        "Sample Input:\n",
        "30\n",
        "\n",
        "2\n",
        "Sample Output:\n",
        "\n",
        "Sum = 32\n",
        "\n",
        "Product = 60\n",
        "\n",
        "Difference = 28\n",
        "\n",
        "\n",
        "\n",
        "\n",
        "==========================================================\n",
        "\n",
        "\n",
        "\n",
        "For your explanation, the first question's code is done below. Try relating the block of code with\n",
        "the lessons you have learned and try to understand the significance of each line. You're most\n",
        "welcome to copy and paste the code on your IDE and play around with the code. This will\n",
        "strengthen your understanding."
      ],
      "metadata": {
        "id": "gcacX_yxnHwW"
      }
    },
    {
      "cell_type": "code",
      "source": [
        "#first we will write a code for taking input\n",
        "\n",
        "user1=input(\" Enter first your number :  \")\n",
        "user2=input(\" Enter your second number : \")\n",
        "\n",
        "#here our number is in string so, we will convert this\n",
        "# to int and we will apply formula\n",
        "\n",
        "#first we will write code for first output which is\n",
        "# sum of two number|| lets write this code\n",
        "\n",
        "sum= int(user1)+int(user1)\n",
        "\n",
        "#here we convert our string into int(integer) for math calculations\n",
        "\n",
        "product=int(user1)* int(user2)\n",
        "diff=int(user1)-int(user2)\n",
        "\n",
        "\n",
        "#now we will write print statement\n",
        "\n",
        "print(\" Sum : \", sum)\n",
        "print(\" Product : \", product)\n",
        "print(\" Difference : \", diff)"
      ],
      "metadata": {
        "colab": {
          "base_uri": "https://localhost:8080/"
        },
        "id": "CZwJwmspnQ_d",
        "outputId": "3989fd67-1444-4019-8345-370c1435f816"
      },
      "execution_count": null,
      "outputs": [
        {
          "output_type": "stream",
          "name": "stdout",
          "text": [
            " Enter first your number :  1\n",
            " Enter your second number : 2\n",
            " Sum :  2\n",
            " Product :  2\n",
            " Difference :  -1\n"
          ]
        }
      ]
    },
    {
      "cell_type": "markdown",
      "source": [
        "#Task 2\n",
        "\n",
        "Write the Python code of a program that reads the radius of a circle and prints its circumference\n",
        "and area.\n",
        "\n",
        "\n",
        "==========================================================\n",
        "\n",
        "\n",
        "hint(1): we may import math and then use math.pi for getting the value of pi.\n",
        "For details, we can read from https://docs.python.org/3/library/math.html\n",
        "hint(2): we can import math and use the math function for making squares with math.pow(number,\n",
        "power) or we can simply use the power operator. For example: S**2.\n",
        "\n",
        "\n",
        "==========================================================\n",
        "\n",
        "\n",
        "\n",
        "Example 1:\n",
        "Sample Input:\n",
        "4\n",
        "Sample Output:\n",
        "Area is 50.26548245743669\n",
        "Circumference is 25.132741228718345\n",
        "\n",
        "\n",
        "==========================================================\n",
        "\n",
        "\n",
        "Example 2:\n",
        "Sample Input:\n",
        "3.5\n",
        "Sample Output:\n",
        "Area is 38.48451000647496\n",
        "Circumference is 21.991148575128552\n",
        "For your understanding, the first part of the question (area calculation) is done below. Please\n",
        "copy and paste the code to your solution .ipynb file and complete the rest of the code for\n",
        "circumference calculation."
      ],
      "metadata": {
        "id": "qfiReHAlpzNZ"
      }
    },
    {
      "cell_type": "code",
      "source": [
        "import math\n",
        "\n",
        "radius=float(input(\"Enter the radius : \"))\n",
        "\n",
        "area=math.pi * (radius**2)\n",
        "circum= 2 * math.pi * radius\n",
        "\n",
        "print(\" area is : \", area )\n",
        "print(\" circumference : \", circum)\n"
      ],
      "metadata": {
        "colab": {
          "base_uri": "https://localhost:8080/"
        },
        "id": "kititFyXqOqk",
        "outputId": "49c608c8-693e-4f97-e80e-1637fd6ad8e6"
      },
      "execution_count": null,
      "outputs": [
        {
          "output_type": "stream",
          "name": "stdout",
          "text": [
            "Enter the radius : 4\n",
            "area is :  50.26548245743669\n",
            " circumference :  25.132741228718345\n"
          ]
        }
      ]
    },
    {
      "cell_type": "markdown",
      "source": [
        "#Task 3\n",
        "\n",
        "Write the Python code of a program that reads two numbers from the user. The program should\n",
        "then print \"First is greater\" if the first number is greater, \"Second is greater\" if the second number\n",
        "is greater, and \"The numbers are equal\" otherwise.\n",
        "\n",
        "\n",
        "==========================================================\n",
        "\n",
        "Sample Input 1:\n",
        "\n",
        "7\n",
        "\n",
        "3\n",
        "\n",
        "Sample Output 1:\n",
        "First is greater\n",
        "\n",
        "==========================================================\n",
        "\n",
        "\n",
        "Sample Input 2:\n",
        "\n",
        "-33\n",
        "\n",
        "-3\n",
        "\n",
        "Sample Output 2:\n",
        "Second is greater\n",
        "\n",
        "\n",
        "==========================================================\n",
        "\n",
        "\n",
        "Sample Input 1:\n",
        "11\n",
        "11\n",
        "Sample Output 1:\n",
        "The numbers are equal"
      ],
      "metadata": {
        "id": "r0Fh8E-xrm_D"
      }
    },
    {
      "cell_type": "code",
      "source": [
        "num1=float(input(\" enter first number : \"))\n",
        "num2=float(input(\"enter another number : \"))\n",
        "\n",
        "if num1>num2:\n",
        "  print(\" First number if greater \")\n",
        "elif num2>num1:\n",
        "  print(\" Second number is greater \")\n",
        "elif num1==num2:\n",
        "  print(\" numbers are equals \")"
      ],
      "metadata": {
        "colab": {
          "base_uri": "https://localhost:8080/"
        },
        "id": "va175o2RrmXQ",
        "outputId": "c44bd5a8-b8ab-461e-ff45-a885af243971"
      },
      "execution_count": null,
      "outputs": [
        {
          "output_type": "stream",
          "name": "stdout",
          "text": [
            " enter first number : -2222\n",
            "enter another number : 2\n",
            " Second number is greater \n"
          ]
        }
      ]
    },
    {
      "cell_type": "markdown",
      "source": [
        "# Task 4\n",
        "\n",
        "Write the Python code of a program that reads two numbers, subtracts the smaller number from\n",
        "the larger one, and prints the result.\n",
        "Hint: First, we may check which number is greater\n",
        "\n",
        "\n",
        "==========================================================\n",
        "\n",
        "\n",
        "Sample Input 1:\n",
        "\n",
        "-40\n",
        "\n",
        "-4\n",
        "\n",
        "Sample Output 1:\n",
        "\n",
        "36\n",
        "\n",
        "Explanation: -4 > -40 so -4 - (-40) = -4 + 40 = 36\n",
        "\n",
        "\n",
        "==========================================================\n",
        "\n",
        "\n",
        "Sample Input 2:\n",
        "\n",
        "6\n",
        "\n",
        "2\n",
        "\n",
        "Sample Output 2:\n",
        "\n",
        "4\n",
        "==========================================================\n",
        "\n",
        "\n",
        "Sample Input 3:\n",
        "\n",
        "5\n",
        "\n",
        "5\n",
        "\n",
        "Sample Output 3:"
      ],
      "metadata": {
        "id": "Zqlii0wcsnUy"
      }
    },
    {
      "cell_type": "code",
      "source": [
        "num1=int(input(\" Enter first number : \"))\n",
        "num2=int(input(\" Enter another number : \"))\n",
        "\n",
        "if num1>num2:\n",
        "  sub=num1-num2\n",
        "  print(sub)\n",
        "elif num2>num1:\n",
        "  sub=num2-num1\n",
        "  print(sub)"
      ],
      "metadata": {
        "colab": {
          "base_uri": "https://localhost:8080/"
        },
        "id": "OJ6gjV9HsJaN",
        "outputId": "f1d235bf-3e81-46a5-dce9-081cb826a4b8"
      },
      "execution_count": null,
      "outputs": [
        {
          "output_type": "stream",
          "name": "stdout",
          "text": [
            " Enter first number : -40\n",
            " Enter another number : -4\n",
            "36\n"
          ]
        }
      ]
    },
    {
      "cell_type": "markdown",
      "source": [
        "# Task 5\n",
        "\n",
        "Write the Python code of a program that reads a number, and prints \"The number is even\" or \"The\n",
        "number is odd\", depending on whether the number is even or odd.\n",
        "hint(1): we may use the modulus (%) operator to check for even or odd\n",
        "hint(2): we can consider the number to be an integer\n",
        "\n",
        "==========================================================\n",
        "\n",
        "Sample Input 1:\n",
        "\n",
        "7\n",
        "\n",
        "Sample Output 1:\n",
        "\n",
        "The number is odd\n",
        "\n",
        "==========================================================\n",
        "\n",
        "Sample Input 2:\n",
        "\n",
        "10\n",
        "\n",
        "Sample Output 2:\n",
        "\n",
        "The number is even\n",
        "==========================================================\n",
        "\n",
        "Sample Input 3:\n",
        "\n",
        "-44\n",
        "\n",
        "Sample Output 3:\n",
        "\n",
        "The number is even\n",
        "\n",
        "\n",
        "\n",
        "\n",
        "\n",
        "---\n",
        "\n"
      ],
      "metadata": {
        "id": "t7ek2NI1ulXP"
      }
    },
    {
      "cell_type": "code",
      "source": [
        "user=int(input(\" Enter the number for checking 'even/ odd' : \"))\n",
        "if user%2==0:\n",
        "  print(\" This number is even \")\n",
        "else:\n",
        "  print(\" This number is odd ! \")"
      ],
      "metadata": {
        "colab": {
          "base_uri": "https://localhost:8080/"
        },
        "id": "fO1j72c6u1UL",
        "outputId": "f34f07c2-a92d-4d03-bab1-1f238438c588"
      },
      "execution_count": null,
      "outputs": [
        {
          "output_type": "stream",
          "name": "stdout",
          "text": [
            " Enter the number for checking 'even/ odd' : 10\n",
            " This number is even \n"
          ]
        }
      ]
    },
    {
      "cell_type": "markdown",
      "source": [
        "# Task 6\n",
        "\n",
        "Write the Python code of a program that reads an integer as input from the user, and prints the\n",
        "integer if it is a multiple of 2 OR 5 and prints \"Not a multiple of 2 OR 5\" otherwise.\n",
        "For example, 2, 4, 5, 6, 8, 10, 12, 14, 15, 16, 18, 20, 22 ... i.e. this includes multiples of 2 only,\n",
        "\n",
        "\n",
        "multiples of 5 only and multiples of 2 and 5 both.\n",
        "\n",
        "==========================================================\n",
        "hint(1): we may use the modulus (%) operator for checking the divisibility\n",
        "hint(2): we can consider the number to be an integer\n",
        "==========================================================\n",
        "\n",
        "Sample Input 1:\n",
        "\n",
        "5\n",
        "\n",
        "Sample Output 1:\n",
        "\n",
        "5\n",
        "==========================================================\n",
        "\n",
        "Sample Input 2:\n",
        "\n",
        "10\n",
        "\n",
        "Sample Output 2:\n",
        "\n",
        "10\n",
        "\n",
        "==========================================================\n",
        "\n",
        "\n",
        "Sample Input 3:\n",
        "\n",
        "3\n",
        "\n",
        "Sample Output 3:\n",
        "\n",
        "Not a multiple of 2 OR 5"
      ],
      "metadata": {
        "id": "2NZumPnDvTGK"
      }
    },
    {
      "cell_type": "code",
      "source": [
        "user=int(input(\" Enter the number : \"))\n",
        "\n",
        "if user%2==0 or user%5==0:\n",
        "  print(user)\n",
        "\n",
        "else:\n",
        "  print(\" Not a multiple of 2 or 5 \")"
      ],
      "metadata": {
        "colab": {
          "base_uri": "https://localhost:8080/"
        },
        "id": "-2LAl-2svjav",
        "outputId": "34e76f42-a418-469c-f6e4-501f46cd80ec"
      },
      "execution_count": null,
      "outputs": [
        {
          "output_type": "stream",
          "name": "stdout",
          "text": [
            " Enter the number : 3\n",
            " Not a multiple of 2 or 5 \n"
          ]
        }
      ]
    },
    {
      "cell_type": "markdown",
      "source": [
        "#Task 7\n",
        "\n",
        "Write the Python code of a program that reads an integer, and prints the integer it is a multiple of\n",
        "either 2 or 5 but not both. If the number is a multiple of 2 and 5 both, then print \"Multiple of 2\n",
        "and 5 both\". For all other numbers, the program prints \"Not a multiple we want\".\n",
        "For example, 2, 4, 5, 6, 8, 12, 14, 15, 16, 18, 22 ... i.e. this includes multiples of 2 only and\n",
        "multiples of 5 only, NOT multiples of 2 and 5 both or other numbers.\n",
        "\n",
        "\n",
        "==========================================================\n",
        "\n",
        "\n",
        "hint(1): we may use the modulus (%) operator for checking the divisibility\n",
        "hint(2): we can consider the number to be an integer\n",
        "\n",
        "\n",
        "==========================================================\n",
        "\n",
        "Sample Input 1:\n",
        "\n",
        "6\n",
        "\n",
        "Sample Output 1:\n",
        "\n",
        "6\n",
        "\n",
        "==========================================================\n",
        "\n",
        "\n",
        "Sample Input 2:\n",
        "\n",
        "15\n",
        "\n",
        "Sample Output 2:\n",
        "\n",
        "15\n",
        "\n",
        "==========================================================\n",
        "\n",
        "Sample Input 3:\n",
        "\n",
        "10\n",
        "\n",
        "Sample Output 3:\n",
        "\n",
        "Multiple of 2 and 5 both\n",
        "\n",
        "==========================================================\n",
        "\n",
        "\n",
        "Sample Input 4:\n",
        "\n",
        "17\n",
        "\n",
        "Sample Output 4:\n",
        "\n",
        "Not a multiple we want"
      ],
      "metadata": {
        "id": "QtgdFwFpwOE7"
      }
    },
    {
      "cell_type": "code",
      "source": [
        "user=int(input(\"Enter the number : \"))\n",
        "\n",
        "# in this code you have to think about branching\n",
        "#else your code wonot run properly\n",
        "\n",
        "if user%2==0 and user%5==0:\n",
        "  print(\" multiple of 2 and 5 both \")\n",
        "elif user%2==0 or user%5==0:\n",
        "  print(user)\n",
        "else:\n",
        "  print(\" Not multiple we want\")"
      ],
      "metadata": {
        "colab": {
          "base_uri": "https://localhost:8080/"
        },
        "id": "_5iaQRBVwaye",
        "outputId": "3c5f5808-000b-4cf4-b632-9c13fc548550"
      },
      "execution_count": null,
      "outputs": [
        {
          "output_type": "stream",
          "name": "stdout",
          "text": [
            "Enter the number : 17\n",
            " Not multiple we want\n"
          ]
        }
      ]
    },
    {
      "cell_type": "markdown",
      "source": [
        "# Task 8\n",
        "\n",
        "Write the Python code of a program that reads an integer, and prints the integer if it is a multiple\n",
        "of 2 AND 5 and prints \"Not multiple of 2 and 5 both\" otherwise.\n",
        "\n",
        "\n",
        "==========================================================\n",
        "\n",
        "\n",
        "For example, 10, 20, 30, 40, 50 ... i.e. this only includes numbers which are multiples of both 2\n",
        "and 5.\n",
        "\n",
        "==========================================================\n",
        "\n",
        "hint(1): we may use the modulus (%) operator for checking the divisibility\n",
        "\n",
        "hint(2): we can consider the number to be an integer\n",
        "\n",
        "==========================================================\n",
        "\n",
        "\n",
        "Sample Input 1:\n",
        "\n",
        "30\n",
        "\n",
        "Sample Output 1:\n",
        "\n",
        "30\n",
        "\n",
        "==========================================================\n",
        "\n",
        "Sample Input 2:\n",
        "\n",
        "15\n",
        "\n",
        "Sample Output 2:\n",
        "\n",
        "Not multiple of 2 and 5 both\n",
        "\n",
        "==========================================================\n",
        "\n",
        "Sample Input 3:\n",
        "\n",
        "6\n",
        "\n",
        "Sample Output 3:\n",
        "\n",
        "Not multiple of 2 and 5 both\n",
        "\n"
      ],
      "metadata": {
        "id": "eDH2x_sWxP06"
      }
    },
    {
      "cell_type": "code",
      "source": [
        "user=int(input(\" Enter the number : \"))\n",
        "\n",
        "if user%2==0 and user%5==0:\n",
        "  print(user)\n",
        "else:\n",
        "  print(\" Not multiple of 2 and 5 both \")"
      ],
      "metadata": {
        "colab": {
          "base_uri": "https://localhost:8080/"
        },
        "id": "LRwwEZiYxegV",
        "outputId": "b4746a2c-50f6-48d3-f383-c9f420f413ba"
      },
      "execution_count": null,
      "outputs": [
        {
          "output_type": "stream",
          "name": "stdout",
          "text": [
            " Enter the number : 30\n",
            "30\n"
          ]
        }
      ]
    },
    {
      "cell_type": "markdown",
      "source": [
        "#Task 9\n",
        "\n",
        "Write the Python code of a program that finds the number of hours, minutes, and seconds in a\n",
        "given number of seconds. The number of seconds is taken as input from the\n",
        "user.\n",
        "\n",
        "==========================================================\n",
        "\n",
        "hint(1): we may consider our user input to be an integer value and use // and % operators to\n",
        "solve the problem\n",
        "hint(2): 1 hour = 60 mins = 3600 seconds and 1 min = 60 seconds\n",
        "\n",
        "\n",
        "==========================================================\n",
        "\n",
        "Sample Input 1:\n",
        "\n",
        "10000\n",
        "\n",
        "Sample Output 1:\n",
        "\n",
        "Hours: 2 Minutes: 46 Seconds: 40\n",
        "\n",
        "Explanation:\n",
        "\n",
        "10000 seconds = 10000 // 3600 = 2 hours and 10000 % 3600 = 2800 seconds.\n",
        "\n",
        "\n",
        "Then again, 2800 // 60 = 46 minutes and 2800 % 60 = 40 seconds.\n",
        "\n",
        "And hence we have arrived at our answer.\n",
        "\n",
        "==========================================================\n",
        "\n",
        "Sample Input 2:\n",
        "\n",
        "500\n",
        "\n",
        "Sample Output 2:\n",
        "\n",
        "Hours: 0 Minutes: 8 Seconds: 20\n",
        "\n",
        "\n"
      ],
      "metadata": {
        "id": "alBsVxlDx3Ew"
      }
    },
    {
      "cell_type": "code",
      "source": [
        "user=int(input(\" Enter number : \"))\n",
        "\n",
        "hour=user//3600\n",
        "remain=user%3600\n",
        "\n",
        "min= remain//60\n",
        "second=remain%60\n",
        "\n",
        "print(\" Hour : \",hour ,\"min\", min, \"second : \",second )"
      ],
      "metadata": {
        "colab": {
          "base_uri": "https://localhost:8080/"
        },
        "id": "BHZJluyBx89_",
        "outputId": "4fac4ae9-70d1-48a4-ccc7-5a7a9b909351"
      },
      "execution_count": null,
      "outputs": [
        {
          "output_type": "stream",
          "name": "stdout",
          "text": [
            " Enter number : 10000\n",
            " Hour :  2 min 46 second :  40\n"
          ]
        }
      ]
    },
    {
      "cell_type": "markdown",
      "source": [
        "# Task 10\n",
        "\n",
        "Write a Python program to compute and display a person’s weekly salary as determined by the\n",
        "following conditions:\n",
        "● If the hours worked is less than or equal to 40, then the person receives Tk 200 per hour.\n",
        "● If the hours worked is greater than 40, then the person receives Tk 8000 plus Tk 300 for\n",
        "each hour worked over 40 hours.\n",
        "The program should request the hours worked as an input from the user and display the salary as\n",
        "output. You need to make sure that user input is valid. For example, a person cannot work for -5\n",
        "hours or more than 168 hours in a week. So, the valid hours range is 0 to 168. For invalid hours,\n",
        "print outputs as given in the samples below.\n",
        "\n",
        "Hint: you can consider the hour (user input) to be an integer\n",
        "\n",
        "==========================================================\n",
        "\n",
        "Sample Input 1:\n",
        "\n",
        "100\n",
        "\n",
        "Sample Output 1:\n",
        "\n",
        "26000\n",
        "\n",
        "Explanation: Since, the number of hours worked is 100 > 40, therefore salary\n",
        "= 8000 + (100 -\n",
        "\n",
        "40) * 300 = 26000.\n",
        "\n",
        "==========================================================\n",
        "\n",
        "Sample Input 2:\n",
        "\n",
        "30\n",
        "\n",
        "Sample Output 2:\n",
        "\n",
        "6000\n",
        "\n",
        "Explanation: Since, the number of hours worked is 30 < 40, therefore salary\n",
        "\n",
        "= 30 * 200 = 6000.\n",
        "\n",
        "==========================================================\n",
        "\n",
        "\n",
        "Sample Input 3:\n",
        "\n",
        "-30\n",
        "\n",
        "Sample Output 3:\n",
        "\n",
        "Hour cannot be negative\n",
        "\n",
        "==========================================================\n",
        "\n",
        "Sample Input 4:\n",
        "\n",
        "\n",
        "170\n",
        "Sample Output 4:\n",
        "\n",
        "Impossible to work more than 168 hours weekly\n",
        "\n",
        "\n",
        "\n",
        "\n",
        "\n"
      ],
      "metadata": {
        "id": "NoA1frYzzOXd"
      }
    },
    {
      "cell_type": "code",
      "source": [
        "user=int(input(\" Enter here for calculate : \"))\n",
        "pay=0\n",
        "if user<=40 and user>0 :\n",
        "  pay= user*200\n",
        "  print(pay)\n",
        "\n",
        "elif user >40 and user<168:\n",
        "  pay=8000+ (user-40)*300\n",
        "  print(pay)\n",
        "\n",
        "elif user >168:\n",
        "  print(\"Impossible to work more than 168 hours weekly\")\n",
        "elif user<0:\n",
        "  print(\" Hours cannot be negative \")\n"
      ],
      "metadata": {
        "colab": {
          "base_uri": "https://localhost:8080/"
        },
        "id": "ocX3O0qCzUvs",
        "outputId": "725c5f3f-6804-457d-af99-46145838170d"
      },
      "execution_count": null,
      "outputs": [
        {
          "output_type": "stream",
          "name": "stdout",
          "text": [
            " Enter here for calculate : 100\n",
            "26000\n"
          ]
        }
      ]
    },
    {
      "cell_type": "markdown",
      "source": [
        "#Task 11\n",
        "\n",
        "Suppose the following expressions are used to calculate the values of L for different values of S:\n",
        "\n",
        "Write the Python code of a program that reads a value of S and then\n",
        "\n",
        "calculates the value of L.\n",
        "---\n",
        "# L=300-125*S^2 : if S<100\n",
        "# L=[12000/(4+S^2)/14900] : if S>=100\n",
        "==========================================================\n",
        "\n",
        "hint(1): you can import math and use math function for making squares with\n",
        "math.pow(number,\n",
        "\n",
        "power) or you can simply write S ** 2.\n",
        "\n",
        "hint(2): the value of S(user input) will be an integer\n",
        "\n",
        "==========================================================\n",
        "\n",
        "Sample Input 1:\n",
        "\n",
        "120\n",
        "\n",
        "Sample Output 1:\n",
        "\n",
        "2416.2162162162163\n",
        "\n",
        "Explanation: Since S (user input) given here is 120 >= 100, so L = 12000 /\n",
        "\n",
        "(4 + (120 *\n",
        "\n",
        "120)/14900) = 2416.2162162162163\n",
        "\n",
        "==========================================================\n",
        "\n",
        "Sample Input 2:\n",
        "\n",
        "3\n",
        "\n",
        "Sample Output 2:\n",
        "\n",
        "1875\n",
        "\n",
        "Explanation: Since S (user input) given here is 3 < 100, so L = 3000 - 125 *\n",
        "3 * 3 = 1875\n",
        "\n"
      ],
      "metadata": {
        "id": "zLrJQ7bN60_w"
      }
    },
    {
      "cell_type": "code",
      "source": [
        "s=int(input(\" Enter the number sir : \"))\n",
        "l=0\n",
        "\n",
        "\n",
        "if s<100:\n",
        "  l=(3000-125 * s **2)\n",
        "  print(\" output : \", l)\n",
        "\n",
        "elif s>=100:\n",
        "  l=12000/(4+s**2/14900)\n",
        "  print(\" output : \", l)"
      ],
      "metadata": {
        "colab": {
          "base_uri": "https://localhost:8080/"
        },
        "id": "q7kGni617roY",
        "outputId": "7c0e3c97-e821-4506-b97c-f7f5056e8087"
      },
      "execution_count": null,
      "outputs": [
        {
          "output_type": "stream",
          "name": "stdout",
          "text": [
            " Enter the number sir : 120\n",
            " output :  2416.2162162162163\n"
          ]
        }
      ]
    },
    {
      "cell_type": "markdown",
      "source": [
        "# Task 12\n",
        "\n",
        "Write a Python program that takes an hour from the user as input and tells it is time for which\n",
        "meal.\n",
        "• The user will input the number in a 24-hour format. So, 14 means 2 pm, 3 means 3 am, 18\n",
        "means 6 pm, etc.\n",
        "• Valid inputs are 0 to 23. Inputs less than 0 or more than 23 are invalid in 24-hour clock.\n",
        "• Assume, input will be whole numbers. For example, 3.5 will NOT be given as input.\n",
        "\n",
        "==========================================================\n",
        "\n",
        "Input range: Message to be printed\n",
        "\n",
        "4 to 6: Breakfast\n",
        "\n",
        "12 to 13: Lunch\n",
        "\n",
        "16 to 17: Snacks\n",
        "\n",
        "19 to 20: Dinner\n",
        "\n",
        "For all other valid inputs, say \"Patience is a virtue\"\n",
        "\n",
        "For all other invalid inputs, say \"Wrong time\"\n",
        "\n",
        "==========================================================\n",
        "\n",
        "For example,\n",
        "\n",
        "If the user enters 4, your program should print the message \"Breakfast\".\n",
        "\n",
        "If the user enters 5, your program should print the message \"Breakfast\".\n",
        "\n",
        "If the user enters 6, your program should print the message \"Breakfast\".\n",
        "\n",
        "If the user enters 0, your program should print the message \"Patience is a\n",
        "virtue\".\n",
        "\n",
        "If the user enters 1, your program should print the message \"Patience is a\n",
        "virtue\".\n",
        "\n",
        "If the user enters 18, your program should print the message \"Patience is a\n",
        "virtue\".\n",
        "\n",
        "If the user enters 23, your program should print the message \"Patience is a\n",
        "virtue\".\n",
        "\n",
        "If the user enters 24, your program should print the message \"Wrong Time\".\n",
        "\n",
        "If the user enters -1, your program should print the message \"Wrong Time\".\n",
        "\n",
        "If the user enters 27, your program should print the message \"Wrong time\".\n",
        "\n",
        "==========================================================\n",
        "\n",
        "\n"
      ],
      "metadata": {
        "id": "pZxccqiL8uVE"
      }
    },
    {
      "cell_type": "code",
      "source": [
        "user=int(input(\" Enter the time : \"))\n",
        "\n",
        "if 0>user or user>24:\n",
        "  print(\" Wrong time \")\n",
        "\n",
        "elif 4<=user>=6:\n",
        "  print(\" Breakfast \")\n",
        "elif 12<=user<=13:\n",
        "  print(\" Lunch \")\n",
        "elif 16<=user <= 17:\n",
        "  print(\" Snacks \")\n",
        "elif 19<=user <=20:\n",
        "  print(\" Dinner \")\n",
        "else:\n",
        "  print(\" patience is a virtue  \")\n"
      ],
      "metadata": {
        "colab": {
          "base_uri": "https://localhost:8080/"
        },
        "id": "sdVkqaLC89Lj",
        "outputId": "284a9a4e-d358-4848-8656-18e4572adf1c"
      },
      "execution_count": null,
      "outputs": [
        {
          "output_type": "stream",
          "name": "stdout",
          "text": [
            " Enter the time : 27\n",
            " Wrong time \n"
          ]
        }
      ]
    },
    {
      "cell_type": "markdown",
      "source": [
        "# Task 13\n",
        "\n",
        "Write the Python code of a program that reads a student’s mark for a single subject, and prints out\n",
        "the corresponding grade for that mark. The mark ranges and corresponding grades are shown in\n",
        "the table below. You need to make sure that the mark is valid. For example, a student cannot\n",
        "receive -5 or 110 marks. So, the valid marks range from 0 to 100.\n",
        "hint(1): you can consider the number to be an integer\n",
        "hint(2): this problem can be solved in two ways: top-down (starts from A) and bottom-up (starts\n",
        "from F)\n",
        "\n",
        "_________________\n",
        "Marks  |  Grade      \n",
        "_________________\n",
        "90 or above A\n",
        "\n",
        "80-89 B\n",
        "\n",
        "70-79 C\n",
        "\n",
        "60-69 D\n",
        "\n",
        "50-59 E\n",
        "\n",
        "Below 50 F\n",
        "__________________"
      ],
      "metadata": {
        "id": "bjZoc9ff-wfB"
      }
    },
    {
      "cell_type": "code",
      "source": [
        "user=int(input(\" Enter studens marks here : \"))\n",
        "\n",
        "if user>0 and user<101:\n",
        "  if 100>=user>=90:\n",
        "    print(\"A\")\n",
        "  elif 89>user>=80:\n",
        "    print(\"B\")\n",
        "  elif 79>=user>=70:\n",
        "    print(\"C\")\n",
        "  elif 69>=user>=60:\n",
        "    print(\"D\")\n",
        "  elif 59>=user>=50:\n",
        "    print(\"E\")\n",
        "  elif user<50:\n",
        "    print(\"F\")"
      ],
      "metadata": {
        "colab": {
          "base_uri": "https://localhost:8080/"
        },
        "id": "zneGa5R7_MrD",
        "outputId": "0450eb82-c363-445e-b48f-ee4cbe4e2da9"
      },
      "execution_count": null,
      "outputs": [
        {
          "output_type": "stream",
          "name": "stdout",
          "text": [
            " Enter studens marks here : 78\n",
            "C\n"
          ]
        }
      ]
    },
    {
      "cell_type": "markdown",
      "source": [
        "# Task 14\n",
        "\n",
        "Suppose, your friend is building an automated car called “Besla”. He needs to fix the programming\n",
        "of the car so that it runs at a proper speed. Now, write a python program that takes 2 inputs (distance\n",
        "in meters and time in seconds). The program should then print the velocity in kilometers per hour\n",
        "of that car. Also, it should print whether the car is working properly based on the following chart.\n",
        "\n",
        "Velocity Information to be printed\n",
        "\n",
        "Less than 60 km/h Too slow. Needs more changes.\n",
        "\n",
        "Between 60 km/h to 90 km/h Velocity is okay. The car is ready!\n",
        "\n",
        "\n",
        "\n",
        "Greater than 90 km/h Too fast. Only a few changes should suffice.\n",
        "\n",
        "Sample Input 1:\n",
        "\n",
        "160000\n",
        "\n",
        "7200\n",
        "\n",
        "Sample Output 1:\n",
        "\n",
        "80.0 km/h\n",
        "\n",
        "Velocity is okay. The car is ready!\n",
        "\n",
        "Explanation: After the conversion of distance and time, the velocity is (160/\n",
        "2) km/h = 80 km/h.\n",
        "\n",
        "So the velocity is okay\n",
        "\n",
        "==========================================================\n",
        "_____________________________\n",
        "Sample Input 2:\n",
        "\n",
        "25400\n",
        "\n",
        "3600\n",
        "\n",
        "Sample Output 2:\n",
        "\n",
        "25.4 km/h\n",
        "\n",
        "Too slow. Needs more changes.\n",
        "\n",
        "Explanation: After the conversion of distance and time, the velocity is (25.\n",
        "4/1) km/h = 25.4km/h. So the speed is too slow.\n",
        "\n",
        "\n"
      ],
      "metadata": {
        "id": "SEE6EJ-4BRMn"
      }
    },
    {
      "cell_type": "code",
      "source": [
        "distance=int(input(\" Enter the distance in meter : \"))\n",
        "time=int(input(\" Enter the time in second : \"))\n",
        "\n",
        "\n",
        "velocity=((distance//1000)/(time//3600))\n",
        "\n",
        "if velocity<60:\n",
        "  print(velocity)\n",
        "  print(\" Too slow. Needs some changes \")\n",
        "\n",
        "elif 60<=velocity<=90:\n",
        "  print(velocity)\n",
        "  print(\" Velocity is okay . the car is ready ! \")\n",
        "\n",
        "elif velocity>90:\n",
        "  print(velocity)\n",
        "  print(\" Too fast . Only few changes should suffie\")\n"
      ],
      "metadata": {
        "colab": {
          "base_uri": "https://localhost:8080/"
        },
        "id": "Rui8Io1yBcBN",
        "outputId": "0448db5e-ae2b-49c2-bd98-3f9c801b3c4e"
      },
      "execution_count": null,
      "outputs": [
        {
          "output_type": "stream",
          "name": "stdout",
          "text": [
            " Enter the distance in meter : 160000\n",
            " Enter the time in second : 7200\n",
            "80.0\n",
            " Velocity is okay . the car is ready ! \n"
          ]
        }
      ]
    },
    {
      "cell_type": "markdown",
      "source": [
        "# Task 15\n",
        "__________________________________________________\n",
        "Write a python program that takes the CGPA and no of credits completed by a student and prints\n",
        "whether the student is eligible for a waiver and of what percentage.\n",
        "To be eligible for a waiver, a student must have completed at least 30 credits and earned a CGPA\n",
        "greater or equal to 3.8. If not, please print \"The student is not eligible for a waiver\".\n",
        "______________________\n",
        "CGPA Waiver percentage\n",
        "\n",
        "3.80 - 3.89 25 percent\n",
        "\n",
        "3.90 - 3.94 50 percent\n",
        "\n",
        "3.95 - 3.99 75 percent\n",
        "\n",
        "4.00 100 percent\n",
        "_______________________\n",
        "==========================================================\n",
        "\n",
        "Sample Input 1:\n",
        "\n",
        "3.93\n",
        "\n",
        "78\n",
        "\n",
        "Sample Output 1:\n",
        "\n",
        "The student is eligible for a waiver of 50 percent.\n",
        "\n",
        "\n",
        "==========================================================\n",
        "\n",
        "Sample Input 2:\n",
        "\n",
        "3.79\n",
        "\n",
        "24\n",
        "\n",
        "Sample Output 2:\n",
        "\n",
        "The student is not eligible for a waiver\n",
        "_____________________________________________"
      ],
      "metadata": {
        "id": "UIcgh2wJGuG7"
      }
    },
    {
      "cell_type": "code",
      "source": [
        "cg=float(input(\" Enter your GPA : \"))\n",
        "credit=int(input(\" Enter your credit you have completed \"))\n",
        "\n",
        "if credit>=30:\n",
        "  if 3.89>=cg>=3.80:\n",
        "    print(\" the student is eligible for a waiver of 25 percent \")\n",
        "  elif 3.94>=cg>=3.90:\n",
        "    print(\" The student is eligible for a waiver of 50 percent \")\n",
        "  elif 3.96>=cg>=3.99:\n",
        "    print(\" The student is eligible for a waiver of 75 percent \")\n",
        "  elif cg==4:\n",
        "    print(\" The studen is eligible for a waiver of 100 percent\")\n",
        "  else:\n",
        "    print(\" You are not eligible for a waiver \")\n",
        "else:\n",
        "  print(\" You are not eligible for a waiver \")"
      ],
      "metadata": {
        "colab": {
          "base_uri": "https://localhost:8080/"
        },
        "id": "Uas9bGxSHAz0",
        "outputId": "5917ce82-4d7a-4911-e440-95982efa4456"
      },
      "execution_count": null,
      "outputs": [
        {
          "output_type": "stream",
          "name": "stdout",
          "text": [
            " Enter your GPA : 3.93\n",
            " Enter your credit you have completed 78\n",
            " The student is eligible for a waiver of 50 percent \n"
          ]
        }
      ]
    }
  ]
}