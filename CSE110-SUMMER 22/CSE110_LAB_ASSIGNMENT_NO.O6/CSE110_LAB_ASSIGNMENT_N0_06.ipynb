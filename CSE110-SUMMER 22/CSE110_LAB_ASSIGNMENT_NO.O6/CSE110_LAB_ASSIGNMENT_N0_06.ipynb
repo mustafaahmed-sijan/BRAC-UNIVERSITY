{
  "nbformat": 4,
  "nbformat_minor": 0,
  "metadata": {
    "colab": {
      "provenance": []
    },
    "kernelspec": {
      "name": "python3",
      "display_name": "Python 3"
    },
    "language_info": {
      "name": "python"
    }
  },
  "cells": [
    {
      "cell_type": "markdown",
      "source": [
        "# PDF LINK\n",
        "\n",
        "https://docs.google.com/document/d/1LmTJjjxENLV5BXynaSmboIFa53_nwHUB/edit"
      ],
      "metadata": {
        "id": "6tgTCvi66S02"
      }
    },
    {
      "cell_type": "markdown",
      "source": [
        "This Assignment is to help you develop your concept of Tuples and Dictionary in Python.\n",
        "[Please follow variable naming conventions including using meaningful variable names for all the tasks]\n",
        "When you run your code, please make sure your outputs exactly match the sample outputs for each of the sample inputs given. Check if your code works for other valid inputs not given in the samples.\n",
        "Write the code in Python to do the following tasks:\n",
        "**bold text**"
      ],
      "metadata": {
        "id": "RT8Eo2dq6a8M"
      }
    },
    {
      "cell_type": "markdown",
      "source": [
        "#             Part 1: Tuples"
      ],
      "metadata": {
        "id": "G-FaSpNJ6eWz"
      }
    },
    {
      "cell_type": "markdown",
      "source": [
        "# Task 1\n",
        "\n",
        "Assume, you have been given a tuple.\n",
        "\n",
        "a_tuple = (\"The Institute\", (\"Best Mystery & Thriller\", \"The Silent Patient\", 68821), 75717,\n",
        "[1, 2, 3, 400, 5, 6, 7], (\"Best Fiction\", \"The Testaments\", 98291))\n",
        "\n",
        "\n",
        "Write one line of Python code to access and print the value 400.\n",
        "\n",
        "\n",
        "==================================\n",
        "=================================\n",
        "\n",
        "\n",
        "Output: 400\n",
        "\n",
        "===================================================================\n"
      ],
      "metadata": {
        "id": "SsfBHZa06k5z"
      }
    },
    {
      "cell_type": "code",
      "execution_count": null,
      "metadata": {
        "colab": {
          "base_uri": "https://localhost:8080/"
        },
        "id": "NBUYnFnu5viW",
        "outputId": "e3ac01be-8ed9-4b8a-964a-b392208ea1b2"
      },
      "outputs": [
        {
          "output_type": "stream",
          "name": "stdout",
          "text": [
            "400\n"
          ]
        }
      ],
      "source": [
        "a_tuple = (\"The Institute\", (\"Best Mystery & Thriller\", \"The Silent Patient\", 68821), 75717,\n",
        "[1, 2, 3, 400, 5, 6, 7], (\"Best Fiction\", \"The Testaments\", 98291))\n",
        "\n",
        "x=a_tuple[3][3]\n",
        "\n",
        "print(x)"
      ]
    },
    {
      "cell_type": "markdown",
      "source": [
        "# Task 2\n",
        "\n",
        "Assume, you have been given a tuple. Write a Python program that creates a new tuple excluding the first and last two elements of the given tuple and prints the new tuple.\n",
        "\n",
        "Hint: You may use tuple slicing.\n",
        "\n",
        "\n",
        "===================================================================\n",
        "\n",
        "\n",
        "Sample Input 1:\n",
        "(10, 20, 24, 25, 26, 35, 70)\n",
        "\n",
        "\n",
        "Sample Output 1:\n",
        "(24, 25, 26)\n",
        "\n",
        "\n",
        "===================================================================\n",
        "\n",
        "\n",
        "Sample Input 2:\n",
        "(-10, 20, 30, 40)\n",
        "\n",
        "Sample Output 2:\n",
        "()\n",
        "\n",
        "\n",
        "===================================================================\n",
        "\n",
        "\n",
        "Sample Input 3:\n",
        "(-10, 20, 25, 30, 40)\n",
        "\n",
        "\n",
        "Sample Output 3:\n",
        "(25,)"
      ],
      "metadata": {
        "id": "nwQ8jqniDfzZ"
      }
    },
    {
      "cell_type": "code",
      "source": [
        "x=tuple(int(i) for i in input()[1:-1].split(\",\"))\n",
        "\n",
        "new=x[2:-2]\n",
        "print(new)\n"
      ],
      "metadata": {
        "id": "1p4smkUMDnQW",
        "colab": {
          "base_uri": "https://localhost:8080/"
        },
        "outputId": "418ced1b-c920-4d25-8666-f152236f7e53"
      },
      "execution_count": null,
      "outputs": [
        {
          "output_type": "stream",
          "name": "stdout",
          "text": [
            "(10, 20, 24, 25, 26, 35, 70)\n",
            "(24, 25, 26)\n"
          ]
        }
      ]
    },
    {
      "cell_type": "code",
      "source": [
        "user=input()[1:-1].split(\",\")\n",
        "x=[]\n",
        "for i in user:\n",
        "  x.append(int(i))\n",
        "\n",
        "\n",
        "new=tuple(x[2:-2])\n",
        "print(new)\n",
        "\n",
        "#we converted input string to list using split and loop\n",
        "# and then we used list slicing and convert list to tuple"
      ],
      "metadata": {
        "colab": {
          "base_uri": "https://localhost:8080/"
        },
        "id": "MYPhiVLUgN0y",
        "outputId": "e666e5c3-f7f3-448d-9826-9679a7cc97c0"
      },
      "execution_count": null,
      "outputs": [
        {
          "output_type": "stream",
          "name": "stdout",
          "text": [
            "Elapsed time:  4.57763671875e-05\n",
            "(10, 20, 24, 25, 26, 35, 70)\n",
            "(24, 25, 26)\n"
          ]
        }
      ]
    },
    {
      "cell_type": "markdown",
      "source": [
        "\n",
        "\n",
        "# Task 3\n",
        "\n",
        "\n",
        "Assume, you have been given a tuple.\n",
        "book_info = (\n",
        "(\"Best Mystery & Thriller\",\"The Silent Patient\",68,821),\n",
        "(\"Best Horror\",\"The Institute\",75,717),\n",
        "(\"Best History & Biography\",\"The five\",31,783 ),\n",
        "(\"Best Fiction\",\"The Testaments\",98,291)\n",
        ")\n",
        "Write a Python program that prints the size of the tuple and all its elements as shown below.\n",
        "\n",
        "\n",
        "===================================================================\n",
        "\n",
        "\n",
        "Output:\n",
        "Size of the tuple is: 4\n",
        "('Best Mystery & Thriller', 'The Silent Patient', 68, 821)\n",
        "('Best Horror', 'The Institute', 75, 717)\n",
        "('Best History & Biography', 'The five', 31, 783)\n",
        "('Best Fiction', 'The Testaments', 98, 291)\n",
        "\n",
        "\n",
        "===================================================================\n"
      ],
      "metadata": {
        "id": "FAMNMSmRh_aA"
      }
    },
    {
      "cell_type": "code",
      "source": [
        "book_info = (\n",
        "(\"Best Mystery & Thriller\",\"The Silent Patient\",68,821),\n",
        "(\"Best Horror\",\"The Institute\",75,717),\n",
        "(\"Best History & Biography\",\"The five\",31,783 ),\n",
        "(\"Best Fiction\",\"The Testaments\",98,291)\n",
        ")\n",
        "\n",
        "print(\"Size of the tuple is :\",len(book_info))\n",
        "\n",
        "for i in book_info:\n",
        "  print(i)"
      ],
      "metadata": {
        "colab": {
          "base_uri": "https://localhost:8080/"
        },
        "id": "tpjjWNA2iGl-",
        "outputId": "5cfe378b-f801-484c-fdb6-71055439b826"
      },
      "execution_count": null,
      "outputs": [
        {
          "output_type": "stream",
          "name": "stdout",
          "text": [
            "Size of the tuple is : 4\n",
            "('Best Mystery & Thriller', 'The Silent Patient', 68, 821)\n",
            "('Best Horror', 'The Institute', 75, 717)\n",
            "('Best History & Biography', 'The five', 31, 783)\n",
            "('Best Fiction', 'The Testaments', 98, 291)\n"
          ]
        }
      ]
    },
    {
      "cell_type": "markdown",
      "source": [
        "# Task 4\n",
        "\n",
        "\n",
        "Assume, you have been given a tuple with details about books that won the Good Reads Choice Awards.\n",
        "book_info = (\n",
        "(\"Best Mystery & Thriller\",\"The Silent Patient\",68821),\n",
        "(\"Best Horror\",\"The Institute\",75717),\n",
        "(\"Best History & Biography\",\"The five\",31783 ),\n",
        "(\"Best Fiction\",\"The Testaments\",98291)\n",
        ")\n",
        "\n",
        "Write a Python program that prints the award category, the book name, and its total votes earned as shown below.\n",
        "\n",
        "\n",
        "[Must use Tuple unpacking for printing and need to handle the quotation marks as a part of the output]\n",
        "\n",
        "\n",
        "===================================================================\n",
        "\n",
        "\n",
        "Output:\n",
        "The Silent Patient won the 'Best Mystery & Thriller' category with 68821 votes\n",
        "The Institute won the 'Best Horror' category with 75717 votes\n",
        "The five won the 'Best History & Biography' category with 31783 votes\n",
        "The Testaments won the 'Best Fiction' category with 98291 votes\n",
        "\n",
        "\n",
        "===================================================================\n"
      ],
      "metadata": {
        "id": "tAG-8KhNjJHX"
      }
    },
    {
      "cell_type": "code",
      "source": [
        "book_info = (\n",
        "(\"Best Mystery & Thriller\",\"The Silent Patient\",68821),\n",
        "(\"Best Horror\",\"The Institute\",75717),\n",
        "(\"Best History & Biography\",\"The five\",31783 ),\n",
        "(\"Best Fiction\",\"The Testaments\",98291)\n",
        ")\n",
        "\n",
        "for i,j,k in book_info:\n",
        "  print(f\"{j} won the best '{i}' category with {k} votes \")\n"
      ],
      "metadata": {
        "colab": {
          "base_uri": "https://localhost:8080/"
        },
        "id": "18OsI95OidtT",
        "outputId": "9dd41bca-2b61-4a6c-82b5-78eae77971c0"
      },
      "execution_count": null,
      "outputs": [
        {
          "output_type": "stream",
          "name": "stdout",
          "text": [
            "The Silent Patient won the best 'Best Mystery & Thriller' category with 68821 votes \n",
            "The Institute won the best 'Best Horror' category with 75717 votes \n",
            "The five won the best 'Best History & Biography' category with 31783 votes \n",
            "The Testaments won the best 'Best Fiction' category with 98291 votes \n"
          ]
        }
      ]
    },
    {
      "cell_type": "markdown",
      "source": [
        "# Task 5\n",
        "\n",
        "---\n",
        "\n",
        "Write a python program that takes\n",
        "an input from the user and finds\n",
        "the number of times that the\n",
        "input is present in a given tuple.\n",
        "\n",
        "==================================\n",
        "\n",
        "=================================\n",
        "\n",
        "Example 1:\n",
        "\n",
        "\n",
        "Given tuple: (10, 8, 5, 2, 10,\n",
        "15, 10, 8, 5, 8, 8, 2)\n",
        "\n",
        "Sample Input 1:\n",
        "\n",
        "8\n",
        "\n",
        "Sample Output 1:\n",
        "\n",
        "8 appears 4 times in the tuple\n",
        "\n",
        "\n",
        "==================================\n",
        "\n",
        "=================================\n",
        "\n",
        "\n",
        "Example 2\n",
        "\n",
        "Given tuple: (10, 8, 5, 2, 10,\n",
        "15, 10, 8, 5, 8, 8, 2)\n",
        "\n",
        "Sample Input 2:\n",
        "\n",
        "1\n",
        "\n",
        "Sample Output 2:\n",
        "\n",
        "1 appears 0 times in the tuple\n",
        "\n",
        "\n",
        "------\n",
        "\n",
        "\n"
      ],
      "metadata": {
        "id": "n6E7_V6pkDJp"
      }
    },
    {
      "cell_type": "code",
      "source": [
        "x= (10, 8, 5, 2, 10, 15, 10, 8, 5, 8, 8, 2)\n",
        "user=int(input())\n",
        "c=0\n",
        "for i in x:\n",
        "\n",
        "  if user==int(i):\n",
        "    c+=1\n",
        "print(f\"{user} appears {c} times in the tuple\")\n",
        "\n",
        "\n"
      ],
      "metadata": {
        "colab": {
          "base_uri": "https://localhost:8080/"
        },
        "id": "lMsPvl7_kJ14",
        "outputId": "e7effe6c-6735-4750-90d2-b5619fcfbe6d"
      },
      "execution_count": null,
      "outputs": [
        {
          "output_type": "stream",
          "name": "stdout",
          "text": [
            "8\n",
            "8 appears 4 times in the tuple\n"
          ]
        }
      ]
    },
    {
      "cell_type": "markdown",
      "source": [
        "# Task 6\n",
        "\n",
        "\n",
        "Write a Python program to reverse a given tuple.\n",
        "\n",
        "\n",
        "[You are not allowed to use slicing]\n",
        "\n",
        "\n",
        "===================================================================\n",
        "\n",
        "\n",
        "Note: Unlike lists, tuples are immutable. So, in order to reverse a tuple, we may need to convert it into a list first, then modify the list, and finally convert it back to a tuple.\n",
        "\n",
        "\n",
        "===================================================================\n",
        "\n",
        "\n",
        "Example 1:\n",
        "Given tuple: ('a', 'b', 'c', 'd', 'e', 'f', 'g', 'h')\n",
        "Output:\n",
        "('h', 'g', 'f', 'e', 'd', 'c', 'b', 'a')\n",
        "\n",
        "\n",
        "===================================================================\n",
        "\n",
        "\n",
        "Example 2:\n",
        "Given tuple: (10, 20, 30, 40, 50, 60)\n",
        "\n",
        "\n",
        "Output:\n",
        "(60, 50, 40, 30, 20, 10)\n"
      ],
      "metadata": {
        "id": "a-nBXDW9ojOw"
      }
    },
    {
      "cell_type": "code",
      "source": [
        "from string import digits\n",
        "\n",
        "x=input()[1:-1].split(\",\")\n",
        "\n",
        "lst=[]\n",
        "for i in range(len(x)-1,-1,-1):\n",
        "  if i is digits:\n",
        "    lst.append(int(x[i]))\n",
        "  else:\n",
        "    lst.append(x[i])\n",
        "\n",
        "\n",
        "print(tuple(lst))"
      ],
      "metadata": {
        "colab": {
          "base_uri": "https://localhost:8080/"
        },
        "id": "CO92EPR1osHj",
        "outputId": "c20df0cc-a35e-4725-f8fd-9c721a020683"
      },
      "execution_count": null,
      "outputs": [
        {
          "output_type": "stream",
          "name": "stdout",
          "text": [
            "Task 6 Write a Python program to reverse a given tuple.  [You are not allowed to use tuple slicing]  ===================================================================  Note: Unlike lists, tuples are immutable. So, in order to reverse a tuple, we may need to convert it into a list first, then modify the list, and finally convert it back to a tuple.  ===================================================================  Example 1:  Given tuple: ('a', 'b', 'c', 'd', 'e', 'f', 'g', 'h')  Output:  ('h', 'g', 'f', 'e', 'd', 'c', 'b', 'a')\n",
            "(\" 'a'\", \" 'b'\", \" 'c'\", \" 'd'\", \" 'e'\", \" 'f'\", \" 'g'\", \" 'h')  Output:  ('h'\", \" 'g'\", \" 'f'\", \" 'e'\", \" 'd'\", \" 'c'\", \" 'b'\", \" and finally convert it back to a tuple.  ===================================================================  Example 1:  Given tuple: ('a'\", ' then modify the list', ' we may need to convert it into a list first', ' in order to reverse a tuple', ' tuples are immutable. So', 'ask 6 Write a Python program to reverse a given tuple.  [You are not allowed to use tuple slicing]  ===================================================================  Note: Unlike lists')\n"
          ]
        }
      ]
    },
    {
      "cell_type": "markdown",
      "source": [
        "# Part 2: Dictionary"
      ],
      "metadata": {
        "id": "oRM6tux3ul36"
      }
    },
    {
      "cell_type": "markdown",
      "source": [
        "\n",
        "\n",
        "# Task 7\n",
        "\n",
        "\n",
        "Suppose you are given two dictionaries.\n",
        "\n",
        "\n",
        "Now create a new dictionary \"marks\", merging the two dictionaries, so that the original two dictionaries remain unchanged.\n",
        "\n",
        "Note: You can use dictionary functions.\n",
        "\n",
        "===================================================================\n",
        "\n",
        "Given:\n",
        "\n",
        "{'Harry':15, 'Draco':8, 'Nevil':19}\n",
        "\n",
        "{'Ginie':18, 'Luna': 14}\n",
        "\n",
        "Output:\n",
        "\n",
        "{'Harry': 15, 'Draco': 8, 'Nevil': 19, 'Ginie': 18, 'Luna': 14}\n",
        "\n",
        "===================================================================\n",
        "\n",
        "Given:\n",
        "\n",
        "{'A':90, 'B': 0}\n",
        "\n",
        "{'C':50}\n",
        "\n",
        "Output:\n",
        "\n",
        "{'A': 90, 'B': 0, 'C': 50}\n",
        "\n",
        "============================================================="
      ],
      "metadata": {
        "id": "Y_lNKnrNuqMf"
      }
    },
    {
      "cell_type": "code",
      "source": [
        "x={'Harry':15, 'Draco':8, 'Nevil':19}\n",
        "y={'Ginie':18, 'Luna': 14}\n",
        "\n",
        "x.update(y)\n",
        "\n",
        "print(x)"
      ],
      "metadata": {
        "colab": {
          "base_uri": "https://localhost:8080/"
        },
        "id": "p_NYpfNluyEI",
        "outputId": "db788c5f-bba4-4eac-f260-2386f5ef5fe9"
      },
      "execution_count": null,
      "outputs": [
        {
          "output_type": "stream",
          "name": "stdout",
          "text": [
            "{'Harry': 15, 'Draco': 8, 'Nevil': 19, 'Ginie': 18, 'Luna': 14}\n"
          ]
        }
      ]
    },
    {
      "cell_type": "markdown",
      "source": [
        "# Task 8\n",
        "\n",
        "\n",
        "\n",
        "Write a Python program that takes a dictionary as an input from the user and then prints the average\n",
        "of all the values in the dictionary.\n",
        "\n",
        "[You are not allowed to use len() and sum()]\n",
        "\n",
        "\n",
        "===================================================================\n",
        "\n",
        "Hint (1): For taking dictionary input\n",
        "\n",
        "Approach (1): For taking dictionary as an input from the\n",
        "user, you may take the whole\n",
        "dictionary as a string using the\n",
        "input() function. Then you can\n",
        "use the split(), strip()\n",
        "functions and conditions to get the keys and values from the string. Finally, you can make the dictionary using the obtained data.\n",
        "\n",
        "\n",
        "Approach (2): If the first approach seems too difficult you can create an empty dictionary and then just run a simple loop. For each iteration ask the user for a key and a value using the input() function and keep updating the dictionary with the key and value.\n",
        "\n",
        "Hint (2): After you have a dictionary, you can use dictionary functions to get all the values from it, run loop to calculate the sum and the total number of values in the dictionary in order to find out\n",
        "the average.\n",
        "\n",
        "\n",
        "===================================================================\n",
        "\n",
        "\n",
        "Sample Input 1:\n",
        "Jon:100, Dan:200, Rob:300\n",
        "Sample Output 1:\n",
        "Average is 200.\n",
        "\n",
        "\n",
        "===================================================================\n",
        "\n",
        "\n",
        "Sample Input 2:\n",
        "Jon:100, Dan:200, Rob:30, Ned:110\n",
        "Sample Output 2:\n",
        "Average is 110.\n",
        "\n",
        "\n",
        "===================================================================\n"
      ],
      "metadata": {
        "id": "GPE4Fg_pJZah"
      }
    },
    {
      "cell_type": "code",
      "source": [
        "user=(input()).split(\",\")\n",
        "new={}\n",
        "\n",
        "#taking input and convtert to list using split\n",
        "# again splited using : and store in x,y\n",
        "\n",
        "for i in user:\n",
        "  x,y=i.split(\":\")\n",
        "  new[x]=y\n",
        "print(new)\n",
        "\n",
        "\n",
        "c=0\n",
        "sum=0\n",
        "for key,value in new.items():\n",
        "  sum+=int(value)\n",
        "  c+=1\n",
        "\n",
        "avg=int(sum/c)\n",
        "\n",
        "print(f\" Avarage is : {avg}\")\n",
        "\n",
        "\n",
        "\n",
        "\n",
        "\n"
      ],
      "metadata": {
        "colab": {
          "base_uri": "https://localhost:8080/"
        },
        "id": "HZWmBVceK2Cs",
        "outputId": "72989872-87fa-45f9-9d42-3657eda9a3cf"
      },
      "execution_count": null,
      "outputs": [
        {
          "output_type": "stream",
          "name": "stdout",
          "text": [
            "Jon:100, Dan:200, Rob:300\n",
            "{'Jon': '100', ' Dan': '200', ' Rob': '300'}\n",
            " Avarage is : 200\n"
          ]
        }
      ]
    },
    {
      "cell_type": "markdown",
      "source": [
        "# Task 9\n",
        "\n",
        "\n",
        "Suppose there is a dictionary named exam_marks as given below.\n",
        "exam_marks = {'Cierra Vega': 175, 'Alden Cantrell': 200, 'Kierra Gentry': 165, 'Pierre Cox': 190}\n",
        "Write a Python program that takes an input from the user and creates a new dictionary with only those elements from 'exam_marks' whose keys have values higher than the user input (inclusive).\n",
        "\n",
        "\n",
        "===================================================================\n",
        "\n",
        "\n",
        "Sample Input 1:\n",
        "170\n",
        "Sample Output 1:\n",
        "\n",
        "{'Cierra Vega': 175, 'Alden Cantrell': 200, 'Pierre Cox': 190}\n",
        "\n",
        "\n",
        "===================================================================\n",
        "\n",
        "\n",
        "Sample Input 2:\n",
        "190\n",
        "Sample Output 2:\n",
        "\n",
        "{'Alden Cantrell': 200, 'Pierre Cox': 190}\n",
        "\n",
        "\n",
        "===================================================================\n"
      ],
      "metadata": {
        "id": "w1SnHX_rVtLh"
      }
    },
    {
      "cell_type": "code",
      "source": [
        "xm = {'Cierra Vega': 175, 'Alden Cantrell': 200, 'Kierra Gentry': 165, 'Pierre Cox': 190}\n",
        "new={}\n",
        "\n",
        "\n",
        "user=int(input(\"Enter number \"))\n",
        "\n",
        "for key,value in xm.items():\n",
        "  if value>=user:\n",
        "    new[key]=value\n",
        "\n",
        "print(new)\n"
      ],
      "metadata": {
        "colab": {
          "base_uri": "https://localhost:8080/"
        },
        "id": "3LU3Y72BV4FF",
        "outputId": "8fe2feab-8e28-4cdf-f0bd-1c7058aea591"
      },
      "execution_count": null,
      "outputs": [
        {
          "output_type": "stream",
          "name": "stdout",
          "text": [
            "Enter number 190\n",
            "{'Alden Cantrell': 200, 'Pierre Cox': 190}\n"
          ]
        }
      ]
    },
    {
      "cell_type": "markdown",
      "source": [
        "# Task 10\n",
        "\n",
        "\n",
        "Write a Python program that finds the largest value with its key from a given dictionary.\n",
        "\n",
        "\n",
        "[You are not allowed to use the max() function for this task]\n",
        "\n",
        "\n",
        "Note: You do not need to take the dictionaries as an input from the user but your code should work for any given dictionary. Also, you need to handle the quotation marks as a part of the output.\n",
        "Hint: Think of membership operators (in and not in). You can use dictionary functions to get the values.\n",
        "\n",
        "\n",
        "===================================================================\n",
        "\n",
        "\n",
        "Sample 1:\n",
        "Given:\n",
        "{'sci fi': 12, 'mystery': 15, 'horror': 8, 'mythology': 10, 'young_adult': 4, 'adventure':14}\n",
        "Output:\n",
        "The highest selling book genre is 'mystery' and the number of books sold are 15.\n",
        "\n",
        "\n",
        "===================================================================\n",
        "\n",
        "\n",
        "Sample 2:\n",
        "Given:\n",
        "{'sci fi': 5, 'mystery': 3, 'horror': 14, 'young_adult': 2, 'adventure':9}\n",
        "Output:\n",
        "The highest selling book genre is 'horror' and the number of books sold are 14.\n",
        "\n",
        "\n",
        "===================================================================\n"
      ],
      "metadata": {
        "id": "pdlldHijWjOL"
      }
    },
    {
      "cell_type": "code",
      "source": [
        "#d={'sci fi': 12, 'mystery': 15, 'horror': 8, 'mythology': 10, 'young_adult': 4, 'adventure':14}\n",
        "d={'sci fi': 5, 'mystery': 3, 'horror': 14, 'young_adult': 2, 'adventure':9}\n",
        "min=-1\n",
        "max=0\n",
        "\n",
        "for key,value in d.items():\n",
        "  if int(value)>min:\n",
        "    min=int(value)\n",
        "    max=min\n",
        "    x=key\n",
        "\n",
        "print(max)\n",
        "print(x)\n",
        "\n",
        "print(f\"The highest selling book genre is {x} and the number of sold books are {max}\")\n",
        "\n"
      ],
      "metadata": {
        "colab": {
          "base_uri": "https://localhost:8080/"
        },
        "id": "KsEeIunxWqvG",
        "outputId": "3394fea0-f9ea-4bcf-95e1-bccdb09547a1"
      },
      "execution_count": null,
      "outputs": [
        {
          "output_type": "stream",
          "name": "stdout",
          "text": [
            "14\n",
            "horror\n",
            "The highest selling book genre is horror and the number of sold books are 14\n"
          ]
        }
      ]
    },
    {
      "cell_type": "markdown",
      "source": [
        "# Task 11\n",
        "\n",
        "Write a Python program that takes a String as an input from the user and counts the frequency of each character using a dictionary. For solving this problem, you may use each character as a key and its frequency as values.\n",
        "\n",
        " [You are not allowed to use the count() function]\n",
        "\n",
        "\n",
        "Hint: You can create a new dictionary to store the frequencies. You may ignore case for simplicity (i.e. may consider P and p to be the same).\n",
        "\n",
        "\n",
        "===================================================================\n",
        "\n",
        "\n",
        "Sample Input:\n",
        "\"Python programming is fun\"\n",
        "Sample Output:\n",
        "\n",
        "{'p': 2, 'y': 1, 't': 1, 'h': 1, 'o': 2, 'n': 3, 'r': 2, 'g': 2, 'a': 1, 'm': 2, 'i': 2, 's': 1, 'f': 1, 'u': 1}\n",
        "\n",
        "\n",
        "===================================================================\n"
      ],
      "metadata": {
        "id": "jmixO0V9dVXx"
      }
    },
    {
      "cell_type": "code",
      "source": [
        "user=input()[1:-1]\n",
        "d={}\n",
        "\n",
        "#i used slicing bcz input was string \"Python programming is fun\"\n",
        "# if input is : Python programming is fun than donot need to slice\n",
        "\n",
        "for i in user:\n",
        "\n",
        "  if i not in d:\n",
        "    d[i]=1\n",
        "  else:\n",
        "    d[i]+=1\n",
        "\n",
        "print(d)\n",
        "\n",
        "\n"
      ],
      "metadata": {
        "colab": {
          "base_uri": "https://localhost:8080/"
        },
        "id": "eHl6PPrxdiqy",
        "outputId": "727570be-f85f-451a-b689-c524428a8bda"
      },
      "execution_count": null,
      "outputs": [
        {
          "output_type": "stream",
          "name": "stdout",
          "text": [
            "\"Python programming is fun\"\n",
            "P\n",
            "y\n",
            "t\n",
            "h\n",
            "o\n",
            "n\n",
            " \n",
            "p\n",
            "r\n",
            "o\n",
            "g\n",
            "r\n",
            "a\n",
            "m\n",
            "m\n",
            "i\n",
            "n\n",
            "g\n",
            " \n",
            "i\n",
            "s\n",
            " \n",
            "f\n",
            "u\n",
            "n\n",
            "{'P': 1, 'y': 1, 't': 1, 'h': 1, 'o': 2, 'n': 3, ' ': 3, 'p': 1, 'r': 2, 'g': 2, 'a': 1, 'm': 2, 'i': 2, 's': 1, 'f': 1, 'u': 1}\n"
          ]
        }
      ]
    },
    {
      "cell_type": "markdown",
      "source": [
        "# Task 12\n",
        "\n",
        "\n",
        "Suppose you are given the following dictionary where the values are lists.\n",
        "\n",
        "\n",
        "dict_1 = {'A': [1, 2, 3], 'b': ['1', '2'], \"c\": [4, 5, 6, 7]}\n",
        "\n",
        "\n",
        "Write a Python program that counts the total number of items in a dictionary’s values and prints it.\n",
        "\n",
        "\n",
        "[Without using sum(), len(), count() functions]\n",
        "\n",
        "\n",
        "Note: Make changes to the above dictionary and see if your code works properly for other dictionaries as well.\n",
        "\n",
        "\n",
        "===================================================================\n",
        "\n",
        "\n",
        "Output:\n",
        "9\n",
        "\n",
        "\n",
        "===================================================================\n"
      ],
      "metadata": {
        "id": "D9M5cRbTXX7v"
      }
    },
    {
      "cell_type": "code",
      "source": [
        "dict_1 = {'A': [1, 2, 3], 'b': ['1', '2'], \"c\": [4, 5, 6, 7]}\n",
        "c=0\n",
        "for key,value in dict_1.items():\n",
        "  for i in value:\n",
        "    c+=1\n",
        "print(c)\n",
        "\n"
      ],
      "metadata": {
        "colab": {
          "base_uri": "https://localhost:8080/"
        },
        "id": "mtaWva8mXfjX",
        "outputId": "28084e52-6d78-480d-8a06-8a35bc4466b3"
      },
      "execution_count": null,
      "outputs": [
        {
          "output_type": "stream",
          "name": "stdout",
          "text": [
            "9\n"
          ]
        }
      ]
    },
    {
      "cell_type": "markdown",
      "source": [
        "# Task 13\n",
        "\n",
        "\n",
        "Suppose you have been given the following list of tuples.\n",
        "list_1 = [(\"a\", 1), (\"b\", 2), (\"a\", 3), (\"b\", 1), (\"a\", 2), (\"c\", 1)]\n",
        "\n",
        "\n",
        "Write a Python program that converts this list of tuples into a dictionary and then prints the dictionary. The items in each tuple are a key and its value respectively. You need to group the values with the same keys into a list as shown below.\n",
        "\n",
        "\n",
        "[You are not allowed to use set]\n",
        "\n",
        "Hint: Think of membership operators (in and not in).\n",
        "\n",
        "\n",
        "===================================================================\n",
        "\n",
        "\n",
        "Output:\n",
        "{'a': [1, 3, 2], 'b': [2, 1], 'c': [1]}\n",
        "\n",
        "\n",
        "===================================================================\n"
      ],
      "metadata": {
        "id": "SgDkMrZiYbVk"
      }
    },
    {
      "cell_type": "code",
      "source": [
        "list_1 = [(\"a\", 1), (\"b\", 2), (\"a\", 3), (\"b\", 1), (\"a\", 2), (\"c\", 1)]\n",
        "d={}\n",
        "\n",
        "\n",
        "for i,j in list_1:\n",
        "  print(i,j)\n",
        "\n",
        "  if i not in d:\n",
        "    d[i]=[j]\n",
        "  else:\n",
        "    d[i].append(j)\n",
        "print(d)\n",
        "\n",
        "\n",
        "\n"
      ],
      "metadata": {
        "colab": {
          "base_uri": "https://localhost:8080/"
        },
        "id": "RyVB9qeYYgeV",
        "outputId": "89705874-c448-4c78-8c37-530775e9f94f"
      },
      "execution_count": null,
      "outputs": [
        {
          "output_type": "stream",
          "name": "stdout",
          "text": [
            "a 1\n",
            "b 2\n",
            "a 3\n",
            "b 1\n",
            "a 2\n",
            "c 1\n",
            "{'a': [1, 3, 2], 'b': [2, 1], 'c': [1]}\n"
          ]
        }
      ]
    },
    {
      "cell_type": "markdown",
      "source": [
        "# Optional Tasks (15-20) [Ungraded]\n"
      ],
      "metadata": {
        "id": "FTcsjbrG7lnA"
      }
    },
    {
      "cell_type": "markdown",
      "source": [
        "# Task 15\n",
        "\n",
        "\n",
        "Given a list of tuples, your task is to multiply the elements of the tuple and return a list of multiplied elements as shown below.\n",
        "\n",
        "===================================================================\n",
        "\n",
        "\n",
        "Example 1:\n",
        "Given:\n",
        "[(2, 3), (4, 5), (6, 7), (2, 8)]\n",
        "\n",
        "\n",
        "Output:\n",
        "[6, 20, 42, 16]\n",
        "\n",
        "===================================================================\n",
        "\n",
        "\n",
        "Example 2:\n",
        "\n",
        "Given:\n",
        "[(11, 22), (33, 55), (55, 77), (11, 44)]\n",
        "\n",
        "\n",
        "Output:\n",
        "[242, 1815, 4235, 484]\n",
        "\n",
        "\n",
        "===================================================================\n"
      ],
      "metadata": {
        "id": "tK9adMYJ7sN-"
      }
    },
    {
      "cell_type": "code",
      "source": [
        "x=[(2, 3), (4, 5), (6, 7), (2, 8)]\n",
        "lst=[]\n",
        "for i in x:\n",
        "  a,b=i\n",
        "\n",
        "\n",
        "  product=a*b\n",
        "  lst.append(product)\n",
        "\n",
        "\n",
        "print(lst)\n",
        "\n",
        "\n",
        "\n",
        "\n",
        "\n",
        "\n",
        "\n"
      ],
      "metadata": {
        "colab": {
          "base_uri": "https://localhost:8080/"
        },
        "id": "j2tsi3Pu70sb",
        "outputId": "30525d94-d4ca-4670-ff2b-6a6cd3fa2cd2"
      },
      "execution_count": null,
      "outputs": [
        {
          "output_type": "stream",
          "name": "stdout",
          "text": [
            "[6, 20, 42, 16]\n"
          ]
        }
      ]
    },
    {
      "cell_type": "markdown",
      "source": [
        "# Task 16\n",
        "\n",
        "\n",
        "Assume, you have been given a tuple as below.\n",
        "\n",
        "\n",
        "a_tuple = ( [1, 2, 3], [4, 5, 6], [7, 8, 9], [10, 11, 12])\n",
        "\n",
        "\n",
        "Write a Python program that asks the user for an input (can be any data type) and replaces the last element of each of the inner lists with the user given value.\n",
        "\n",
        "\n",
        "===================================================================\n",
        "\n",
        "\n",
        "Sample Input 1:\n",
        "abc\n",
        "\n",
        "\n",
        "Sample Output 1:\n",
        "([1, 2, 'abc'], [4, 5, 'abc'], [7, 8, 'abc'], [10, 11, 'abc'])\n",
        "\n",
        "\n",
        "===================================================================\n",
        "\n",
        "\n",
        "Sample Input 1:\n",
        "1000\n",
        "\n",
        "\n",
        "Sample Output 1:\n",
        "([1, 2, '1000'], [4, 5, '1000'], [7, 8, '1000'], [10, 11, '1000'])\n"
      ],
      "metadata": {
        "id": "74wqrCHc92Tr"
      }
    },
    {
      "cell_type": "code",
      "source": [
        "x = ( [1, 2, 3], [4, 5, 6], [7, 8, 9], [10, 11, 12])\n",
        "user=input()\n",
        "\n",
        "lst=[]\n",
        "\n",
        "for i in x:\n",
        "  i=i[:-1]\n",
        "  i.append(user)\n",
        "  lst.append(i)\n",
        "\n",
        "print(tuple(lst))\n",
        "\n",
        "\n",
        "\n",
        "\n",
        "\n",
        "\n",
        "\n",
        "\n",
        "\n",
        "\n"
      ],
      "metadata": {
        "colab": {
          "base_uri": "https://localhost:8080/"
        },
        "id": "8_B4nPp599jk",
        "outputId": "bbe2e7b8-7270-4b7f-a015-faf924487b56"
      },
      "execution_count": null,
      "outputs": [
        {
          "output_type": "stream",
          "name": "stdout",
          "text": [
            "sijan\n",
            "([1, 2, 'sijan'], [4, 5, 'sijan'], [7, 8, 'sijan'], [10, 11, 'sijan'])\n"
          ]
        }
      ]
    },
    {
      "cell_type": "markdown",
      "source": [
        "# Task 17\n",
        "\n",
        "\n",
        "Suppose there is a dictionary named my_dictionary.\n",
        "\n",
        "\n",
        "my_dictionary = {'c1':'Red', 'c2':'Green', 'c3':None, 'd4':'Blue', 'a5':None}.\n",
        "Now write a Python program to remove empty items from the dictionary. [Empty items means keys without any values (None)].\n",
        "\n",
        "\n",
        "===================================================================\n",
        "\n",
        "\n",
        "Output:\n",
        "{'c1':'Red', 'c2':'Green', 'd4':'Blue'}\n",
        "\n",
        "\n",
        "===================================================================\n"
      ],
      "metadata": {
        "id": "fvZasU4vB5Pt"
      }
    },
    {
      "cell_type": "code",
      "source": [
        "x = {'c1':'Red', 'c2':'Green', 'c3':None, 'd4':'Blue', 'a5':None}\n",
        "d={}\n",
        "for i,j in x.items():\n",
        "  if j is not None:\n",
        "    d[i]=j\n",
        "\n",
        "print(d)"
      ],
      "metadata": {
        "colab": {
          "base_uri": "https://localhost:8080/"
        },
        "id": "SPUMcELhB9pU",
        "outputId": "75507368-3009-4ba9-d46b-52f7847c5ba9"
      },
      "execution_count": null,
      "outputs": [
        {
          "output_type": "stream",
          "name": "stdout",
          "text": [
            "{'c1': 'Red', 'c2': 'Green', 'd4': 'Blue'}\n"
          ]
        }
      ]
    },
    {
      "cell_type": "markdown",
      "source": [
        "# Task 18\n",
        "\n",
        "\n",
        "Suppose you are given a dictionary as shown below. Write a Python program that takes two inputs from the user representing the lower (inclusive) and upper (exclusive) of a range of values. Your task is to extract all the items from the dictionary whose values lie in the range given as input by the user.\n",
        "\n",
        "\n",
        "dict_1 = {'a' : 6, 'b' : 7, 'c' : 9, 'd' : 8, 'e' : 11, 'f' : 12, 'g' : 13}\n",
        "\n",
        "\n",
        "===================================================================\n",
        "\n",
        "\n",
        "Sample Input 1:\n",
        "9, 12\n",
        "\n",
        "\n",
        "Sample Output 1:\n",
        "{'c': 9, 'e': 11}\n",
        "\n",
        "\n",
        "Explanation: Keys with values within the range of 9 and 11 are extracted.\n",
        "\n",
        "\n",
        "\n",
        "===================================================================\n",
        "\n",
        "\n",
        "Sample Input 2:\n",
        "14, 18\n",
        "\n",
        "\n",
        "Sample Output 2:\n",
        "{}\n",
        "Explanation: No values in range.\n",
        "\n",
        "\n",
        "\n",
        "===================================================================\n"
      ],
      "metadata": {
        "id": "AoyzSwHhCwVB"
      }
    },
    {
      "cell_type": "markdown",
      "source": [
        "\n",
        "\n",
        "---\n",
        "\n"
      ],
      "metadata": {
        "id": "eFeInRoKD9Qf"
      }
    },
    {
      "cell_type": "code",
      "source": [
        "d= {'a' : 6, 'b' : 7, 'c' : 9, 'd' : 8, 'e' : 11, 'f' : 12, 'g' : 13}\n",
        "\n",
        "low=int(input(\"enter lower number :\"))\n",
        "up=int(input(\"enter upper number :\"))\n",
        "\n",
        "x={}\n",
        "\n",
        "for i,j in d.items():\n",
        "\n",
        "\n",
        "  if low <= j  and  j<up:\n",
        "    x[i]=j\n",
        "\n",
        "print(x)\n",
        "\n",
        "\n",
        "\n"
      ],
      "metadata": {
        "colab": {
          "base_uri": "https://localhost:8080/"
        },
        "id": "XRISPB1GEFVM",
        "outputId": "e1e186a3-34a8-41da-e13a-984f2d721287"
      },
      "execution_count": null,
      "outputs": [
        {
          "output_type": "stream",
          "name": "stdout",
          "text": [
            "9\n",
            "12\n",
            "{'c': 9, 'e': 11}\n"
          ]
        }
      ]
    },
    {
      "cell_type": "markdown",
      "source": [
        "# Task 19\n",
        "\n",
        "\n",
        "Given a list of tuples, your task is to group the tuples based on the second element in the tuples as shown in the examples below. We can achieve this using dictionary by checking the second element in each tuple.\n",
        "\n",
        "\n",
        "[You do not need to take tuple as input and can assume that it is given as below]\n",
        "\n",
        "\n",
        "\n",
        "\n",
        "===================================================================\n",
        "\n",
        "\n",
        "Example 1:\n",
        "Given:\n",
        "[(20, 80), (31, 80), (1, 22), (88, 11), (27, 11)]\n",
        "Output:\n",
        "{80: [(20, 80), (31, 80)],\n",
        "11: [(88, 11), (27, 11)],\n",
        "22: [(1, 22)]}\n",
        "\n",
        "\n",
        "===================================================================\n",
        "\n",
        "\n",
        "Example 2:\n",
        "Given:\n",
        "[(20, 'Sad'), (31, 'Sad'), (88, 'NotSad'), (27, 'NotSad')]\n",
        "Output:\n",
        "{'NotSad': [(88, 'NotSad'), (27, 'NotSad')],\n",
        "'Sad: [(20, 'Sad'), (31, 'Sad')]}\n",
        "\n",
        "\n",
        "===================================================================\n"
      ],
      "metadata": {
        "id": "GCojapuvHtuT"
      }
    },
    {
      "cell_type": "code",
      "source": [
        "Item=[(20, 80), (31, 80), (1, 22), (88, 11), (27, 11)]\n",
        "\n",
        "\n",
        "#dict to store my second value\n",
        "D={}\n",
        "\n",
        "for x,y in Item:\n",
        "  if y in D:\n",
        "    D[y].append((x,y))\n",
        "  else:\n",
        "    D[y]=[(x,y)]\n",
        "\n",
        "print(D)"
      ],
      "metadata": {
        "colab": {
          "base_uri": "https://localhost:8080/"
        },
        "id": "ru1Nvc0j318x",
        "outputId": "6279ce26-c591-46ec-dfb7-bff922536a66"
      },
      "execution_count": null,
      "outputs": [
        {
          "output_type": "stream",
          "name": "stdout",
          "text": [
            "{80: [(20, 80), (31, 80)], 22: [(1, 22)], 11: [(88, 11), (27, 11)]}\n"
          ]
        }
      ]
    },
    {
      "cell_type": "code",
      "source": [
        "Input=[(20, 80), (31, 80), (1, 22), (88, 11), (27, 11)]\n",
        "\n",
        "dicct={}\n",
        "\n",
        "\n",
        "for i,j in Input:\n",
        "  if j in dicct:\n",
        "    dicct[j].append((i,j))\n",
        "  else:\n",
        "    dicct[j]=[(i,j)]\n",
        "print(dicct)\n"
      ],
      "metadata": {
        "colab": {
          "base_uri": "https://localhost:8080/"
        },
        "id": "xjvzXcnHYQB0",
        "outputId": "701e36d1-db50-4365-dbf5-76186d9e47ac"
      },
      "execution_count": 3,
      "outputs": [
        {
          "output_type": "stream",
          "name": "stdout",
          "text": [
            "{80: [(20, 80), (31, 80)], 22: [(1, 22)], 11: [(88, 11), (27, 11)]}\n",
            "80 [(20, 80), (31, 80)]\n",
            "22 [(1, 22)]\n",
            "11 [(88, 11), (27, 11)]\n"
          ]
        }
      ]
    },
    {
      "cell_type": "markdown",
      "source": [
        "# Task 20\n",
        "\n",
        "\n",
        "Write a python program that takes 2 inputs from the user.\n",
        "Input1: A string containing a single sentence or multiple sentences. Multiple sentences are separated by full stops.\n",
        "Input2: A list containing special characters.\n",
        "After taking the inputs, your task is to create a dictionary where the keys will be the corresponding special characters from the given list and the values will be the words in the given sentence.\n",
        "You need to find out which key belongs to which value. To do that, you should calculate the index number using the formula given below. The calculated index is the corresponding key of the word. Make sure no duplicate values are inserted.\n",
        "\n",
        "\n",
        "The formula:\n",
        "\n",
        "\n",
        "Index value of special character list = (ASCII sum of the word) % (length of special character list)\n",
        "\n",
        "\n",
        "========================================================================\n",
        "\n",
        "Sample Input 1:\n",
        "\n",
        "'I love Programming. Python is love.'\n",
        "\n",
        "['@', '$', '&', '#']\n",
        "\n",
        "Sample Output 1:\n",
        "\n",
        "Words in the given String: ['I', 'love', 'Programming', 'Python', 'is',\n",
        "'love']\n",
        "\n",
        "Answer: {'$': ['I'], '&': ['love', 'Python'], '#': ['Programming'],\n",
        "'@': ['is']}\n",
        "\n",
        "Explanation 1:\n",
        "\n",
        "From the string 'I love Programming. Python is love.' the {key: value}\n",
        "pair is calculated accordingly:\n",
        "\n",
        "\n",
        "\n",
        "\n",
        "The calculation is shown in the given table. Full stops after\n",
        "‘Programming.’ and ‘love.’ are avoided. Also, the last word ‘love’ is a\n",
        "duplicate, and therefore, it was not inserted again as a value.\n",
        "\n",
        "========================================================================\n",
        "\n",
        "Sample Input 2:\n",
        "\n",
        "'The secret of getting ahead is getting started.'\n",
        "\n",
        "\n",
        "['-', '=', '+', '*', '%']\n",
        "\n",
        "Sample Output 2:\n",
        "\n",
        "Words in the given String: ['The', 'secret', 'of', 'getting', 'ahead',\n",
        "'is', 'getting', 'started']\n",
        "\n",
        "\n",
        "Answer: {'%': ['The', 'getting', 'ahead', 'started'], '=': ['secret'],\n",
        "'*': ['of'], '-': ['is']}\n",
        "\n",
        "Explanation 2:\n",
        "\n",
        "From the string 'The secret of getting ahead is getting started.' the\n",
        "{key: value} pair is calculated accordingly:\n",
        "\n",
        "\n",
        "\n"
      ],
      "metadata": {
        "id": "7f725zyzYzNF"
      }
    },
    {
      "cell_type": "code",
      "source": [
        "user1=input()[1:-1]\n",
        "user2=input()[1:-1].split(\",\")\n",
        "\n",
        "\n",
        "d={}\n",
        "\n",
        "print(user1)\n",
        "print(user2)\n",
        "\n",
        "\n",
        "for i in user1:\n",
        "\n",
        "  idx= ord(i)% len(user2)"
      ],
      "metadata": {
        "colab": {
          "base_uri": "https://localhost:8080/"
        },
        "id": "DoGjZ2CkY_zl",
        "outputId": "0048adbc-5759-497b-c057-e3f435abfd41"
      },
      "execution_count": 17,
      "outputs": [
        {
          "output_type": "stream",
          "name": "stdout",
          "text": [
            "'I love Programming. Python is love.'\n",
            "['@', '$', '&', '#']\n",
            "I love Programming. Python is love.\n",
            "[\"'@'\", \" '$'\", \" '&'\", \" '#'\"]\n",
            "1\n",
            "0\n",
            "0\n",
            "3\n",
            "2\n",
            "1\n",
            "0\n",
            "0\n",
            "2\n",
            "3\n",
            "3\n",
            "2\n",
            "1\n",
            "1\n",
            "1\n",
            "1\n",
            "2\n",
            "3\n",
            "2\n",
            "0\n",
            "0\n",
            "1\n",
            "0\n",
            "0\n",
            "3\n",
            "2\n",
            "0\n",
            "1\n",
            "3\n",
            "0\n",
            "0\n",
            "3\n",
            "2\n",
            "1\n",
            "2\n"
          ]
        }
      ]
    },
    {
      "cell_type": "code",
      "source": [
        "x=\"a,b,c,d\"\n",
        "\n",
        "for i in x:\n",
        "  print(i)\n",
        "  print(ord(i))"
      ],
      "metadata": {
        "colab": {
          "base_uri": "https://localhost:8080/"
        },
        "id": "VewTKggLa7_v",
        "outputId": "9f517a4b-2561-4b71-f88b-6cf26f7847b6"
      },
      "execution_count": 15,
      "outputs": [
        {
          "output_type": "stream",
          "name": "stdout",
          "text": [
            "a\n",
            "97\n",
            ",\n",
            "44\n",
            "b\n",
            "98\n",
            ",\n",
            "44\n",
            "c\n",
            "99\n",
            ",\n",
            "44\n",
            "d\n",
            "100\n"
          ]
        }
      ]
    },
    {
      "cell_type": "code",
      "source": [
        "x='I love Programming. Python is love.'.split(\".\")\n",
        "sum=0\n",
        "print(x)\n",
        "\n",
        "for i in x:\n",
        "\n",
        "  for j in i:\n",
        "    idx=ord(j)\n",
        "    sum+=idx\n",
        "    print(sum)\n",
        "  sum=0\n"
      ],
      "metadata": {
        "colab": {
          "base_uri": "https://localhost:8080/"
        },
        "id": "eCdz-P9vcF9t",
        "outputId": "3bea4095-3411-49d2-b747-66ebf3ec6190"
      },
      "execution_count": 35,
      "outputs": [
        {
          "output_type": "stream",
          "name": "stdout",
          "text": [
            "['I love Programming', ' Python is love', '']\n",
            "73\n",
            "105\n",
            "213\n",
            "324\n",
            "442\n",
            "543\n",
            "575\n",
            "655\n",
            "769\n",
            "880\n",
            "983\n",
            "1097\n",
            "1194\n",
            "1303\n",
            "1412\n",
            "1517\n",
            "1627\n",
            "1730\n",
            "32\n",
            "112\n",
            "233\n",
            "349\n",
            "453\n",
            "564\n",
            "674\n",
            "706\n",
            "811\n",
            "926\n",
            "958\n",
            "1066\n",
            "1177\n",
            "1295\n",
            "1396\n"
          ]
        }
      ]
    },
    {
      "cell_type": "code",
      "source": [
        "x='I love Programming. Python is love.'.split(\".\")\n",
        "\n",
        "print(x)\n",
        "\n",
        "sum=0\n",
        "for i in x:\n",
        "#  print(i)\n",
        "\n",
        "  for j in i:\n",
        "  #  print(j)\n",
        "\n",
        "    if j !=\" \":\n",
        "      sum+=ord(j)\n",
        "    else:\n",
        "      sum=0\n",
        "      pass\n",
        "\n",
        "    print(sum)\n",
        "\n",
        "\n"
      ],
      "metadata": {
        "colab": {
          "base_uri": "https://localhost:8080/"
        },
        "id": "IHtfIZTBiYAv",
        "outputId": "92e8f9d1-2717-4f6d-cdaa-1b31c6c5a92e"
      },
      "execution_count": 69,
      "outputs": [
        {
          "output_type": "stream",
          "name": "stdout",
          "text": [
            "['I love Programming', ' Python is love', '']\n",
            "73\n",
            "0\n",
            "108\n",
            "219\n",
            "337\n",
            "438\n",
            "0\n",
            "80\n",
            "194\n",
            "305\n",
            "408\n",
            "522\n",
            "619\n",
            "728\n",
            "837\n",
            "942\n",
            "1052\n",
            "1155\n",
            "0\n",
            "80\n",
            "201\n",
            "317\n",
            "421\n",
            "532\n",
            "642\n",
            "0\n",
            "105\n",
            "220\n",
            "0\n",
            "108\n",
            "219\n",
            "337\n",
            "438\n"
          ]
        }
      ]
    },
    {
      "cell_type": "code",
      "source": [
        "#will solve later this task"
      ],
      "metadata": {
        "id": "flEUGC2RpiJN"
      },
      "execution_count": null,
      "outputs": []
    }
  ]
}