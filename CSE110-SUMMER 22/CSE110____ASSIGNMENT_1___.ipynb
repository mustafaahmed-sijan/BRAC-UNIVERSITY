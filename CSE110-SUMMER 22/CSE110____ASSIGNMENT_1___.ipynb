{
  "nbformat": 4,
  "nbformat_minor": 0,
  "metadata": {
    "colab": {
      "provenance": []
    },
    "kernelspec": {
      "name": "python3",
      "display_name": "Python 3"
    },
    "language_info": {
      "name": "python"
    }
  },
  "cells": [
    {
      "cell_type": "markdown",
      "source": [
        "**Task 1**\n",
        "\n",
        "\n",
        "Write a Python program that prints \"hello world\" in a console.\n"
      ],
      "metadata": {
        "id": "noWLfNGzYrls"
      }
    },
    {
      "cell_type": "code",
      "source": [
        "string=\" hellow world \"\n",
        "print(string)"
      ],
      "metadata": {
        "colab": {
          "base_uri": "https://localhost:8080/"
        },
        "id": "n28SPAajYy43",
        "outputId": "220401f3-3d09-446e-a7d9-c8c7dd79b6d6"
      },
      "execution_count": null,
      "outputs": [
        {
          "output_type": "stream",
          "name": "stdout",
          "text": [
            " hellow world \n"
          ]
        }
      ]
    },
    {
      "cell_type": "code",
      "source": [
        "#another process\n",
        "\n",
        "print(\" hellow world\")"
      ],
      "metadata": {
        "colab": {
          "base_uri": "https://localhost:8080/"
        },
        "id": "YteslUk2ZEuF",
        "outputId": "4d28790a-a80b-4bb9-85d9-fb1a4eea5495"
      },
      "execution_count": null,
      "outputs": [
        {
          "output_type": "stream",
          "name": "stdout",
          "text": [
            " hellow world\n"
          ]
        }
      ]
    },
    {
      "cell_type": "markdown",
      "source": [
        "**Task 2**\n",
        "\n",
        "Write a Python program that prints the summation of 54 and 56. The program must use Python operators and numbers but not use any variables.\n"
      ],
      "metadata": {
        "id": "EO8JbhVQZYX_"
      }
    },
    {
      "cell_type": "code",
      "source": [
        "print(54+56)"
      ],
      "metadata": {
        "colab": {
          "base_uri": "https://localhost:8080/"
        },
        "id": "aEdy-VbHZat1",
        "outputId": "93e55d07-2046-45c1-d564-92938a36e348"
      },
      "execution_count": null,
      "outputs": [
        {
          "output_type": "stream",
          "name": "stdout",
          "text": [
            "110\n"
          ]
        }
      ]
    },
    {
      "cell_type": "code",
      "source": [
        "#if we use variable\n",
        "number1=54\n",
        "number2=56 #here numbers are string so we need to convert string to integers\n",
        "\n",
        "Summation = int(number1+number2)\n",
        "\n",
        "print(Summation)\n",
        "\n",
        "\n",
        "#if you want to decorate your print statement than you can write in print statenent\n",
        "\n",
        "print(\"the summation of your two number is : \", Summation)"
      ],
      "metadata": {
        "colab": {
          "base_uri": "https://localhost:8080/"
        },
        "id": "mg1gKuG2ZnnW",
        "outputId": "e979eb50-0cfb-4596-91de-9adec47a6137"
      },
      "execution_count": null,
      "outputs": [
        {
          "output_type": "stream",
          "name": "stdout",
          "text": [
            "110\n",
            "the summation of your two number is :  110\n"
          ]
        }
      ]
    },
    {
      "cell_type": "markdown",
      "source": [
        "\n",
        "\n",
        "**Task 3**\n",
        "\n",
        "\n",
        "Write a Python program that assigns the values \"Summer\" and 2023 to variables `season` and `year` respectively. Then, print the values of both variables in separate lines.\n"
      ],
      "metadata": {
        "id": "dM2DY5tAajh2"
      }
    },
    {
      "cell_type": "code",
      "source": [
        "season= \" Summer\"\n",
        "year= 2023\n",
        "\n",
        "print(season)\n",
        "print(year)"
      ],
      "metadata": {
        "colab": {
          "base_uri": "https://localhost:8080/"
        },
        "id": "7y1VgRzjaoUx",
        "outputId": "bca72eef-4832-4c34-c4e0-429e7833b026"
      },
      "execution_count": null,
      "outputs": [
        {
          "output_type": "stream",
          "name": "stdout",
          "text": [
            " Summer\n",
            "2023\n"
          ]
        }
      ]
    },
    {
      "cell_type": "markdown",
      "source": [
        "**Task 4**\n",
        "\n",
        "Write a Python program that reads the user's name and prints it back as shown in the examples below.\n",
        "\n",
        "\n"
      ],
      "metadata": {
        "id": "fiM2jbeOcZJo"
      }
    },
    {
      "cell_type": "code",
      "source": [
        "user_name=input(\"Enter your name : \") #user_name is our input function\n",
        "print(\"your name is \", user_name)\n"
      ],
      "metadata": {
        "id": "HsfttPHCcYxk",
        "colab": {
          "base_uri": "https://localhost:8080/"
        },
        "outputId": "288238c3-519f-425c-f172-ec9b2d829f4e"
      },
      "execution_count": null,
      "outputs": [
        {
          "output_type": "stream",
          "name": "stdout",
          "text": [
            " enter your name : sijan\n",
            "your name is  sijan\n"
          ]
        }
      ]
    },
    {
      "cell_type": "markdown",
      "source": [
        "# **Task 5**\n",
        "\n",
        "Write a Python program that reads two integers M and N respectively and finds the value of M^N (or MN) and prints the value exactly as shown in the examples below. Your code should work correctly for any other sample inputs.\n"
      ],
      "metadata": {
        "id": "BUiIl6g36446"
      }
    },
    {
      "cell_type": "code",
      "source": [
        "M=int(input(\" Enter first number for M : \"))\n",
        "N=int(input(\" Enter another number for N : \"))\n",
        "\n",
        "#python takes input as string so,\n",
        "#we need to convert string to int for our mathematical calculations\n",
        "\n",
        "new= (M**N) #here m**n means m^n || to ex: x**2 means x^2\n",
        "\n",
        "print(\" output : \", new)"
      ],
      "metadata": {
        "colab": {
          "base_uri": "https://localhost:8080/"
        },
        "id": "MnDz0Cu_64gw",
        "outputId": "9000d7af-ed5c-4188-f64b-153e4c8d6a81"
      },
      "execution_count": null,
      "outputs": [
        {
          "output_type": "stream",
          "name": "stdout",
          "text": [
            " Enter first number for M : 10\n",
            " Enter another number for N : 3\n",
            " output :  1000\n"
          ]
        }
      ]
    },
    {
      "cell_type": "markdown",
      "source": [
        "# **Task 6**\n",
        "A sailor has a boat known as Téssares Boat, which has four corners. The boat is capable of carrying goods of any weight as long as there is equal distribution of loads on each corner of the boat - the center area has been occupied by the engine. The sailor needs your help to know the maximum amount of weight he can carry in each shipment.\n",
        "Write a Python program that reads the total weight of the shipment and prints the maximum load (or weight) the boat can take from the given shipment. We can assume that the weight of each good is exactly 1 unit, therefore, the weight of 5 units means there are 5 (loose) items in the shipment.\n"
      ],
      "metadata": {
        "id": "7uo7BSVP8Pq7"
      }
    },
    {
      "cell_type": "code",
      "source": [
        "user=int(input(\" enter the weight :  \"))\n",
        "x= user/4\n",
        "new=int(x)*4\n",
        "print(\" out put : \",new)"
      ],
      "metadata": {
        "colab": {
          "base_uri": "https://localhost:8080/"
        },
        "id": "reD3v5qL8SCg",
        "outputId": "22594ca8-ce8b-4467-dee8-17f7ac3f101a"
      },
      "execution_count": null,
      "outputs": [
        {
          "output_type": "stream",
          "name": "stdout",
          "text": [
            " enter the weight :  80\n",
            " out put :  80\n"
          ]
        }
      ]
    },
    {
      "cell_type": "markdown",
      "source": [
        "# **Task 7**\n",
        "Write a Python program that reads 3 integers A, B, and C respectively, and then reads a floating point number D. After reading, the program should print the result (as int) using the given formula below.\n",
        "Formula110: A^C+B*A-D3 ::\n",
        "\n",
        "---\n",
        "\n",
        "\n",
        "\n"
      ],
      "metadata": {
        "id": "bcyfQK3DHSDp"
      }
    },
    {
      "cell_type": "code",
      "source": [
        "\n",
        "A=int(input(\" enter first number : \"))\n",
        "B=int(input(\" enter another number : \"))\n",
        "C=int(input(\" enter the number for value 'c' : \"))\n",
        "D=float(input(\" enter the number for value 'D' : \"))\n",
        "\n",
        "\n",
        "formula=A**C+ B*A-D/3\n",
        "print(\"______________________\")\n",
        "\n",
        "print(\" sample output : \", int(formula))\n",
        "\n",
        "print(\"______________________\")"
      ],
      "metadata": {
        "colab": {
          "base_uri": "https://localhost:8080/"
        },
        "id": "beFViDDEHjIW",
        "outputId": "e36e58d7-5241-4204-dc4f-0a763f4dc53a"
      },
      "execution_count": null,
      "outputs": [
        {
          "output_type": "stream",
          "name": "stdout",
          "text": [
            " enter first number : 2\n",
            " enter another number : 6\n",
            " enter the number for value 'c' : 8\n",
            " enter the number for value 'D' : 1.3\n",
            "______________________\n",
            " sample output :  267\n",
            "______________________\n"
          ]
        }
      ]
    },
    {
      "cell_type": "markdown",
      "source": [
        "# **Task 8**\n",
        "\n",
        "\n",
        "---\n",
        "\n",
        "\n",
        "Write a python program that takes an integer from the user which represents the number of chocolates that he/she has. He/She decided to distribute the chocolates equally among 3 friends, keeping the remaining chocolates for him/herself. Find out the number of chocolates each friend will receive and the number of chocolates that will be remaining.\n",
        "\n",
        "\n",
        "\n",
        "\n",
        "Sample Input 1:\n",
        "50\n",
        "\n",
        "Sample Output 1:\n",
        "Each friend will receive 16 chocolates\n",
        "\n",
        "The number of remaining chocolates is 2\n",
        "\n",
        "Sample Input 2:\n",
        "90\n",
        "\n",
        "Sample Output 2:\n",
        "Each friend will receive 30 chocolates\n",
        "\n",
        "The number of remaining chocolates is 0\n"
      ],
      "metadata": {
        "id": "hwbmVUYDJO3G"
      }
    },
    {
      "cell_type": "code",
      "source": [
        "user=int(input(\" enter the number of chocolates : \"))\n",
        "each_friend=int(user/3)\n",
        "remain= user-(each_friend*3)\n",
        "\n",
        "print(\" Each friend will receive \", each_friend, \" chocolats \")\n",
        "\n",
        "print(\" the number of remainng chocolets is \", remain)"
      ],
      "metadata": {
        "colab": {
          "base_uri": "https://localhost:8080/"
        },
        "id": "el_a6VEeJWup",
        "outputId": "0f7e75fe-b499-445e-d2ce-6701c82c6125"
      },
      "execution_count": null,
      "outputs": [
        {
          "output_type": "stream",
          "name": "stdout",
          "text": [
            " enter the number of chocolates : 90\n",
            " Each friend will receive  30  chocolats \n",
            " the number of remainng chocolets is  0\n"
          ]
        }
      ]
    },
    {
      "cell_type": "markdown",
      "source": [
        "# **Optional (9 - 11) [Ungraded] **\n",
        "\n",
        "\n",
        "---\n",
        "\n",
        "\n",
        "These tasks are just for practice. No marks will be deducted for not  completing them and no bonus marks will be given for solving them. Just try and practice these problems.\n"
      ],
      "metadata": {
        "id": "IxxGTNRyK-a-"
      }
    },
    {
      "cell_type": "code",
      "source": [
        "M=input()\n",
        "N=input()\n",
        "print(N+M)"
      ],
      "metadata": {
        "colab": {
          "base_uri": "https://localhost:8080/"
        },
        "id": "CQPmk-TBLDcQ",
        "outputId": "499f89b0-b71b-4182-94d4-4e5db6f97973"
      },
      "execution_count": null,
      "outputs": [
        {
          "output_type": "stream",
          "name": "stdout",
          "text": [
            "hellow\n",
            "world\n",
            "worldhellow\n"
          ]
        }
      ]
    },
    {
      "cell_type": "markdown",
      "source": [
        "# **Task 10**\n",
        "Write a Python program that takes an integer, a float, and another integer number as input from the user and prints the result as shown below. At first, add the first integer number to the float and then concatenate the third input integer number.\n"
      ],
      "metadata": {
        "id": "20hxaajFLcri"
      }
    },
    {
      "cell_type": "code",
      "source": [
        "user1=int(input(\" enter first integer : \"))\n",
        "user2=float(input(\" entet second number as float : \"))\n",
        "user3=int(input(\"enter the last number : \"))\n",
        "\n",
        "sum=(user1+user2)\n",
        "\n",
        "\n",
        "string=str(new)+str(user3)\n",
        "\n",
        "\n",
        "print(\" the inputs : \", user1, user2, user3)\n",
        "print(\" the result : \", string)"
      ],
      "metadata": {
        "colab": {
          "base_uri": "https://localhost:8080/"
        },
        "id": "WjWkf15-Lep1",
        "outputId": "76a92633-baa0-45a5-cedc-4453864ae72c"
      },
      "execution_count": null,
      "outputs": [
        {
          "output_type": "stream",
          "name": "stdout",
          "text": [
            " enter first integer : 3\n",
            " entet second number as float : 11.57\n",
            "enter the last number : 7\n",
            " the inputs :  3 11.57 7\n",
            " the result :  14.577\n"
          ]
        }
      ]
    },
    {
      "cell_type": "markdown",
      "source": [
        "# **Task 11**\n",
        "Write a Python program that reads an integer and prints \"True\" if the number is even, otherwise, \"False\". [Need concept of branching/conditional statements/if-else statements to solve this. These topics may not have been discussed in class yet. Try to solve it if you can.]\n"
      ],
      "metadata": {
        "id": "huvItK-kN-Xd"
      }
    },
    {
      "cell_type": "code",
      "source": [
        "user=int(input(\"enter the number : \"))\n",
        "if user%2==0:\n",
        "  print(\" True \")\n",
        "else:\n",
        "  print(\" False\")"
      ],
      "metadata": {
        "colab": {
          "base_uri": "https://localhost:8080/"
        },
        "id": "3E7VFC6fN-Ci",
        "outputId": "e06eacbf-8758-4eae-b038-dc390a0a5d48"
      },
      "execution_count": null,
      "outputs": [
        {
          "output_type": "stream",
          "name": "stdout",
          "text": [
            "enter the number : -26\n",
            " True \n"
          ]
        }
      ]
    }
  ]
}