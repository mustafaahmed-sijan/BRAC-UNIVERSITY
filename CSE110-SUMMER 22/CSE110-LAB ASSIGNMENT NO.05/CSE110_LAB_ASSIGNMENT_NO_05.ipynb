{
  "cells": [
    {
      "cell_type": "markdown",
      "metadata": {
        "id": "jSNDBlCUTvJs"
      },
      "source": [
        "#Pdf link:\n",
        "\n",
        "\n",
        "https://docs.google.com/document/d/1P8ffb5C82zd0vT7251ykzCBjS1SUvVH5/edit\n",
        "\n",
        "\n",
        "\n",
        "----------"
      ]
    },
    {
      "cell_type": "markdown",
      "metadata": {
        "id": "PgcFijHYThbs"
      },
      "source": [
        "\n",
        "This Assignment is to help you develop your concept of Lists in Python.\n",
        "\n",
        "\n",
        "[Please follow variable naming conventions including using meaningful variable names for all the tasks]\n",
        "\n",
        "\n",
        "When you run your code, please make sure your outputs exactly match the sample outputs for each of the sample inputs given. Check if your code works for other valid inputs not given in the samples.\n",
        "Write the code in Python to do the following tasks:\n",
        "\n",
        "\n",
        "# Task 1\n",
        "\n",
        "\n",
        "\n",
        "Write a Python program that reads 5 numbers from the user\n",
        "into a list. After reading each number, print all the\n",
        "numbers that have been entered so far in the list.\n",
        "\n",
        "Example:\n",
        "\n",
        "If the user enters 3, prints “Numbers in the list: [3]”\n",
        "\n",
        "If the user enters 5 next, prints “Numbers in the list: [3,\n",
        "5]”\n",
        "\n",
        "If the user enters 34, prints “Numbers in the list: [3, 5,\n",
        "34]”\n",
        "\n",
        "If the user then enters -11, prints “Numbers in the list:\n",
        "\n",
        "[3, 5, 34, -11]”\n",
        "\n",
        "Finally, if the user enters 0 as the last number, prints\n",
        "“Numbers in the list: [3, 5, 34, -11, 0]”\n",
        "\n",
        "\n",
        "\n",
        "\n",
        "\n",
        "---\n",
        "\n"
      ]
    },
    {
      "cell_type": "code",
      "execution_count": null,
      "metadata": {
        "colab": {
          "base_uri": "https://localhost:8080/"
        },
        "id": "tnI5FyZzUCjE",
        "outputId": "c3fd3084-270c-499d-88fb-e21433c8ef05"
      },
      "outputs": [
        {
          "name": "stdout",
          "output_type": "stream",
          "text": [
            " Enter number3\n",
            "[3]\n",
            " Enter number2\n",
            "[3, 2]\n",
            " Enter number2\n",
            "[3, 2, 2]\n",
            " Enter number2\n",
            "[3, 2, 2, 2]\n",
            " Enter number2\n",
            "[3, 2, 2, 2, 2]\n"
          ]
        }
      ],
      "source": [
        "lst=[]\n",
        "\n",
        "\n",
        "\n",
        "\n",
        "for i in range(5):\n",
        "  user=int(input(\" Enter number\"))\n",
        "  lst.append(user)\n",
        "  print(lst)"
      ]
    },
    {
      "cell_type": "markdown",
      "metadata": {
        "id": "BGKyrjrNJ5m1"
      },
      "source": [
        "# Task 2\n",
        "\n",
        "\n",
        "Write a Python program that takes an input from the user, then creates a new list excluding the first and last two elements of the given list and prints the new list. If there are not enough elements in the list to do the task, print \"Not possible\".\n",
        "\n",
        "Note: You may use list slicing.\n",
        "\n",
        "\n",
        "=============================================================\n",
        "\n",
        "\n",
        "Sample Input 1:\n",
        "\n",
        "10, 20, 24, 25, 26, 35, 70\n",
        "\n",
        "Sample Output 1:\n",
        "\n",
        "[24, 25, 26]\n",
        "\n",
        "===================================\n",
        "\n",
        "\n",
        "Sample Input 2:\n",
        "\n",
        "10, 20, 24, 25, 26\n",
        "\n",
        "Sample Output 2:\n",
        "\n",
        "[24]\n",
        "\n",
        "\n",
        "====================================================\n",
        "\n",
        "\n",
        "Sample Input 3:\n",
        "\n",
        "10, 20, 24, 25\n",
        "\n",
        "Sample Output 3:\n",
        "\n",
        "[]\n",
        "\n",
        "======================\n",
        "\n",
        "Sample Input 4:\n",
        "\n",
        "10, 20, 24\n",
        "\n",
        "Sample Output 4:\n",
        "\n",
        "Not possible\n",
        "\n",
        "\n",
        "\n",
        "\n"
      ]
    },
    {
      "cell_type": "code",
      "execution_count": null,
      "metadata": {
        "colab": {
          "base_uri": "https://localhost:8080/"
        },
        "id": "TKQIdHDTKB-H",
        "outputId": "f7fcd255-d21b-4f1e-cdfc-52173ebdff12"
      },
      "outputs": [
        {
          "name": "stdout",
          "output_type": "stream",
          "text": [
            "10, 20, 24\n",
            "not possible\n"
          ]
        }
      ],
      "source": [
        "user=(input()).split(\",\")\n",
        "x=[]\n",
        "for i in range(len(user)):\n",
        "  x.append(int(user[i]))\n",
        "\n",
        "\n",
        "\n",
        "if len(x)>=4:\n",
        "  print(x[2:-2])\n",
        "elif len(x)<=3:\n",
        "  print(\" Not possible\")\n",
        "\n"
      ]
    },
    {
      "cell_type": "code",
      "execution_count": null,
      "metadata": {
        "colab": {
          "base_uri": "https://localhost:8080/"
        },
        "id": "bn6dEQJHyHgd",
        "outputId": "779feb85-b0d5-4838-99a1-26b4dd787897"
      },
      "outputs": [
        {
          "name": "stdout",
          "output_type": "stream",
          "text": [
            "10, 20, 24, 25, 26, 35, 70\n",
            "[' 24', ' 25', ' 26']\n"
          ]
        }
      ],
      "source": [
        "user=(input()).split(\",\")\n",
        "x=[]\n",
        "for i in user:\n",
        "  x.append(i)\n",
        "\n",
        "\n",
        "\n",
        "if len(x)>=4:\n",
        "  print(x[2:-2])\n",
        "elif len(x)<=3:\n",
        "  print(\"not possible\")\n",
        "\n",
        "\n",
        "\n",
        "#in this code everything is fine but we got [\"24\"] because\n",
        "#this is string so we will convert this to integers to get\n",
        "#our desire value"
      ]
    },
    {
      "cell_type": "markdown",
      "metadata": {
        "id": "HDzsfYDm1T6L"
      },
      "source": [
        "# Task 3\n",
        "\n",
        "Write a python program that reads\n",
        "5 numbers from the user into a\n",
        "\n",
        "list, and then prints them in the\n",
        "reverse order.\n",
        "\n",
        "Hint: You may create a list to\n",
        "store the input numbers and then\n",
        "use loop to print them in reverse\n",
        "order\n",
        "==================================\n",
        "=================================\n",
        "\n",
        "\n",
        "Sample Input:\n",
        "\n",
        "5\n",
        "\n",
        "-5\n",
        "\n",
        "100\n",
        "\n",
        "1\n",
        "\n",
        "0\n",
        "Sample Output:\n",
        "\n",
        "\n",
        "Printing values from the list in reverse order:\n",
        "\n",
        "0\n",
        "\n",
        "1\n",
        "\n",
        "100\n",
        "\n",
        "-5\n",
        "\n",
        "5\n",
        "\n",
        "\n"
      ]
    },
    {
      "cell_type": "code",
      "execution_count": null,
      "metadata": {
        "colab": {
          "base_uri": "https://localhost:8080/"
        },
        "id": "VcxFUWx91Z_g",
        "outputId": "4ad8768a-9178-4d75-b177-58992832c6b5"
      },
      "outputs": [
        {
          "name": "stdout",
          "output_type": "stream",
          "text": [
            " Enter number : 1\n",
            " Enter number : 2\n",
            " Enter number : 3\n",
            " Enter number : 4\n",
            " Enter number : 5\n",
            "Printing value from the list in reverse order: \n",
            "5\n",
            "4\n",
            "3\n",
            "2\n",
            "1\n"
          ]
        }
      ],
      "source": [
        "lst=[]\n",
        "\n",
        "for i in range(5):\n",
        "  user=int(input(\" Enter number : \"))\n",
        "  lst.append(user)\n",
        "\n",
        "\n",
        "\n",
        "\n",
        "print(\"Printing value from the list in reverse order: \")\n",
        "for i in range(4,-1,-1):\n",
        "\n",
        "  print(lst[i])\n"
      ]
    },
    {
      "cell_type": "markdown",
      "metadata": {
        "id": "2VBENx6o6Anq"
      },
      "source": [
        "# Task 4\n",
        "\n",
        "\n",
        "Write a Python program that turns\n",
        "every item of a list into its\n",
        "square. [Your program should work\n",
        "for any lists; make changes to\n",
        "the lists below and check whether\n",
        "your program works correctly]\n",
        "\n",
        "==================================\n",
        "\n",
        "\n",
        "Given list 1:\n",
        "\n",
        "[1, 2, 3, 4, 5, 6, 7]\n",
        "\n",
        "Sample Output 1:\n",
        "\n",
        "[1, 4, 9, 16, 25, 36, 49]\n",
        "\n",
        "==================================\n",
        "\n",
        "\n",
        "Given list 2:\n",
        "\n",
        "[3, 5, 1, 6]\n",
        "\n",
        "\n",
        "Sample Output 2:\n",
        "\n",
        "[9, 25, 1, 36]\n",
        "\n"
      ]
    },
    {
      "cell_type": "code",
      "execution_count": null,
      "metadata": {
        "colab": {
          "base_uri": "https://localhost:8080/"
        },
        "id": "sQVyqSOR9qTx",
        "outputId": "969518e4-8623-4b8e-836a-89f163fbf5b6"
      },
      "outputs": [
        {
          "name": "stdout",
          "output_type": "stream",
          "text": [
            "Enter your list : [1, 2, 3, 4, 5, 6, 7]\n",
            "Input : ['1', ' 2', ' 3', ' 4', ' 5', ' 6', ' 7']\n",
            "Output :  [1, 4, 9, 16, 25, 36, 49]\n"
          ]
        }
      ],
      "source": [
        "user=input(\"Enter your list : \")[1:-1].split(\",\")\n",
        "print(\"Input :\",user)\n",
        "new=[]\n",
        "\n",
        "for i in user:\n",
        "  new.append(int(i)**2)\n",
        "print(\"Output : \",new)\n",
        "\n",
        "#first we took a list as a string\n",
        "# and we scliced to remove bracket []\n",
        "# and split by \",\" now everything become a list and splited\n",
        "#its time to use loop and convert them int and squre them\n",
        "\n",
        "\n"
      ]
    },
    {
      "cell_type": "markdown",
      "metadata": {
        "id": "t4yd9CCwAy72"
      },
      "source": [
        "# Task 5\n",
        "\n",
        "Write a Python program that removes all Empty strings from a given list and prints the modified list.\n",
        "\n",
        " [Your program should work for any given list; make changes to the list below and check whether your program works correctly]\n",
        "\n",
        "Given List:\n",
        "\n",
        "\n",
        "[\"hey\", \"there\", \"\", \"what's\", \"\", \"up\", \"\", \"?\"]\n",
        "Sample Output:\n",
        "\n",
        "Original List: ['hey', 'there', '', \"what's\", '', 'up', '', '?']\n",
        "\n",
        "Modified List: ['hey', 'there', \"what's\", 'up', '?']\n"
      ]
    },
    {
      "cell_type": "code",
      "execution_count": null,
      "metadata": {
        "colab": {
          "base_uri": "https://localhost:8080/"
        },
        "id": "6ebk9eQFGuvB",
        "outputId": "12dec92c-0f76-4db4-b742-e5071de34726"
      },
      "outputs": [
        {
          "name": "stdout",
          "output_type": "stream",
          "text": [
            "[\"hey\", \"there\", \"\", \"what's\", \"\", \"up\", \"\", \"?\"]\n",
            "['\"hey\"', ' \"there\"', ' \"\"', ' \"what\\'s\"', ' \"\"', ' \"up\"', ' \"\"', ' \"?\"']\n",
            "['\"hey\"', ' \"there\"', ' \"what\\'s\"', ' \"up\"', ' \"?\"']\n"
          ]
        }
      ],
      "source": [
        "user=(input())[1:-1].split(\",\")\n",
        "\n",
        "x=[]\n",
        "new=[]\n",
        "y=[]\n",
        "for i in user:\n",
        "  x.append(i)\n",
        "print(x)\n",
        "\n",
        "for i in x:\n",
        "  if i!=' \"\"':\n",
        "    y.append(i)\n",
        "print(y)"
      ]
    },
    {
      "cell_type": "code",
      "execution_count": null,
      "metadata": {
        "colab": {
          "base_uri": "https://localhost:8080/"
        },
        "id": "H1icznJIbjl1",
        "outputId": "092a23a4-c9c4-47e1-b500-788bcbf88266"
      },
      "outputs": [
        {
          "name": "stdout",
          "output_type": "stream",
          "text": [
            "[\"hey\", \"there\", \"\", \"what's\", \"\", \"up\", \"\", \"?\"]\n",
            "['\"', 'h', 'e', 'y', '\"', ',', ' ', '\"', 't', 'h', 'e', 'r', 'e', '\"', ',', ' ', '\"', '\"', ',', ' ', '\"', 'w', 'h', 'a', 't', \"'\", 's', '\"', ',', ' ', '\"', '\"', ',', ' ', '\"', 'u', 'p', '\"', ',', ' ', '\"', '\"', ',', ' ', '\"', '?', '\"']\n"
          ]
        }
      ],
      "source": [
        "user=(input())[1:-1].split(\",\")\n",
        "\n",
        "x=[]\n",
        "st=\"\"\n",
        "for i in user:\n",
        "  if i!=' \"\"':\n",
        "   x.append(i)\n",
        "print(x)\n",
        "\n"
      ]
    },
    {
      "cell_type": "markdown",
      "metadata": {
        "id": "sz0IQdYDc6H6"
      },
      "source": [
        "# Task 6\n",
        "\n",
        "\n",
        "\n",
        "Write a Python program that reads\n",
        "a string containing 7 numbers\n",
        "separated by commas, then makes a\n",
        "list of those numbers and prints\n",
        "the largest number and its\n",
        "location or index position in the\n",
        "list. [You are not allowed to use\n",
        "the max(), sort(), sorted()\n",
        "function here]\n",
        "\n",
        "[Your program should work for any\n",
        "given list; make changes to the\n",
        "list below and check whether your\n",
        "program works correctly]\n",
        "\n",
        "Hint: You may assume the first\n",
        "input to be the largest value\n",
        "initially and the largest value’s\n",
        "location to be 0.\n",
        "\n",
        "Note: You may need to be careful\n",
        "while printing the output.\n",
        "Depending on your code, you might\n",
        "need data conversion.\n",
        "\n",
        "==================================\n",
        "=================================\n",
        "\n",
        "\n",
        "Sample Input:\n",
        "\n",
        "7,13,2,10,6,-11,0\n",
        "\n",
        "Sample Output:\n",
        "\n",
        "My list: [7, 13, 2, 10, 6, -11, 0]\n",
        "\n",
        "Largest number in the list is 13\n",
        "which was found at index 1.\n",
        "\n",
        "\n",
        "\n",
        "\n"
      ]
    },
    {
      "cell_type": "code",
      "execution_count": null,
      "metadata": {
        "colab": {
          "base_uri": "https://localhost:8080/"
        },
        "id": "J1BsGlLIdAdZ",
        "outputId": "701ed4f2-e0d2-49e1-85c1-5c0f992fd082"
      },
      "outputs": [
        {
          "name": "stdout",
          "output_type": "stream",
          "text": [
            " enter 7 numbers separated by commas  : 7,13,2,10,6,-11,0\n",
            " my list ['7', '13', '2', '10', '6', '-11', '0']\n",
            " Largest number in the list is 13 which was found at indes [idx]\n"
          ]
        }
      ],
      "source": [
        "user=input(\" enter 7 numbers separated by commas  : \").split(\",\")\n",
        "print(\" my list\", user)\n",
        "min=-1\n",
        "max=0\n",
        "idx=0\n",
        "for i in range(len(user)):\n",
        "  if int(user[i]) > int(min):\n",
        "    max=user[i]\n",
        "    idx=i\n",
        "    min=max\n",
        "\n",
        "print(f\" Largest number in the list is {max} which was found at indes [idx]\")\n"
      ]
    },
    {
      "cell_type": "markdown",
      "metadata": {
        "id": "v2JktMtUf4eb"
      },
      "source": [
        "\n",
        "# Task 7\n",
        "\n",
        "\n",
        "\n",
        "Suppose you have been given two\n",
        "lists. Write a Python program\n",
        "that replaces the last element of\n",
        "the first list with the second\n",
        "list. [Your program should work\n",
        "for any two given lists; make\n",
        "changes to the lists below and\n",
        "\n",
        "check whether your program works correctly]\n",
        "\n",
        "==================================\n",
        "=================================\n",
        "\n",
        "Sample given lists 1:\n",
        "\n",
        "List_one : [1, 4, 7, 5]\n",
        "\n",
        "List_two : [6, 1, 3, 9]\n",
        "\n",
        "Sample Output 1:\n",
        "\n",
        "[1, 4, 7, 6, 1, 3, 9]\n",
        "\n",
        "==================================\n",
        "=================================\n",
        "\n",
        "Sample given lists 2:\n",
        "\n",
        "List_one : [1, 3, 5, 7, 9, 10]\n",
        "\n",
        "List_two : [2, 4, 6, 8]\n",
        "\n",
        "Sample Output 2:\n",
        "\n",
        "[1, 3, 5, 7, 9, 2, 4, 6, 8]\n",
        "\n",
        "\n",
        "\n"
      ]
    },
    {
      "cell_type": "code",
      "execution_count": null,
      "metadata": {
        "colab": {
          "base_uri": "https://localhost:8080/"
        },
        "id": "kks87gSBf9Kf",
        "outputId": "f2d2fb51-bfa0-4127-ff94-403fdce0a67e"
      },
      "outputs": [
        {
          "name": "stdout",
          "output_type": "stream",
          "text": [
            " [1, 3, 5, 7, 9, 10]\n",
            "[2, 4, 6, 8]\n",
            " [1, 3, 5, 7, 9, 12, 4, 6, 8]\n"
          ]
        }
      ],
      "source": [
        "user1=input()\n",
        "user2=input()\n",
        "\n",
        "new=user1[:-2]+user2[1:]\n",
        "print(new)"
      ]
    },
    {
      "cell_type": "markdown",
      "metadata": {
        "id": "tjmZ5zSthT9j"
      },
      "source": [
        "# Task 8\n",
        "\n",
        "\n",
        "Assume, you have been given two\n",
        "lists. [Your program should work\n",
        "for any two given lists; change\n",
        "the following lists and check\n",
        "whether your program works\n",
        "correctly for the code you have\n",
        "written]\n",
        "\n",
        "list_one = [1, 2, 3, 4, 5, 6, 7,\n",
        "8, 9]\n",
        "\n",
        "list_two = [10, 11, 12, -13, -14,\n",
        "-15, -16]\n",
        "\n",
        "Write a Python program that\n",
        "creates a new list with all the\n",
        "even elements of both of the\n",
        "given lists and prints the new\n",
        "list.\n",
        "\n",
        "Hint: You may create a third list\n",
        "to store the even elements of the\n",
        "given lists.\n",
        "\n",
        "==================================\n",
        "=================================\n",
        "\n",
        "Output for the above lists: [2,\n",
        "4, 6, 8, 10, 12, -14, -16]\n",
        "\n",
        "\n",
        "\n"
      ]
    },
    {
      "cell_type": "code",
      "execution_count": null,
      "metadata": {
        "colab": {
          "base_uri": "https://localhost:8080/"
        },
        "id": "V1bR90fUhX2G",
        "outputId": "48795393-8c4c-4308-bbe7-b0d9fd671d0d"
      },
      "outputs": [
        {
          "name": "stdout",
          "output_type": "stream",
          "text": [
            "[1, 2, 3, 4, 5, 6, 7, 8, 9]\n",
            "[10, 11, 12, -13, -14, -15, -16]\n",
            "['1', ' 2', ' 3', ' 4', ' 5', ' 6', ' 7', ' 8', ' 9']\n",
            "['10', ' 11', ' 12', ' -13', ' -14', ' -15', ' -16']\n",
            "[2, 4, 6, 8, 10, 12, -14, -16]\n"
          ]
        }
      ],
      "source": [
        "user1=input()[1:-1].split(\",\")\n",
        "user2=input()[1:-1].split(\",\")\n",
        "\n",
        "\n",
        "new=[]\n",
        "\n",
        "for i in user1:\n",
        "  if int(i)%2==0:\n",
        "    new.append(int(i))\n",
        "\n",
        "for j in user2:\n",
        "  if int(j)%2==0:\n",
        "    new.append(int(j))\n",
        "\n",
        "print(new)\n",
        "\n"
      ]
    },
    {
      "cell_type": "markdown",
      "metadata": {
        "id": "JM8kyraceIye"
      },
      "source": [
        "\n",
        "\n",
        "# Task 9\n",
        "\n",
        "\n",
        "Write a Python program that reads\n",
        "a string as an input from the\n",
        "user where multiple numbers are\n",
        "separated by spaces. Then, make a\n",
        "list of numbers from the input\n",
        "\n",
        "string without using the split()\n",
        "function and print the list.\n",
        "Finally, remove all the\n",
        "occurrences of even numbers from\n",
        "the same input list and print the\n",
        "modified list.\n",
        "\n",
        "==================================\n",
        "==================================\n",
        "\n",
        "Sample Input:\n",
        "\n",
        "7 12 4 55 96 2 11 61 33 42\n",
        "\n",
        "Sample Output:\n",
        "\n",
        "Original list: [7, 12, 4, 55, 96,\n",
        "\n",
        "2, 11, 61, 33, 42]\n",
        "\n",
        "Modified list: [7, 55, 11, 61, 33]\n",
        "\n",
        "\n",
        "\n",
        "\n"
      ]
    },
    {
      "cell_type": "code",
      "execution_count": null,
      "metadata": {
        "colab": {
          "base_uri": "https://localhost:8080/"
        },
        "id": "ALghTAKOePXo",
        "outputId": "5c76edc3-14a7-49b8-d6d0-2073aa30e8fc"
      },
      "outputs": [
        {
          "name": "stdout",
          "output_type": "stream",
          "text": [
            " Enter string : 7 12 4 55 96 2 11 61 33 42\n",
            " Original list :  [7, 12, 4, 55, 96, 2, 11, 61, 33, 42]\n",
            " Modified list :  [7, 55, 11, 61, 33]\n"
          ]
        }
      ],
      "source": [
        "user=input(\" Enter string : \").split(\" \")\n",
        "new=[]\n",
        "mod=[]\n",
        "for i in user:\n",
        "  new.append(int(i))\n",
        "\n",
        "  if int(i)%2!=0:\n",
        "    mod.append(int(i))\n",
        "\n",
        "\n",
        "print(\" Original list : \",new)\n",
        "print(\" Modified list : \", mod)\n",
        "\n",
        "\n"
      ]
    },
    {
      "cell_type": "markdown",
      "metadata": {
        "id": "EYy_aY-Of9oX"
      },
      "source": [
        "# Task 10\n",
        "\n",
        "\n",
        "\n",
        "Write a Python program that reads\n",
        "a string as an input from the\n",
        "user where multiple numbers are\n",
        "separated by commas. Then, make a\n",
        "list of numbers from the input\n",
        "string and print the list.\n",
        "Finally, remove multiple\n",
        "occurrences of any numbers from\n",
        "the input list and print the\n",
        "modified list without duplicate\n",
        "values.\n",
        "\n",
        "Hint: You may create a third list\n",
        "\n",
        "to store the results but you may\n",
        "try doing it in the same input\n",
        "list. You can use membership\n",
        "operators (in, not in) to make\n",
        "sure no duplicates are added.\n",
        "\n",
        "==================================\n",
        "=================================\n",
        "\n",
        "Sample Input 1:\n",
        "\n",
        "0, 0, 1, 2, 3, 4, 4, 5, 6, 6, 6,\n",
        "7, 8, 9, 4, 4\n",
        "\n",
        "Sample Output 1:\n",
        "\n",
        "Input list: [0, 0, 1, 2, 3, 4, 4,\n",
        "5, 6, 6, 6, 7, 8, 9, 4, 4]\n",
        "\n",
        "Modified list: [0, 1, 2, 3, 4, 5,\n",
        "6, 7, 8, 9]\n",
        "\n",
        "\n",
        "==================================\n",
        "=================================\n",
        "\n",
        "Sample Input 2:\n",
        "\n",
        "7, 7, 7, 1, 0, 3, 3, 55, 9\n",
        "\n",
        "Sample Output 2:\n",
        "\n",
        "Input list: [7, 7, 7, 1, 0, 3, 3,\n",
        "55, 9]\n",
        "\n",
        "Modified list: [7, 1, 0, 3, 55, 9]\n",
        "\n",
        "\n",
        "\n",
        "\n",
        "\n"
      ]
    },
    {
      "cell_type": "code",
      "execution_count": null,
      "metadata": {
        "colab": {
          "base_uri": "https://localhost:8080/"
        },
        "id": "DhxHplxYgEWk",
        "outputId": "f45a1023-b1f3-4fb0-fc7e-defb540a54b6"
      },
      "outputs": [
        {
          "name": "stdout",
          "output_type": "stream",
          "text": [
            " Enter your string : 0, 0, 1, 2, 3, 4, 4, 5, 6, 6, 6, 7, 8, 9, 4, 4\n",
            " Input list :  [0, 0, 1, 2, 3, 4, 4, 5, 6, 6, 6, 7, 8, 9, 4, 4]\n",
            " Modified list :  [0, 1, 2, 3, 4, 5, 6, 7, 8, 9]\n"
          ]
        }
      ],
      "source": [
        "user=input(\" Enter your string : \").split(\",\")\n",
        "inp=[]\n",
        "new=[]\n",
        "\n",
        "for i in user:\n",
        "  inp.append(int(i))\n",
        "\n",
        "\n",
        "for j in inp:\n",
        "  if j in new:\n",
        "    continue\n",
        "  else:\n",
        "    new.append(j)\n",
        "\n",
        "\n",
        "print(\" Input list : \", inp)\n",
        "print(\" Modified list : \",new)\n",
        "\n"
      ]
    },
    {
      "cell_type": "markdown",
      "metadata": {
        "id": "MC5ULw3voiop"
      },
      "source": [
        "# Task 11\n",
        "\n",
        "\n",
        "Assume, you have been given two\n",
        "lists: List_one and List_two.\n",
        "[Your program should work for any\n",
        "two given lists; change the\n",
        "following lists and check whether\n",
        "your program works correctly for\n",
        "the code you have written]\n",
        "\n",
        "Write a Python program that\n",
        "prints \"True\", if the given two\n",
        "lists have at least one common\n",
        "member. Otherwise, print \"False\".\n",
        "Note: Please use concepts of flag\n",
        "\n",
        "and break to solve this task.\n",
        "\n",
        "==================================\n",
        "=================================\n",
        "\n",
        "Given lists 1:\n",
        "\n",
        "List_one : [1, 4, 3, 2, 6]\n",
        "\n",
        "List_two : [5, 6, 9, 8, 7]\n",
        "\n",
        "Sample Output 1:\n",
        "\n",
        "True\n",
        "\n",
        "==================================\n",
        "=================================\n",
        "\n",
        "Given lists 2:\n",
        "\n",
        "List_one : [1, 4, 3, 2, 5]\n",
        "\n",
        "List_two : [8, 7, 6, 9]\n",
        "\n",
        "Sample Output 2:\n",
        "\n",
        "False\n",
        "\n",
        "\n",
        "\n",
        "\n"
      ]
    },
    {
      "cell_type": "code",
      "execution_count": null,
      "metadata": {
        "colab": {
          "base_uri": "https://localhost:8080/"
        },
        "id": "Th5H1lZlon_s",
        "outputId": "9c864011-2dd9-4bbf-ff1f-302ad0412145"
      },
      "outputs": [
        {
          "name": "stdout",
          "output_type": "stream",
          "text": [
            "[1, 4, 3, 2, 5]\n",
            "[8, 7, 6, 9]\n",
            "F\n"
          ]
        }
      ],
      "source": [
        "user1=input()[1:-1].split(\",\")\n",
        "user2=input()[1:-1].split(\",\")\n",
        "\n",
        "flag=False\n",
        "\n",
        "for i in user1:\n",
        "  if i in user2:\n",
        "    flag=True\n",
        "    break\n",
        "  else:\n",
        "    flag= False\n",
        "\n",
        "if flag==True:\n",
        "  print(\"True\")\n",
        "elif flag==False:\n",
        "  print(\"False\")\n",
        "\n"
      ]
    },
    {
      "cell_type": "markdown",
      "metadata": {
        "id": "QF8kNtYdrwxw"
      },
      "source": [
        "# **Optional Tasks (16-21) [Ungraded]**"
      ]
    },
    {
      "cell_type": "markdown",
      "metadata": {
        "id": "nJ-16B4Xr1cK"
      },
      "source": [
        "# Task 16\n",
        "\n",
        "\n",
        "\n",
        "Write a Python program that reads\n",
        "7 numbers into a list and prints\n",
        "the second largest number and its\n",
        "location or index position on the\n",
        "list. [You are not allowed to use\n",
        "the max(), sort(), sorted()\n",
        "function here]\n",
        "\n",
        "==================================\n",
        "=================================\n",
        "\n",
        "Sample Input:\n",
        "\n",
        "7, 13, 2, 10, 6, -11, 0\n",
        "\n",
        "Sample Output:\n",
        "\n",
        "My list: [7, 13, 2, 10, 6, -11, 0]\n",
        "\n",
        "Second largest number in the list\n",
        "is 10 which was found at index 3.\n",
        "\n",
        "\n",
        "\n"
      ]
    },
    {
      "cell_type": "code",
      "execution_count": null,
      "metadata": {
        "colab": {
          "base_uri": "https://localhost:8080/"
        },
        "id": "5bBXkT_1r9YP",
        "outputId": "ecaf9f89-8a5f-4c33-8339-9356a3e0154b"
      },
      "outputs": [
        {
          "name": "stdout",
          "output_type": "stream",
          "text": [
            "7, 13, 2, 10, 6, -11, 0\n",
            "Mylist :  [7, 13, 2, 10, 6, -11, 0]\n",
            "Second largest number in the list is 10 which was found at index 3. \n"
          ]
        }
      ],
      "source": [
        "user=input().split(\",\")\n",
        "idx=0\n",
        "min=-1\n",
        "max=0\n",
        "\n",
        "\n",
        "for i in range(7):\n",
        "  if int(user[i])>min:\n",
        "    min=int(user[i])\n",
        "    idx=i\n",
        "    max=min\n",
        "\n",
        "s_idx=0\n",
        "s_min=-1\n",
        "s_max=0\n",
        "\n",
        "for j in range(7):\n",
        "   if int(user[j])< max:\n",
        "      if int(user[j])> s_min:\n",
        "        s_min=int(user[j])\n",
        "        s_idx=j\n",
        "        s_max=s_min\n",
        "\n",
        "lst=[]\n",
        "for i in user:\n",
        "  lst.append(int(i))\n",
        "\n",
        "\n",
        "print(\"Mylist : \",lst)\n",
        "print(f\"Second largest number in the list is {s_max} which was found at index {s_idx}. \")\n",
        "\n"
      ]
    },
    {
      "cell_type": "markdown",
      "metadata": {
        "id": "PXse-4Ic1PiS"
      },
      "source": [
        "# Task 17\n",
        "\n",
        "\n",
        "Write a Python program that reads\n",
        "5 numbers into a list and prints\n",
        "the smallest and largest number\n",
        "and their locations in the list.\n",
        "[You are not allowed to use the\n",
        "max(), min(), sort(), sorted()\n",
        "functions here]\n",
        "\n",
        "Hint: You may assume the first\n",
        "input to be the largest value\n",
        "initially and the largest value’s\n",
        "location to be 0. Similarly, you\n",
        "can assume the first input to be\n",
        "the smallest value initially and\n",
        "the smallest value’s location to\n",
        "be 0.\n",
        "\n",
        "Note: You may need to be careful\n",
        "while printing the output.\n",
        "Depending on your code, you might\n",
        "need data conversion.\n",
        "\n",
        "==================================\n",
        "=================================\n",
        "\n",
        "Sample Input:\n",
        "\n",
        "7, 13, -5, 10, 6\n",
        "\n",
        "Sample Output:\n",
        "\n",
        "My list: [7, 13, -5, 10, 6]\n",
        "\n",
        "Smallest number in the list is -5\n",
        "which was found at index 2\n",
        "\n",
        "Largest number in the list is 13\n",
        "which was found at index 1\n",
        "\n",
        "\n",
        "\n",
        "\n",
        "\n",
        "\n"
      ]
    },
    {
      "cell_type": "code",
      "execution_count": null,
      "metadata": {
        "colab": {
          "base_uri": "https://localhost:8080/"
        },
        "id": "CKQYkS2R2Dmw",
        "outputId": "f687f61f-cfa3-45a7-9242-1cb1a16a3a3f"
      },
      "outputs": [
        {
          "name": "stdout",
          "output_type": "stream",
          "text": [
            "7, 13, -5, 10, 6\n",
            "13\n",
            "1\n",
            "Smallest number in the list is -5 which was found at index 2.\n",
            "Largest number in the list is 13 which was found at index 1.\n"
          ]
        }
      ],
      "source": [
        "user=input().split(\",\")\n",
        "new=[]\n",
        "for i in user:\n",
        "  new.append(int(i))\n",
        "\n",
        "#--------------------------\n",
        "min=-1\n",
        "max=0\n",
        "idx=0\n",
        "\n",
        "\n",
        "for i in range(5):\n",
        "  if int(user[i]) > min:\n",
        "    min=int(user[i])\n",
        "    idx=i\n",
        "    max=min\n",
        "\n",
        "\n",
        "\n",
        "#--------------------------\n",
        "smin=-1\n",
        "smax=0\n",
        "sidx=0\n",
        "\n",
        "for j in range(5):\n",
        "  if int(user[j]) < smin :\n",
        "    smin=int(user[j])\n",
        "    sidx=j\n",
        "    smax=smin\n",
        "\n",
        "print(f\"Smallest number in the list is {smin} which was found at index {sidx}.\")\n",
        "print(f\"Largest number in the list is {max} which was found at index {idx}.\")"
      ]
    },
    {
      "cell_type": "markdown",
      "metadata": {
        "id": "yun_ldvx6M9w"
      },
      "source": [
        "\n",
        "\n",
        "# Task 18\n",
        "\n",
        "\n",
        "Write a Python program that takes\n",
        "two lists as an input from the\n",
        "user. Then print a new list with\n",
        "the common elements of both the\n",
        "input lists.\n",
        "\n",
        "Hint: You may need to create a\n",
        "third list to store the results.\n",
        "You can use membership operators\n",
        "(in, not in) to make sure similar\n",
        "elements are added.\n",
        "\n",
        "==================================\n",
        "=================================\n",
        "\n",
        "Sample Input 1:\n",
        "\n",
        "A, B, C, D\n",
        "\n",
        "C, E, F, B\n",
        "\n",
        "Sample Output 1:\n",
        "\n",
        "['C', 'B']\n",
        "\n",
        "==================================\n",
        "=================================\n",
        "\n",
        "Sample Input 2:\n",
        "\n",
        "1, 3, A, H, P\n",
        "\n",
        "A, G, 1, P, O\n",
        "\n",
        "Sample Output 2:\n",
        "\n",
        "['1', 'A', 'P']\n",
        "\n",
        "\n"
      ]
    },
    {
      "cell_type": "code",
      "execution_count": null,
      "metadata": {
        "colab": {
          "base_uri": "https://localhost:8080/"
        },
        "id": "Q4J9osX-6T8x",
        "outputId": "43bd5c41-53da-4fcf-bc2b-e5bab569e47a"
      },
      "outputs": [
        {
          "name": "stdout",
          "output_type": "stream",
          "text": [
            "A,B,C,D\n",
            "C,E,F,B\n",
            "['B', 'C']\n"
          ]
        }
      ],
      "source": [
        "user1=input().split(\",\")\n",
        "user2=input().split(\",\")\n",
        "new=[]\n",
        "\n",
        "\n",
        "for i in user1:\n",
        "  if i in user2:\n",
        "    new.append(i)\n",
        "  else:\n",
        "    continue\n",
        "\n",
        "print(new)\n",
        "\n",
        "\n",
        "\n"
      ]
    },
    {
      "cell_type": "markdown",
      "metadata": {
        "id": "2GHq2Vu37t89"
      },
      "source": [
        "# Task 19\n",
        "\n",
        "\n",
        "Assume, you have been given two\n",
        "lists. [Your program should work\n",
        "for any two given lists; make\n",
        "changes to the lists below and\n",
        "check whether your program works\n",
        "correctly]\n",
        "\n",
        "list_one = [1, 2, 2, 4, 5, 5, 7,\n",
        "99, 200, 303, 70]\n",
        "\n",
        "list_two = [1, 1, 2, 3, 3, 3, 4,\n",
        "5, 200, 500, -5]\n",
        "\n",
        "Write a Python program that\n",
        "creates a new list with all the\n",
        "unique elements of both the given\n",
        "lists. You need to make sure that\n",
        "there are no duplicates in the\n",
        "resulting list. Finally, print\n",
        "the updated list.\n",
        "\n",
        "Hint: You may create a third list\n",
        "to store the results. You can use\n",
        "membership operators (in, not in)\n",
        "to make sure no duplicates are\n",
        "added.\n",
        "\n",
        "==================================\n",
        "=================================\n",
        "\n",
        "Output for the above two lists:\n",
        "[1, 2, 4, 5, 7, 99, 200, 303, 70,\n",
        "3, 500, -5]\n",
        "\n",
        "\n",
        "\n"
      ]
    },
    {
      "cell_type": "code",
      "execution_count": 13,
      "metadata": {
        "colab": {
          "base_uri": "https://localhost:8080/"
        },
        "id": "-uLZza-C71zU",
        "outputId": "76553eeb-7971-484d-f8b7-d16a5c8e4455"
      },
      "outputs": [
        {
          "output_type": "stream",
          "name": "stdout",
          "text": [
            "[1, 1, 2, 3, 3, 3, 4, 5, 200, 500, -5]\n",
            "[1, 2, 2, 4, 5, 5, 7, 99, 200, 303, 70]\n",
            "['1', ' 1', ' 2', ' 3', ' 4', ' 5', ' 200', ' 500', ' -5', ' 7', ' 99', ' 303', ' 70']\n",
            "[1, 2, 2, 4, 5, 5, 7, 99, 200, 303, 70]\n",
            "[1, 1, 2, 3, 3, 3, 4, 5, 200, 500, -5]\n",
            "['1', ' 2', ' 4', ' 5', ' 7', ' 99', ' 200', ' 303', ' 70', ' 1', ' 3', ' 500', ' -5']\n"
          ]
        }
      ],
      "source": [
        "user1=input()[1:-1].split(\",\")\n",
        "user2=input()[1:-1].split(\",\")\n",
        "\n",
        "\n",
        "new=[]\n",
        "\n",
        "\n",
        "for i in user1:\n",
        "\n",
        "    if i not in new:\n",
        "      new.append(i)\n",
        "\n",
        "for j in user2:\n",
        "\n",
        "    if j not in new:\n",
        "      new.append(j)\n",
        "print(new)"
      ]
    },
    {
      "cell_type": "markdown",
      "source": [
        "# Task 20\n",
        "\n",
        "\n",
        "Write a python program to take a\n",
        "list as a string input from the\n",
        "user and print it back to the\n",
        "user as a list. Please look at\n",
        "the examples below for\n",
        "clarification.\n",
        "\n",
        "[Must use string split() and strip\n",
        "() functions]\n",
        "\n",
        "==================================\n",
        "==============================\n",
        "\n",
        "Sample Input 1:\n",
        "\n",
        "'1,        2 ,            3, 50,\n",
        "4'\n",
        "\n",
        "Sample Output 1:\n",
        "\n",
        "Original data: 1,        \n",
        "2 ,            3, 50, 4\n",
        "\n",
        "After removing square brackets:\n",
        "1,        2 ,            3, 50, 4\n",
        "\n",
        "Numbers in string format with\n",
        "\n",
        "extra white spaces: ['1', '       \n",
        "2' ,'            3', '50', '4']\n",
        "\n",
        "Final data (numbers in list\n",
        "format): [1, 2, 3, 50, 4]\n",
        "\n",
        "==================================\n",
        "==============================\n",
        "\n",
        "Sample Input 2: '[1,      \n",
        "2   ,            3, 50, 4]'\n",
        "\n",
        "Sample Output 2:\n",
        "\n",
        "Original data: [1,      \n",
        "2   ,            3, 50, 4]\n",
        "\n",
        "After removing square brackets:\n",
        "1,      2   ,            3, 50, 4\n",
        "\n",
        "Numbers in string format with\n",
        "extra white spaces: ['1', '      \n",
        "2   ', '            3', '50', '4']\n",
        "\n",
        "Final data (numbers in list format): [1, 2, 3, 50, 4]\n",
        "\n",
        "\n",
        "==================================\n",
        "==============================\n",
        "\n",
        "Sample Input 3:\n",
        "\n",
        "\"      [1,   2   ,         3,   50,   4]         \"\n",
        "\n",
        "Sample Output 3:\n",
        "\n",
        "Original data:       [1,   \n",
        "2   ,         3,   50,  4]         \n",
        "\n",
        "After removing square brackets:\n",
        "1,   2   ,         3,   50,   4\n",
        "\n",
        "Numbers in string format with\n",
        "extra white spaces: [' 1', '   \n",
        "2   ', '         3', '   50', '   4']\n",
        "\n",
        "Final data (numbers in list\n",
        "format): [1, 2, 3, 50, 4]\n"
      ],
      "metadata": {
        "id": "FcRWDM3ELZ8r"
      }
    },
    {
      "cell_type": "code",
      "execution_count": 38,
      "metadata": {
        "id": "TIxgbhtf8dgG",
        "colab": {
          "base_uri": "https://localhost:8080/"
        },
        "outputId": "22584e5d-38e8-43a9-c2b6-565fd8a298b4"
      },
      "outputs": [
        {
          "output_type": "stream",
          "name": "stdout",
          "text": [
            "Enter your string : '1,        2 ,            3, 50, 4'\n",
            "['1,', '2', '3,', '50,', '4']\n"
          ]
        }
      ],
      "source": [
        "user=input(\"Enter your string : \")[1:-1].split(\" \")\n",
        "\n",
        "\n",
        "\n",
        "new=[]\n",
        "\n",
        "for i in user:\n",
        "  if i!=\"\":\n",
        "    if i !=\",\":\n",
        "     new.append(i)\n",
        "print(new)"
      ]
    },
    {
      "cell_type": "code",
      "source": [
        "user1=input(\"Enter your string : \")[1:-1]\n",
        "print(\"------------------------------------------------------------------------------\")\n",
        "print(\"Original data:\",user1)\n",
        "print(\"------------------------------------------------------------------------------\")\n",
        "user2=user1\n",
        "print(\"after removing squre bracket : \",user2)\n",
        "print(\"------------------------------------------------------------------------------\")\n",
        "\n",
        "user3=user2.split(\",\")\n",
        "print(\"Numbers in string format with extra white spaces: \",user3)\n",
        "\n",
        "user=user2.split(\"  \")\n",
        "new=[]\n",
        "\n",
        "\n",
        "for i in user:\n",
        "  if i!=\"\":\n",
        "    if i !=\",\":\n",
        "     new.append(i)\n",
        "print(\"Final data (numbers in list format): \",new)\n"
      ],
      "metadata": {
        "colab": {
          "base_uri": "https://localhost:8080/"
        },
        "id": "bR3hAasmXUaT",
        "outputId": "bceccbe3-a4da-4e57-a549-187438a42f03"
      },
      "execution_count": 54,
      "outputs": [
        {
          "output_type": "stream",
          "name": "stdout",
          "text": [
            "Enter your string : '1,        2 ,            3, 50, 4'\n",
            "------------------------------------------------------------------------------\n",
            "Original data: 1,        2 ,            3, 50, 4\n",
            "------------------------------------------------------------------------------\n",
            "after removing squre bracket :  1,        2 ,            3, 50, 4\n",
            "------------------------------------------------------------------------------\n",
            "Numbers in string format with extra white spaces:  ['1', '        2 ', '            3', ' 50', ' 4']\n",
            "Final data (numbers in list format):  ['1,', '2 ,', '3, 50, 4']\n"
          ]
        }
      ]
    },
    {
      "cell_type": "markdown",
      "source": [
        "# Task 21\n",
        "\n",
        "\n",
        "Write a Python program that takes\n",
        "a single string as an input from\n",
        "the user where few numbers are\n",
        "separated by commas. Now, make a\n",
        "list with the numbers of the\n",
        "given string. Then your task is to remove multiple occurrences of\n",
        "any number and then finally print\n",
        "the list without any duplicate\n",
        "values.\n",
        "\n",
        "Hint (1): For obtaining the\n",
        "numbers from the string, use split\n",
        "(). For cleaning the data, use\n",
        "strip().\n",
        "\n",
        "Hint (2): You may create a third\n",
        "\n",
        "list to store the results. You\n",
        "can use membership operators (in,\n",
        "not in) to make sure no\n",
        "duplicates are added.\n",
        "\n",
        "==================================\n",
        "=================================\n",
        "\n",
        "Sample Input 1:\n",
        "\n",
        "0, 0, 1, 2, 3, 4,      4, 5, 6,\n",
        "6, 6,      7, 8, 9, 4,         4\n",
        "\n",
        "Sample Output 1:\n",
        "\n",
        "Given numbers in list: [0, 0, 1,\n",
        "2, 3, 4, 4, 5, 6, 6, 6, 7, 8, 9,\n",
        "4, 4]\n",
        "\n",
        "List without any dupliacte\n",
        "values: [0, 1, 2, 3, 4, 5, 6, 7,\n",
        "8, 9]\n",
        "\n",
        "==================================\n",
        "=================================\n",
        "\n",
        "\n",
        "Sample Input 2:\n",
        "\n",
        "7, 7, 7, 1,           0, 3, 3,   \n",
        "55, 9\n",
        "\n",
        "Sample Output 2:\n",
        "\n",
        "Given numbers in list: [7, 7, 7,\n",
        "1, 0, 3, 3, 55, 9]\n",
        "\n",
        "List without any dupliacte\n",
        "values: [7, 1, 0, 3, 55, 9]"
      ],
      "metadata": {
        "id": "ODULzaWgaqgW"
      }
    },
    {
      "cell_type": "code",
      "source": [
        "user=input(\"Enter string : \").strip()\n",
        "print(\"------------------------------------------------------------\")\n",
        "new=[]\n",
        "\n",
        "for i in user:\n",
        "  if i in new:\n",
        "    continue\n",
        "  else:\n",
        "    if i!=\" \" and i!=\",\":\n",
        "      new.append(i)\n",
        "\n",
        "final=[int(i) for i in new ]\n",
        "\n",
        "print(\"Given number is the list : \",[int(i) for i in user.split(\",\")])\n",
        "print(\"===========================================================\")\n",
        "print(\"List without any dupliacte values : \",final)\n"
      ],
      "metadata": {
        "colab": {
          "base_uri": "https://localhost:8080/"
        },
        "id": "5kMWfjsneAxQ",
        "outputId": "28843863-7bf0-4a56-cbf9-00b08a83c1f2"
      },
      "execution_count": 86,
      "outputs": [
        {
          "output_type": "stream",
          "name": "stdout",
          "text": [
            "Enter string : 0, 0, 1, 2, 3, 4,      4, 5, 6, 6, 6,      7, 8, 9, 4,         4\n",
            "------------------------------------------------------------\n",
            "Given number is the list :  [0, 0, 1, 2, 3, 4, 4, 5, 6, 6, 6, 7, 8, 9, 4, 4]\n",
            "===========================================================\n",
            "List without any dupliacte values :  [0, 1, 2, 3, 4, 5, 6, 7, 8, 9]\n"
          ]
        }
      ]
    }
  ],
  "metadata": {
    "colab": {
      "provenance": []
    },
    "kernelspec": {
      "display_name": "Python 3",
      "name": "python3"
    },
    "language_info": {
      "name": "python"
    }
  },
  "nbformat": 4,
  "nbformat_minor": 0
}