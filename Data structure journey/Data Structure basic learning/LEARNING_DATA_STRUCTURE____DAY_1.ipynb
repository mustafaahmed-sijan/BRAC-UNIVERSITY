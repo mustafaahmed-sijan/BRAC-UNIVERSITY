{
  "nbformat": 4,
  "nbformat_minor": 0,
  "metadata": {
    "colab": {
      "provenance": []
    },
    "kernelspec": {
      "name": "python3",
      "display_name": "Python 3"
    },
    "language_info": {
      "name": "python"
    }
  },
  "cells": [
    {
      "cell_type": "code",
      "execution_count": null,
      "metadata": {
        "colab": {
          "base_uri": "https://localhost:8080/"
        },
        "id": "Lzk90JM8fl0D",
        "outputId": "ce96eaf6-edcd-4ef4-baba-8611d008c437"
      },
      "outputs": [
        {
          "output_type": "stream",
          "name": "stdout",
          "text": [
            "[1 2 3 4 5 6]\n"
          ]
        }
      ],
      "source": [
        "#Numpy array\n",
        "#creating numpy array\n",
        "\n",
        "import numpy as np\n",
        "\n",
        "arr=np.array([1,2,3,4,5,6])\n",
        "print(arr)\n"
      ]
    },
    {
      "cell_type": "code",
      "source": [
        "#creating array with all zeros\n",
        "\n",
        "arr=np.zeros((3,3)) #3 by 3 matrix\n",
        "print(arr)\n",
        "\n",
        "\n",
        "print(\"\\n\")\n",
        "print(\"--------------\")\n",
        "\n",
        "arr=np.zeros((2,2))\n",
        "print(arr)\n"
      ],
      "metadata": {
        "colab": {
          "base_uri": "https://localhost:8080/"
        },
        "id": "zgapoI5BgnTk",
        "outputId": "a8447c76-702b-4e4f-ae33-b4b3abe4427b"
      },
      "execution_count": null,
      "outputs": [
        {
          "output_type": "stream",
          "name": "stdout",
          "text": [
            "[[0. 0. 0.]\n",
            " [0. 0. 0.]\n",
            " [0. 0. 0.]]\n",
            "\n",
            "\n",
            "--------------\n",
            "[[0. 0.]\n",
            " [0. 0.]]\n"
          ]
        }
      ]
    },
    {
      "cell_type": "code",
      "metadata": {
        "colab": {
          "base_uri": "https://localhost:8080/"
        },
        "id": "ac30df12",
        "outputId": "1c3091b0-dc0e-4815-b522-68360aa845fd"
      },
      "source": [
        "# creating array with all ones\n",
        "\n",
        "arr = np.ones((3, 2)) # 3 rows, 2 columns\n",
        "print(arr)\n",
        "\n",
        "print(\"\\n\")\n",
        "print(\"--------------\")\n",
        "\n",
        "arr = np.ones((4, 4))\n",
        "print(arr)"
      ],
      "execution_count": null,
      "outputs": [
        {
          "output_type": "stream",
          "name": "stdout",
          "text": [
            "[[1. 1.]\n",
            " [1. 1.]\n",
            " [1. 1.]]\n",
            "\n",
            "\n",
            "--------------\n",
            "[[1. 1. 1. 1.]\n",
            " [1. 1. 1. 1.]\n",
            " [1. 1. 1. 1.]\n",
            " [1. 1. 1. 1.]]\n"
          ]
        }
      ]
    },
    {
      "cell_type": "code",
      "metadata": {
        "colab": {
          "base_uri": "https://localhost:8080/"
        },
        "id": "d04cce9d",
        "outputId": "21193da1-7b45-4455-8eef-b162da0c5866"
      },
      "source": [
        "# creating array with a range of values\n",
        "\n",
        "arr = np.arange(10) # 0 to 9\n",
        "print(arr)\n",
        "\n",
        "print(\"\\n\")\n",
        "print(\"--------------\")\n",
        "\n",
        "arr = np.arange(2, 10, 2) # start at 2, end before 10, step of 2\n",
        "print(arr)"
      ],
      "execution_count": null,
      "outputs": [
        {
          "output_type": "stream",
          "name": "stdout",
          "text": [
            "[0 1 2 3 4 5 6 7 8 9]\n",
            "\n",
            "\n",
            "--------------\n",
            "[2 4 6 8]\n"
          ]
        }
      ]
    },
    {
      "cell_type": "code",
      "metadata": {
        "colab": {
          "base_uri": "https://localhost:8080/"
        },
        "id": "564a58b5",
        "outputId": "87fde9a1-26e7-4ab0-eb6c-79ebbe816db4"
      },
      "source": [
        "# Reshaping arrays\n",
        "\n",
        "arr = np.arange(12)\n",
        "print(\"Original array:\", arr)\n",
        "\n",
        "reshaped_arr = arr.reshape(3, 4) # reshape to a 3x4 matrix\n",
        "print(\"Reshaped array:\\n\", reshaped_arr)\n",
        "\n",
        "print(\"\\n\")\n",
        "print(\"--------------\")\n",
        "\n",
        "reshaped_arr = arr.reshape(2, 6) # reshape to a 2x6 matrix\n",
        "print(\"Reshaped array:\\n\", reshaped_arr)"
      ],
      "execution_count": null,
      "outputs": [
        {
          "output_type": "stream",
          "name": "stdout",
          "text": [
            "Original array: [ 0  1  2  3  4  5  6  7  8  9 10 11]\n",
            "Reshaped array:\n",
            " [[ 0  1  2  3]\n",
            " [ 4  5  6  7]\n",
            " [ 8  9 10 11]]\n",
            "\n",
            "\n",
            "--------------\n",
            "Reshaped array:\n",
            " [[ 0  1  2  3  4  5]\n",
            " [ 6  7  8  9 10 11]]\n"
          ]
        }
      ]
    },
    {
      "cell_type": "markdown",
      "metadata": {
        "id": "16d2f7e4"
      },
      "source": [
        "# Task\n",
        "Write all basic operations for arrays, including arithmetic, comparison, aggregate, slicing, indexing, and broadcasting."
      ]
    },
    {
      "cell_type": "markdown",
      "metadata": {
        "id": "12d0968f"
      },
      "source": [
        "## Array arithmetic operations\n",
        "\n",
        "### Subtask:\n",
        "Demonstrate element-wise addition, subtraction, multiplication, and division on arrays.\n"
      ]
    },
    {
      "cell_type": "markdown",
      "metadata": {
        "id": "3c54064c"
      },
      "source": [
        "**Reasoning**:\n",
        "Create two NumPy arrays and perform element-wise arithmetic operations as requested in the instructions.\n",
        "\n"
      ]
    },
    {
      "cell_type": "code",
      "metadata": {
        "colab": {
          "base_uri": "https://localhost:8080/"
        },
        "id": "1843cbf2",
        "outputId": "35d97cee-b0fb-4361-b3de-5d594f202917"
      },
      "source": [
        "import numpy as np\n",
        "\n",
        "arr1 = np.array([[1, 2], [3, 4]])\n",
        "arr2 = np.array([[5, 6], [7, 8]])\n",
        "\n",
        "print(\"Array 1:\\n\", arr1)\n",
        "print(\"Array 2:\\n\", arr2)\n",
        "\n",
        "# Element-wise addition\n",
        "addition_result = arr1 + arr2\n",
        "print(\"\\nElement-wise addition:\\n\", addition_result)\n",
        "\n",
        "# Element-wise subtraction\n",
        "subtraction_result = arr1 - arr2\n",
        "print(\"\\nElement-wise subtraction:\\n\", subtraction_result)\n",
        "\n",
        "# Element-wise multiplication\n",
        "multiplication_result = arr1 * arr2\n",
        "print(\"\\nElement-wise multiplication:\\n\", multiplication_result)\n",
        "\n",
        "# Element-wise division\n",
        "# To avoid division by zero, ensure arr2 does not contain zeros if arr1 has non-zero values\n",
        "# In this example, arr2 has no zeros, so direct division is safe.\n",
        "division_result = arr1 / arr2\n",
        "print(\"\\nElement-wise division:\\n\", division_result)"
      ],
      "execution_count": null,
      "outputs": [
        {
          "output_type": "stream",
          "name": "stdout",
          "text": [
            "Array 1:\n",
            " [[1 2]\n",
            " [3 4]]\n",
            "Array 2:\n",
            " [[5 6]\n",
            " [7 8]]\n",
            "\n",
            "Element-wise addition:\n",
            " [[ 6  8]\n",
            " [10 12]]\n",
            "\n",
            "Element-wise subtraction:\n",
            " [[-4 -4]\n",
            " [-4 -4]]\n",
            "\n",
            "Element-wise multiplication:\n",
            " [[ 5 12]\n",
            " [21 32]]\n",
            "\n",
            "Element-wise division:\n",
            " [[0.2        0.33333333]\n",
            " [0.42857143 0.5       ]]\n"
          ]
        }
      ]
    },
    {
      "cell_type": "markdown",
      "metadata": {
        "id": "ee3a472c"
      },
      "source": [
        "## Array comparison operations\n",
        "\n",
        "### Subtask:\n",
        "Show how to compare arrays element-wise.\n"
      ]
    },
    {
      "cell_type": "markdown",
      "metadata": {
        "id": "30dbd1d4"
      },
      "source": [
        "**Reasoning**:\n",
        "Create two NumPy arrays and perform element-wise comparison operations between them.\n",
        "\n"
      ]
    },
    {
      "cell_type": "code",
      "metadata": {
        "colab": {
          "base_uri": "https://localhost:8080/"
        },
        "id": "38b8287c",
        "outputId": "9b719ae4-e4a6-40bb-ee0f-e4c104a071bb"
      },
      "source": [
        "arr1 = np.array([[1, 5], [3, 8]])\n",
        "arr2 = np.array([[2, 5], [4, 7]])\n",
        "\n",
        "print(\"Array 1:\\n\", arr1)\n",
        "print(\"Array 2:\\n\", arr2)\n",
        "\n",
        "# Element-wise comparisons\n",
        "equal_comparison = arr1 == arr2\n",
        "print(\"\\nElement-wise == comparison:\\n\", equal_comparison)\n",
        "\n",
        "not_equal_comparison = arr1 != arr2\n",
        "print(\"\\nElement-wise != comparison:\\n\", not_equal_comparison)\n",
        "\n",
        "greater_than_comparison = arr1 > arr2\n",
        "print(\"\\nElement-wise > comparison:\\n\", greater_than_comparison)\n",
        "\n",
        "less_than_comparison = arr1 < arr2\n",
        "print(\"\\nElement-wise < comparison:\\n\", less_than_comparison)\n",
        "\n",
        "greater_equal_comparison = arr1 >= arr2\n",
        "print(\"\\nElement-wise >= comparison:\\n\", greater_equal_comparison)\n",
        "\n",
        "less_equal_comparison = arr1 <= arr2\n",
        "print(\"\\nElement-wise <= comparison:\\n\", less_equal_comparison)"
      ],
      "execution_count": null,
      "outputs": [
        {
          "output_type": "stream",
          "name": "stdout",
          "text": [
            "Array 1:\n",
            " [[1 5]\n",
            " [3 8]]\n",
            "Array 2:\n",
            " [[2 5]\n",
            " [4 7]]\n",
            "\n",
            "Element-wise == comparison:\n",
            " [[False  True]\n",
            " [False False]]\n",
            "\n",
            "Element-wise != comparison:\n",
            " [[ True False]\n",
            " [ True  True]]\n",
            "\n",
            "Element-wise > comparison:\n",
            " [[False False]\n",
            " [False  True]]\n",
            "\n",
            "Element-wise < comparison:\n",
            " [[ True False]\n",
            " [ True False]]\n",
            "\n",
            "Element-wise >= comparison:\n",
            " [[False  True]\n",
            " [False  True]]\n",
            "\n",
            "Element-wise <= comparison:\n",
            " [[ True  True]\n",
            " [ True False]]\n"
          ]
        }
      ]
    },
    {
      "cell_type": "markdown",
      "metadata": {
        "id": "b76ac0bc"
      },
      "source": [
        "## Array aggregate operations\n",
        "\n",
        "### Subtask:\n",
        "Explain how to use functions like sum, mean, min, max, etc., on arrays.\n"
      ]
    },
    {
      "cell_type": "markdown",
      "metadata": {
        "id": "e431f140"
      },
      "source": [
        "**Reasoning**:\n",
        "Create a NumPy array and demonstrate aggregate functions like sum, mean, min, and max, including their use with the axis parameter.\n",
        "\n"
      ]
    },
    {
      "cell_type": "code",
      "metadata": {
        "colab": {
          "base_uri": "https://localhost:8080/"
        },
        "id": "c5fca3c3",
        "outputId": "50328124-b484-4bce-9b81-b6a77a2bf665"
      },
      "source": [
        "# Create a new NumPy array for aggregate operations\n",
        "arr_agg = np.array([[10, 20, 30], [40, 50, 60], [70, 80, 90]])\n",
        "print(\"Array for aggregation:\\n\", arr_agg)\n",
        "\n",
        "# Calculate and print the sum of all elements\n",
        "total_sum = arr_agg.sum()\n",
        "print(\"\\nSum of all elements:\", total_sum)\n",
        "\n",
        "# Calculate and print the mean of all elements\n",
        "overall_mean = arr_agg.mean()\n",
        "print(\"Mean of all elements:\", overall_mean)\n",
        "\n",
        "# Find and print the minimum value\n",
        "minimum_value = arr_agg.min()\n",
        "print(\"Minimum value:\", minimum_value)\n",
        "\n",
        "# Find and print the maximum value\n",
        "maximum_value = arr_agg.max()\n",
        "print(\"Maximum value:\", maximum_value)\n",
        "\n",
        "# Demonstrate aggregates along specific axes (for 2D array)\n",
        "# Sum along axis 0 (columns)\n",
        "sum_along_axis0 = arr_agg.sum(axis=0)\n",
        "print(\"\\nSum along axis 0:\", sum_along_axis0)\n",
        "\n",
        "# Sum along axis 1 (rows)\n",
        "sum_along_axis1 = arr_agg.sum(axis=1)\n",
        "print(\"Sum along axis 1:\", sum_along_axis1)\n",
        "\n",
        "# Mean along axis 0 (columns)\n",
        "mean_along_axis0 = arr_agg.mean(axis=0)\n",
        "print(\"Mean along axis 0:\", mean_along_axis0)\n",
        "\n",
        "# Mean along axis 1 (rows)\n",
        "mean_along_axis1 = arr_agg.mean(axis=1)\n",
        "print(\"Mean along axis 1:\", mean_along_axis1)"
      ],
      "execution_count": null,
      "outputs": [
        {
          "output_type": "stream",
          "name": "stdout",
          "text": [
            "Array for aggregation:\n",
            " [[10 20 30]\n",
            " [40 50 60]\n",
            " [70 80 90]]\n",
            "\n",
            "Sum of all elements: 450\n",
            "Mean of all elements: 50.0\n",
            "Minimum value: 10\n",
            "Maximum value: 90\n",
            "\n",
            "Sum along axis 0: [120 150 180]\n",
            "Sum along axis 1: [ 60 150 240]\n",
            "Mean along axis 0: [40. 50. 60.]\n",
            "Mean along axis 1: [20. 50. 80.]\n"
          ]
        }
      ]
    },
    {
      "cell_type": "markdown",
      "metadata": {
        "id": "8294e31a"
      },
      "source": [
        "## Array slicing and indexing\n",
        "\n",
        "### Subtask:\n",
        "Illustrate how to access specific elements or subarrays.\n"
      ]
    },
    {
      "cell_type": "markdown",
      "metadata": {
        "id": "9ceae4af"
      },
      "source": [
        "**Reasoning**:\n",
        "Create a NumPy array and demonstrate different ways to access elements and subarrays using integer indexing, slicing, boolean indexing, and fancy indexing.\n",
        "\n"
      ]
    },
    {
      "cell_type": "code",
      "metadata": {
        "colab": {
          "base_uri": "https://localhost:8080/"
        },
        "id": "8bd33449",
        "outputId": "57a1b8b1-346a-4db5-bbdb-548b4067e6a4"
      },
      "source": [
        "# 1. Create a NumPy array\n",
        "arr = np.array([[1, 2, 3],\n",
        "                [4, 5, 6],\n",
        "                [7, 8, 9]])\n",
        "print(\"Original array:\\n\", arr)\n",
        "\n",
        "# 2. Demonstrate accessing a single element using integer indexing\n",
        "print(\"\\nAccessing element at row 1, column 2 (0-indexed):\", arr[1, 2])\n",
        "\n",
        "# 3. Demonstrate slicing a portion of the array\n",
        "# Slicing a 1D array (create a new 1D array first for clarity)\n",
        "arr_1d = np.arange(10)\n",
        "print(\"\\nOriginal 1D array:\", arr_1d)\n",
        "print(\"Slicing a portion (elements from index 3 up to, but not including, index 7):\", arr_1d[3:7])\n",
        "\n",
        "# Slicing a subgrid in a 2D array (rows 0 and 1, columns 1 and 2)\n",
        "print(\"\\nSlicing a subgrid (rows 0 to 1, columns 1 to 2):\\n\", arr[0:2, 1:3])\n",
        "\n",
        "# 4. Demonstrate using boolean indexing\n",
        "# Select elements greater than 5\n",
        "print(\"\\nElements greater than 5 using boolean indexing:\", arr[arr > 5])\n",
        "\n",
        "# 5. Demonstrate using fancy indexing\n",
        "# Select specific rows (row 0 and row 2)\n",
        "print(\"\\nSelecting specific rows (row 0 and row 2) using fancy indexing:\\n\", arr[[0, 2]])\n",
        "\n",
        "# Select specific elements (element at (0,0), (1,1), and (2,0))\n",
        "print(\"\\nSelecting specific elements using fancy indexing:\", arr[[0, 1, 2], [0, 1, 0]])"
      ],
      "execution_count": null,
      "outputs": [
        {
          "output_type": "stream",
          "name": "stdout",
          "text": [
            "Original array:\n",
            " [[1 2 3]\n",
            " [4 5 6]\n",
            " [7 8 9]]\n",
            "\n",
            "Accessing element at row 1, column 2 (0-indexed): 6\n",
            "\n",
            "Original 1D array: [0 1 2 3 4 5 6 7 8 9]\n",
            "Slicing a portion (elements from index 3 up to, but not including, index 7): [3 4 5 6]\n",
            "\n",
            "Slicing a subgrid (rows 0 to 1, columns 1 to 2):\n",
            " [[2 3]\n",
            " [5 6]]\n",
            "\n",
            "Elements greater than 5 using boolean indexing: [6 7 8 9]\n",
            "\n",
            "Selecting specific rows (row 0 and row 2) using fancy indexing:\n",
            " [[1 2 3]\n",
            " [7 8 9]]\n",
            "\n",
            "Selecting specific elements using fancy indexing: [1 5 7]\n"
          ]
        }
      ]
    },
    {
      "cell_type": "markdown",
      "metadata": {
        "id": "de497ab9"
      },
      "source": [
        "## Broadcasting\n",
        "\n",
        "### Subtask:\n",
        "Briefly explain and show examples of broadcasting with arrays.\n"
      ]
    },
    {
      "cell_type": "markdown",
      "metadata": {
        "id": "fed3bebc"
      },
      "source": [
        "**Reasoning**:\n",
        "Provide a markdown explanation of NumPy broadcasting.\n",
        "\n"
      ]
    },
    {
      "cell_type": "markdown",
      "source": [
        " ### Broadcasting\n",
        "\n",
        "NumPy's broadcasting is a powerful mechanism that allows arithmetic operations between arrays with different shapes. Under certain constraints, the smaller array is \"broadcast\" across the larger array so that they have compatible shapes for the operation. This avoids the need to explicitly create larger copies of the smaller array, leading to more efficient code.\n",
        "\n",
        "The broadcasting rule follows a few steps:\n",
        "1. If the arrays have different numbers of dimensions, the shape of the one with fewer dimensions is padded with ones on its leading (left) side.\n",
        "2. If the shapes of the two arrays do not match in any dimension, the array with shape equal to 1 in that dimension is stretched to match the other shape.\n",
        "3. If in any dimension the sizes disagree and neither is equal to 1, an error is raised. \"\"\"\n"
      ],
      "metadata": {
        "id": "bhK2RUqzjuEQ"
      }
    },
    {
      "cell_type": "code",
      "metadata": {
        "id": "be94b2f4"
      },
      "source": [],
      "execution_count": null,
      "outputs": []
    },
    {
      "cell_type": "markdown",
      "metadata": {
        "id": "5408e025"
      },
      "source": [
        "**Reasoning**:\n",
        "The previous command failed because the markdown content was not correctly formatted within a code block. I will now create a markdown cell to explain broadcasting and then proceed with creating arrays and demonstrating broadcasting with a scalar and an array, as well as with two compatible arrays.\n",
        "\n"
      ]
    },
    {
      "cell_type": "code",
      "metadata": {
        "colab": {
          "base_uri": "https://localhost:8080/"
        },
        "id": "X1OXi5J2jIMp",
        "outputId": "92245519-9fc0-4afb-cce5-40400b6546b8"
      },
      "source": [
        "# Create a NumPy array\n",
        "arr = np.array([[1, 2, 3],\n",
        "                [4, 5, 6],\n",
        "                [7, 8, 9]])\n",
        "print(\"Original array:\\n\", arr)\n",
        "\n",
        "# Create a scalar value\n",
        "scalar = 10\n",
        "print(\"\\nScalar value:\", scalar)\n",
        "\n",
        "# Demonstrate broadcasting with an array and a scalar (addition)\n",
        "broadcast_scalar_result = arr + scalar\n",
        "print(\"\\nResult of array + scalar broadcasting:\\n\", broadcast_scalar_result)\n",
        "\n",
        "print(\"\\n\" + \"-\"*20)\n",
        "\n",
        "# Create two NumPy arrays with compatible shapes for broadcasting\n",
        "arr_compatible1 = np.array([[1, 2, 3],\n",
        "                            [4, 5, 6],\n",
        "                            [7, 8, 9]]) # Shape (3, 3)\n",
        "arr_compatible2 = np.array([10, 20, 30]) # Shape (3,) - will be broadcast to (1, 3) and then (3, 3)\n",
        "print(\"Array 1 (shape {}):\\n{}\".format(arr_compatible1.shape, arr_compatible1))\n",
        "print(\"Array 2 (shape {}):\\n{}\".format(arr_compatible2.shape, arr_compatible2))\n",
        "\n",
        "# Demonstrate broadcasting with two compatible arrays (addition)\n",
        "broadcast_compatible_result = arr_compatible1 + arr_compatible2\n",
        "print(\"\\nResult of compatible array broadcasting:\\n\", broadcast_compatible_result)"
      ],
      "execution_count": null,
      "outputs": [
        {
          "output_type": "stream",
          "name": "stdout",
          "text": [
            "Original array:\n",
            " [[1 2 3]\n",
            " [4 5 6]\n",
            " [7 8 9]]\n",
            "\n",
            "Scalar value: 10\n",
            "\n",
            "Result of array + scalar broadcasting:\n",
            " [[11 12 13]\n",
            " [14 15 16]\n",
            " [17 18 19]]\n",
            "\n",
            "--------------------\n",
            "Array 1 (shape (3, 3)):\n",
            "[[1 2 3]\n",
            " [4 5 6]\n",
            " [7 8 9]]\n",
            "Array 2 (shape (3,)):\n",
            "[10 20 30]\n",
            "\n",
            "Result of compatible array broadcasting:\n",
            " [[11 22 33]\n",
            " [14 25 36]\n",
            " [17 28 39]]\n"
          ]
        }
      ]
    },
    {
      "cell_type": "markdown",
      "metadata": {
        "id": "bd5fb484"
      },
      "source": [
        "**Reasoning**:\n",
        "The previous code block successfully demonstrated broadcasting with a scalar and with compatible arrays. Now, I will create two arrays with incompatible shapes and attempt an arithmetic operation to show the broadcasting error, and then finish the subtask.\n",
        "\n"
      ]
    },
    {
      "cell_type": "code",
      "metadata": {
        "colab": {
          "base_uri": "https://localhost:8080/"
        },
        "id": "da5d06b4",
        "outputId": "6a835776-afe9-44f3-84e1-360d9c374c76"
      },
      "source": [
        "# Create two NumPy arrays with incompatible shapes for broadcasting\n",
        "arr_incompatible1 = np.array([[1, 2, 3],\n",
        "                              [4, 5, 6]]) # Shape (2, 3)\n",
        "arr_incompatible2 = np.array([10, 20])    # Shape (2,)\n",
        "\n",
        "print(\"Array 1 (shape {}):\\n{}\".format(arr_incompatible1.shape, arr_incompatible1))\n",
        "print(\"Array 2 (shape {}):\\n{}\".format(arr_incompatible2.shape, arr_incompatible2))\n",
        "\n",
        "# Attempt an arithmetic operation (addition) to show the broadcasting error\n",
        "# This will raise a ValueError because the shapes (2, 3) and (2,) are not compatible for broadcasting\n",
        "try:\n",
        "    broadcast_incompatible_result = arr_incompatible1 + arr_incompatible2\n",
        "    print(\"\\nResult of incompatible array broadcasting:\\n\", broadcast_incompatible_result)\n",
        "except ValueError as e:\n",
        "    print(\"\\nError attempting broadcasting with incompatible shapes:\")\n",
        "    print(e)\n",
        "\n",
        "# Add a comment explaining why it fails\n",
        "# The shapes (2, 3) and (2,) are incompatible for broadcasting because\n",
        "# when comparing the shapes from the trailing dimension forward:\n",
        "# The last dimensions (3 and 2) do not match and neither is 1.\n",
        "# The second to last dimensions (2 and 1 - after padding arr_incompatible2's shape to (1, 2) then stretching)\n",
        "# would be compared as 2 and 1 (after padding and stretching arr_incompatible2 to (2,2)),\n",
        "# leading to a mismatch in the last dimension (3 vs 2).\n"
      ],
      "execution_count": null,
      "outputs": [
        {
          "output_type": "stream",
          "name": "stdout",
          "text": [
            "Array 1 (shape (2, 3)):\n",
            "[[1 2 3]\n",
            " [4 5 6]]\n",
            "Array 2 (shape (2,)):\n",
            "[10 20]\n",
            "\n",
            "Error attempting broadcasting with incompatible shapes:\n",
            "operands could not be broadcast together with shapes (2,3) (2,) \n"
          ]
        }
      ]
    },
    {
      "cell_type": "markdown",
      "metadata": {
        "id": "44d260ea"
      },
      "source": [
        "## Summary:\n",
        "\n",
        "### Data Analysis Key Findings\n",
        "\n",
        "*   NumPy supports element-wise arithmetic operations ($+$, $-$, $*$, $/$), comparison operations ($==$, $!=$, $>$, $<$, $>=$, $<=$,) and aggregate functions (sum, mean, min, max) on arrays.\n",
        "*   Aggregate functions can be applied to the entire array or along specific axes.\n",
        "*   Individual elements and subarrays can be accessed using integer indexing, slicing, boolean indexing, and fancy indexing.\n",
        "*   Broadcasting allows operations between arrays of different shapes under specific compatibility rules, extending the smaller array to match the shape of the larger one.\n",
        "*   Attempting broadcasting with incompatible shapes results in a `ValueError`.\n",
        "\n",
        "### Insights or Next Steps\n",
        "\n",
        "*   Understanding broadcasting is crucial for efficient array operations in NumPy, especially when dealing with arrays of different dimensions or shapes.\n",
        "*   Explore more advanced indexing and slicing techniques, such as using `np.newaxis` or combining different indexing methods.\n"
      ]
    }
  ]
}