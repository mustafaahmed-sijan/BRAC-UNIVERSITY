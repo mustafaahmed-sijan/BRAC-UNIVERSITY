{
  "nbformat": 4,
  "nbformat_minor": 0,
  "metadata": {
    "colab": {
      "provenance": []
    },
    "kernelspec": {
      "name": "python3",
      "display_name": "Python 3"
    },
    "language_info": {
      "name": "python"
    }
  },
  "cells": [
    {
      "cell_type": "markdown",
      "source": [
        "TYPE OF LINKED LIST\n",
        "1. SINGLY LINKED LIST\n",
        "2. DOUBLY LINKED LIST\n",
        "3. CIRCULAR LINKED LIST\n"
      ],
      "metadata": {
        "id": "Q-JBltx2m4PI"
      }
    },
    {
      "cell_type": "code",
      "execution_count": null,
      "metadata": {
        "colab": {
          "base_uri": "https://localhost:8080/",
          "height": 53
        },
        "id": "G1IGq_TRmu2m",
        "outputId": "f9a80cab-6b84-43ec-8d10-965e09431b36"
      },
      "outputs": [
        {
          "output_type": "execute_result",
          "data": {
            "text/plain": [
              "'\\nCREATE A LINKED LIST, INSERT ELEMENT IN LINKED LIST, DELET ELEMENT FROM LINKED LIST, SEARCH AN ELEMENT IN LINKED LIST, SORT THE LINKED LIST\\n'"
            ],
            "application/vnd.google.colaboratory.intrinsic+json": {
              "type": "string"
            }
          },
          "metadata": {},
          "execution_count": 51
        }
      ],
      "source": [
        "#SINGLY LINKED LIST\n",
        "# CRUD OPERATION\n",
        "\"\"\"\n",
        "CREATE A LINKED LIST, INSERT ELEMENT IN LINKED LIST, DELET ELEMENT FROM LINKED LIST, SEARCH AN ELEMENT IN LINKED LIST, SORT THE LINKED LIST\n",
        "\"\"\""
      ]
    },
    {
      "cell_type": "code",
      "source": [
        "#LETS CREATE A LINKED LIST\n",
        "#first we have to create a node using node class\n",
        "\n",
        "class Node:\n",
        "  def __init__(self,data,next=None):\n",
        "    self.data=data\n",
        "    self.next=next\n",
        "\n",
        "     #now we have created node for our linked list and we will also create the first value of our linked list\n",
        "\n",
        "\n",
        "class LinkedList:\n",
        "  def __init__(self,head=None):\n",
        "    self.head=head\n",
        "\n",
        "     #we have created node first and then we created a linked list."
      ],
      "metadata": {
        "id": "Mm-fs8ZMnn2B"
      },
      "execution_count": null,
      "outputs": []
    },
    {
      "cell_type": "markdown",
      "source": [
        "STEP2 : ADDING VALUE TO LINKEDLIST"
      ],
      "metadata": {
        "id": "6kzmgOOFNqNZ"
      }
    },
    {
      "cell_type": "code",
      "source": [
        "#LETS CREATE A LINKED LIST\n",
        "#first we have to create a node using node class\n",
        "\n",
        "class Node:\n",
        "  def __init__(self,data,next=None):\n",
        "    self.data=data\n",
        "    self.next=next\n",
        "\n",
        "     #now we have created node for our linked list and we will also create the first value of our linked list\n",
        "\n",
        "\n",
        "class LinkedList:\n",
        "  def __init__(self,head=None):\n",
        "    self.head=head\n",
        "\n",
        "     #we have created node first and then we created a linked list.\n",
        "\n",
        "  def __init__(self,data):\n",
        "    new=Node(data)\n",
        "\n",
        "    if self.head:\n",
        "      temp=self.head\n",
        "      while temp.next!=None:\n",
        "        temp=temp.next\n",
        "\n",
        "      temp.next=new\n",
        "\n",
        "\n",
        "\n",
        "    else:\n",
        "      self.head=new"
      ],
      "metadata": {
        "id": "67OAgJ4dNwZ1"
      },
      "execution_count": null,
      "outputs": []
    },
    {
      "cell_type": "code",
      "source": [
        "class Node:\n",
        "  def __init__(self,data):\n",
        "    self.data=data\n",
        "    self.ref=None\n",
        "\n",
        "\n",
        "\n",
        "node1=Node(10)\n",
        "print(node1)\n",
        "print(\"node inputed value : \",node1.data)\n",
        "print(\"node location : \", node1)\n",
        "\n",
        "#here we created the node and the location"
      ],
      "metadata": {
        "colab": {
          "base_uri": "https://localhost:8080/"
        },
        "id": "24jNqSSjxFSz",
        "outputId": "f3411e2c-e3fc-44d5-bceb-2bfa355fb880"
      },
      "execution_count": null,
      "outputs": [
        {
          "output_type": "stream",
          "name": "stdout",
          "text": [
            "<__main__.Node object at 0x7c5dcf63b3b0>\n",
            "node inputed value :  10\n",
            "node location :  <__main__.Node object at 0x7c5dcf63b3b0>\n"
          ]
        }
      ]
    },
    {
      "cell_type": "code",
      "source": [
        "class Node:\n",
        "  def __init__(self,data):\n",
        "    self.data=data\n",
        "    self.ref=None\n",
        "\n",
        "\n",
        "class LinkedList:\n",
        "  def __init__(self):\n",
        "    self.head=None    #first head will be none as this is empty linked list\n",
        "\n",
        "\n",
        "  def print_LL(self):\n",
        "    if self.head is None:\n",
        "      print(\"LINKED LIST IS EMPTY !!\")\n",
        "\n",
        "    else:\n",
        "      n=self.head\n",
        "      while n is not None:\n",
        "        print(n.data())\n",
        "        n=n.ref\n",
        "\n",
        "ll1=LinkedList()\n",
        "ll1.print_LL()\n",
        "\n",
        "\n"
      ],
      "metadata": {
        "colab": {
          "base_uri": "https://localhost:8080/"
        },
        "id": "e-Zejo7rx8VO",
        "outputId": "037818b1-dc40-4fd1-8800-b02f03a33203"
      },
      "execution_count": null,
      "outputs": [
        {
          "output_type": "stream",
          "name": "stdout",
          "text": [
            "LINKED LIST IS EMPTY !!\n"
          ]
        }
      ]
    },
    {
      "cell_type": "markdown",
      "source": [
        "#INSERTING ELEMENTS IN LINKED LIST"
      ],
      "metadata": {
        "id": "NPZf8ipB3L16"
      }
    },
    {
      "cell_type": "code",
      "source": [
        "class Node:\n",
        "  def __init__(self,data):\n",
        "    self.data=data\n",
        "    self.ref=None\n",
        "\n",
        "\n",
        "class LinkedList:\n",
        "  def __init__(self):\n",
        "    self.head=None    #first head will be none as this is empty linked list\n",
        "\n",
        "\n",
        "  def print_LL(self):\n",
        "    if self.head is None:\n",
        "      print(\"LINKED LIST IS EMPTY !!\")\n",
        "\n",
        "    else:\n",
        "      n=self.head\n",
        "      while n is not None:\n",
        "        print(n.data)\n",
        "        n=n.ref\n",
        "\n",
        "\n",
        "  def add_begin(self,data):\n",
        "    new_node=Node(data)\n",
        "\n",
        "    new_node.ref=self.head\n",
        "\n",
        "    self.head=new_node\n",
        "\n",
        "\n",
        "\n",
        "ll1=LinkedList()\n",
        "ll1.add_begin(10)\n",
        "ll1.print_LL()\n",
        "\n",
        "\n"
      ],
      "metadata": {
        "colab": {
          "base_uri": "https://localhost:8080/"
        },
        "id": "EFfk24fP4ExA",
        "outputId": "194be91f-49ca-4ff3-9efa-a8534d54fcf5"
      },
      "execution_count": null,
      "outputs": [
        {
          "output_type": "stream",
          "name": "stdout",
          "text": [
            "10\n"
          ]
        }
      ]
    },
    {
      "cell_type": "code",
      "source": [
        "#practies code\n",
        "\n",
        "class Node:\n",
        "  def __init__(self,data):\n",
        "    self.data=data\n",
        "    self.ref=None\n",
        "\n",
        "\n",
        "class LinkedList:\n",
        "  def __init__(self):\n",
        "    self.head=None\n",
        "\n",
        "\n",
        "  def print_LL(self) :\n",
        "    if self.head == None:\n",
        "      print(\"this linked list is empty !! \")\n",
        "    else:\n",
        "\n",
        "      n=self.head\n",
        "\n",
        "      while n is not None:\n",
        "        print(n.data)\n",
        "        n=n.ref\n",
        "\n",
        "\n",
        "  def add_begin(self,data):\n",
        "    new_node=Node(data)\n",
        "    new_node.ref=self.head\n",
        "    self.head=new_node\n",
        "\n",
        "\n",
        "ll1=LinkedList()\n",
        "ll1.add_begin(10)\n",
        "ll1.print_LL()\n",
        "\n",
        "\n"
      ],
      "metadata": {
        "colab": {
          "base_uri": "https://localhost:8080/"
        },
        "id": "6FcvYkzMDszj",
        "outputId": "eda58dc1-18ca-4b59-9032-c319a2c95fea"
      },
      "execution_count": null,
      "outputs": [
        {
          "output_type": "stream",
          "name": "stdout",
          "text": [
            "10\n"
          ]
        }
      ]
    },
    {
      "cell_type": "markdown",
      "source": [
        "\n",
        "#**Adding elements at the end in linked List:**"
      ],
      "metadata": {
        "id": "FFPaVqkXIr86"
      }
    },
    {
      "cell_type": "markdown",
      "metadata": {
        "id": "85945fb9"
      },
      "source": [
        "## Adding Elements in a Linked List\n",
        "\n",
        "Adding elements to a linked list involves creating a new node and linking it into the existing structure. The process varies depending on where you want to add the element:\n",
        "\n",
        "1.  **Adding at the beginning:**\n",
        "    *   Create a new node with the data.\n",
        "    *   Set the `ref` (or `next`) of the new node to the current `head` of the linked list.\n",
        "    *   Update the `head` of the linked list to point to the new node.\n",
        "\n",
        "2.  **Adding at the end:**\n",
        "    *   Create a new node with the data.\n",
        "    *   If the list is empty, set the `head` to the new node.\n",
        "    *   If the list is not empty, traverse the list to find the last node (the node whose `ref` is `None`).\n",
        "    *   Set the `ref` of the last node to the new node.\n",
        "\n",
        "3.  **Adding in between two nodes:**\n",
        "    *   Create a new node with the data.\n",
        "    *   Find the node after which you want to insert the new node.\n",
        "    *   Set the `ref` of the new node to the `ref` of the previous node.\n",
        "    *   Set the `ref` of the previous node to the new node."
      ]
    },
    {
      "cell_type": "markdown",
      "source": [],
      "metadata": {
        "id": "RXgRdaHTJn0q"
      }
    },
    {
      "cell_type": "markdown",
      "metadata": {
        "id": "be2655c3"
      },
      "source": [
        "## Adding Elements at the End of a Linked List\n",
        "\n",
        "To add an element at the end of a linked list:\n",
        "\n",
        "1.  **Create a new node** with the data you want to add.\n",
        "2.  **Check if the linked list is empty.**\n",
        "    *   If it is empty, set the `head` of the linked list to the new node.\n",
        "3.  **If the linked list is not empty,** traverse the list starting from the `head`.\n",
        "    *   Continue moving to the next node until you reach the last node (the node whose `ref` or `next` is `None`).\n",
        "4.  **Set the `ref` (or `next`) of the last node** to point to the new node."
      ]
    },
    {
      "cell_type": "code",
      "source": [
        "class Node:\n",
        "  def __init__(self,data):\n",
        "    self.data=data\n",
        "    self.ref=None\n",
        "\n",
        "\n",
        "class LinkedList:\n",
        "  def __init__(self):\n",
        "    self.head=None\n",
        "\n",
        "\n",
        "  def print_LL(self) :\n",
        "    if self.head == None:\n",
        "      print(\"this linked list is empty !! \")\n",
        "    else:\n",
        "\n",
        "      n=self.head\n",
        "\n",
        "      while n is not None:\n",
        "        print(n.data)\n",
        "        n=n.ref\n",
        "\n",
        "\n",
        "  def add_begin(self,data):\n",
        "    new_node=Node(data)\n",
        "    new_node.ref=self.head\n",
        "    self.head=new_node\n",
        "\n",
        "#++++++++++++++++++++++++++++++++++++\n",
        "  def add_end(self,data):\n",
        "    new_node=Node(data)\n",
        "\n",
        "    if self.head is None:\n",
        "      self.head=new_node\n",
        "    else:\n",
        "      n=self.head\n",
        "      while n.ref is  not None:\n",
        "        n=n.ref\n",
        "        n.ref=new_node\n",
        "\n",
        "#+++++++++++++++++++++++++++++++++++++\n",
        "  def add_after(self,data,x):\n",
        "    n=self.head\n",
        "    while n is not None:\n",
        "      if x==n.data:\n",
        "        break\n",
        "      n=n.ref\n",
        "    if n is None:\n",
        "      print(\"the node is not present in the linkedlist\")\n",
        "    else:\n",
        "      new_node=Node(data)\n",
        "      new_node.ref=n.ref\n",
        "\n",
        "\n",
        "ll1=LinkedList()\n",
        "ll1.add_begin(10)\n",
        "ll1.add_end(20)\n",
        "ll1.print_LL()\n",
        "ll1.add_after(10,20)\n"
      ],
      "metadata": {
        "colab": {
          "base_uri": "https://localhost:8080/"
        },
        "id": "KsD7H-p7J3Cx",
        "outputId": "246df685-966a-4041-a06e-467c5eb83c1c"
      },
      "execution_count": null,
      "outputs": [
        {
          "output_type": "stream",
          "name": "stdout",
          "text": [
            "10\n",
            "the node is not present in the linkedlist\n"
          ]
        }
      ]
    },
    {
      "cell_type": "markdown",
      "source": [
        "#**inserting node between the linked list**\n"
      ],
      "metadata": {
        "id": "DvWlh0pflHjW"
      }
    },
    {
      "cell_type": "markdown",
      "source": [
        "#1. adding after the node\n"
      ],
      "metadata": {
        "id": "_blv7a3PM5os"
      }
    },
    {
      "cell_type": "code",
      "source": [],
      "metadata": {
        "id": "qObX_wsAnnVE"
      },
      "execution_count": null,
      "outputs": []
    }
  ]
}